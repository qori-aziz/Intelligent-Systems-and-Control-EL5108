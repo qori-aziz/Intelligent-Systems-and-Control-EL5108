{
 "cells": [
  {
   "cell_type": "markdown",
   "metadata": {},
   "source": [
    "#  Tugas Linear Regression\n",
    "## Medical Cost Prediction"
   ]
  },
  {
   "cell_type": "markdown",
   "metadata": {},
   "source": [
    "1. Mohammad Qori Aziz Hakiki (23222020)\n",
    "2. La Ode Ansyarullah S. Sagala (23221066)"
   ]
  },
  {
   "cell_type": "markdown",
   "metadata": {},
   "source": [
    "## 1. Problem Understanding"
   ]
  },
  {
   "cell_type": "markdown",
   "metadata": {},
   "source": [
    "Pada insurance.csv, terdapat dataset mengenai Medical Cost. Dataset terdiri dari keterangan-keterangan mengenai responden seperti umur, jenis kelamin responden, indeks massa tubuh (BMI), apakah responden merokok atau tidak, daerah tinggal responden, dan terakhir adalah biaya medis yang dikenakan oleh asuransi kesehatan pada responden.\n",
    "\n",
    "Masalah yang akan kita selesaikan adalah bagaimana memprediksi biaya medis yang akan dibebankan kepada seseorang dengan fitur tertentu. Kita perlu melatih model agar ditemukan bobot masing-masing fitur yang sesuai untuk memprediksi biaya medis. Akan kita lihat apakah dengan regresi linier saja cukup untuk menghadapi persoalan ini, jika tidak maka perlu dilakukan regresi polinomial."
   ]
  },
  {
   "cell_type": "markdown",
   "metadata": {},
   "source": [
    "## 2. Data Visualization and Preprocessing"
   ]
  },
  {
   "cell_type": "markdown",
   "metadata": {},
   "source": [
    "Pada bagian ini akan dilakukan visualisasi dari dataset yang digunakan. Visualisasi data berguna untuk mengetahui karakter data, sehingga kita dapat memiliki gambaran apakah data perlu dinormalisasi atau perlakuan khusus lainnya. Normalisasi dan perlakuan ini disebut dengan *preprocessing*. *preprocessing* berfungsi agar kita dapat melatih model yang lebih baik."
   ]
  },
  {
   "cell_type": "markdown",
   "metadata": {},
   "source": [
    "### a. Import Dataset"
   ]
  },
  {
   "cell_type": "code",
   "execution_count": 1,
   "metadata": {},
   "outputs": [],
   "source": [
    "# Import library\n",
    "import pandas  as pd #Data manipulation\n",
    "import numpy as np #Data manipulation\n",
    "import matplotlib.pyplot as plt # Visualization\n",
    "import seaborn as sns #Visualization\n",
    "plt.rcParams['figure.figsize'] = [8,5]\n",
    "plt.rcParams['font.size'] =14\n",
    "plt.rcParams['font.weight']= 'bold'\n",
    "plt.style.use('seaborn-whitegrid')"
   ]
  },
  {
   "cell_type": "code",
   "execution_count": 2,
   "metadata": {},
   "outputs": [
    {
     "data": {
      "text/html": [
       "<div>\n",
       "<style scoped>\n",
       "    .dataframe tbody tr th:only-of-type {\n",
       "        vertical-align: middle;\n",
       "    }\n",
       "\n",
       "    .dataframe tbody tr th {\n",
       "        vertical-align: top;\n",
       "    }\n",
       "\n",
       "    .dataframe thead th {\n",
       "        text-align: right;\n",
       "    }\n",
       "</style>\n",
       "<table border=\"1\" class=\"dataframe\">\n",
       "  <thead>\n",
       "    <tr style=\"text-align: right;\">\n",
       "      <th></th>\n",
       "      <th>age</th>\n",
       "      <th>sex</th>\n",
       "      <th>bmi</th>\n",
       "      <th>children</th>\n",
       "      <th>smoker</th>\n",
       "      <th>region</th>\n",
       "      <th>charges</th>\n",
       "    </tr>\n",
       "  </thead>\n",
       "  <tbody>\n",
       "    <tr>\n",
       "      <th>0</th>\n",
       "      <td>19</td>\n",
       "      <td>female</td>\n",
       "      <td>27.900</td>\n",
       "      <td>0</td>\n",
       "      <td>yes</td>\n",
       "      <td>southwest</td>\n",
       "      <td>16884.92400</td>\n",
       "    </tr>\n",
       "    <tr>\n",
       "      <th>1</th>\n",
       "      <td>18</td>\n",
       "      <td>male</td>\n",
       "      <td>33.770</td>\n",
       "      <td>1</td>\n",
       "      <td>no</td>\n",
       "      <td>southeast</td>\n",
       "      <td>1725.55230</td>\n",
       "    </tr>\n",
       "    <tr>\n",
       "      <th>2</th>\n",
       "      <td>28</td>\n",
       "      <td>male</td>\n",
       "      <td>33.000</td>\n",
       "      <td>3</td>\n",
       "      <td>no</td>\n",
       "      <td>southeast</td>\n",
       "      <td>4449.46200</td>\n",
       "    </tr>\n",
       "    <tr>\n",
       "      <th>3</th>\n",
       "      <td>33</td>\n",
       "      <td>male</td>\n",
       "      <td>22.705</td>\n",
       "      <td>0</td>\n",
       "      <td>no</td>\n",
       "      <td>northwest</td>\n",
       "      <td>21984.47061</td>\n",
       "    </tr>\n",
       "    <tr>\n",
       "      <th>4</th>\n",
       "      <td>32</td>\n",
       "      <td>male</td>\n",
       "      <td>28.880</td>\n",
       "      <td>0</td>\n",
       "      <td>no</td>\n",
       "      <td>northwest</td>\n",
       "      <td>3866.85520</td>\n",
       "    </tr>\n",
       "    <tr>\n",
       "      <th>...</th>\n",
       "      <td>...</td>\n",
       "      <td>...</td>\n",
       "      <td>...</td>\n",
       "      <td>...</td>\n",
       "      <td>...</td>\n",
       "      <td>...</td>\n",
       "      <td>...</td>\n",
       "    </tr>\n",
       "    <tr>\n",
       "      <th>1333</th>\n",
       "      <td>50</td>\n",
       "      <td>male</td>\n",
       "      <td>30.970</td>\n",
       "      <td>3</td>\n",
       "      <td>no</td>\n",
       "      <td>northwest</td>\n",
       "      <td>10600.54830</td>\n",
       "    </tr>\n",
       "    <tr>\n",
       "      <th>1334</th>\n",
       "      <td>18</td>\n",
       "      <td>female</td>\n",
       "      <td>31.920</td>\n",
       "      <td>0</td>\n",
       "      <td>no</td>\n",
       "      <td>northeast</td>\n",
       "      <td>2205.98080</td>\n",
       "    </tr>\n",
       "    <tr>\n",
       "      <th>1335</th>\n",
       "      <td>18</td>\n",
       "      <td>female</td>\n",
       "      <td>36.850</td>\n",
       "      <td>0</td>\n",
       "      <td>no</td>\n",
       "      <td>southeast</td>\n",
       "      <td>1629.83350</td>\n",
       "    </tr>\n",
       "    <tr>\n",
       "      <th>1336</th>\n",
       "      <td>21</td>\n",
       "      <td>female</td>\n",
       "      <td>25.800</td>\n",
       "      <td>0</td>\n",
       "      <td>no</td>\n",
       "      <td>southwest</td>\n",
       "      <td>2007.94500</td>\n",
       "    </tr>\n",
       "    <tr>\n",
       "      <th>1337</th>\n",
       "      <td>61</td>\n",
       "      <td>female</td>\n",
       "      <td>29.070</td>\n",
       "      <td>0</td>\n",
       "      <td>yes</td>\n",
       "      <td>northwest</td>\n",
       "      <td>29141.36030</td>\n",
       "    </tr>\n",
       "  </tbody>\n",
       "</table>\n",
       "<p>1338 rows × 7 columns</p>\n",
       "</div>"
      ],
      "text/plain": [
       "      age     sex     bmi  children smoker     region      charges\n",
       "0      19  female  27.900         0    yes  southwest  16884.92400\n",
       "1      18    male  33.770         1     no  southeast   1725.55230\n",
       "2      28    male  33.000         3     no  southeast   4449.46200\n",
       "3      33    male  22.705         0     no  northwest  21984.47061\n",
       "4      32    male  28.880         0     no  northwest   3866.85520\n",
       "...   ...     ...     ...       ...    ...        ...          ...\n",
       "1333   50    male  30.970         3     no  northwest  10600.54830\n",
       "1334   18  female  31.920         0     no  northeast   2205.98080\n",
       "1335   18  female  36.850         0     no  southeast   1629.83350\n",
       "1336   21  female  25.800         0     no  southwest   2007.94500\n",
       "1337   61  female  29.070         0    yes  northwest  29141.36030\n",
       "\n",
       "[1338 rows x 7 columns]"
      ]
     },
     "execution_count": 2,
     "metadata": {},
     "output_type": "execute_result"
    }
   ],
   "source": [
    "df = pd.read_csv('insurance.csv')\n",
    "df"
   ]
  },
  {
   "cell_type": "markdown",
   "metadata": {},
   "source": [
    "### b. Pengecekan Missing Data"
   ]
  },
  {
   "cell_type": "markdown",
   "metadata": {},
   "source": [
    "Pengecekan missing data akan mengecek pada seluruh baris kita, apakah ada data yang hilang atau tidak. Misalnya saja, dari 1000 baris data kita, kolom 'age' hanya memiliki 800 baris. Apabila terdapat missing data, kita perlu melakukan *drop* terhadap baris yang memiliki data hilang, atau membuat variabel *dummy* agar data *train* kita tidak berkurang."
   ]
  },
  {
   "cell_type": "code",
   "execution_count": 3,
   "metadata": {},
   "outputs": [
    {
     "name": "stdout",
     "output_type": "stream",
     "text": [
      "<class 'pandas.core.frame.DataFrame'>\n",
      "RangeIndex: 1338 entries, 0 to 1337\n",
      "Data columns (total 7 columns):\n",
      " #   Column    Non-Null Count  Dtype  \n",
      "---  ------    --------------  -----  \n",
      " 0   age       1338 non-null   int64  \n",
      " 1   sex       1338 non-null   object \n",
      " 2   bmi       1338 non-null   float64\n",
      " 3   children  1338 non-null   int64  \n",
      " 4   smoker    1338 non-null   object \n",
      " 5   region    1338 non-null   object \n",
      " 6   charges   1338 non-null   float64\n",
      "dtypes: float64(2), int64(2), object(3)\n",
      "memory usage: 73.3+ KB\n"
     ]
    }
   ],
   "source": [
    "# Pengecekan missing data\n",
    "df.info()"
   ]
  },
  {
   "cell_type": "markdown",
   "metadata": {},
   "source": [
    "Dapat terlihat bahwa dataset kita tidak memiliki data yang hilang."
   ]
  },
  {
   "cell_type": "markdown",
   "metadata": {},
   "source": [
    "### c. Visualisasi Data Target"
   ]
  },
  {
   "cell_type": "code",
   "execution_count": 4,
   "metadata": {},
   "outputs": [
    {
     "name": "stderr",
     "output_type": "stream",
     "text": [
      "c:\\Users\\muham\\AppData\\Local\\Programs\\Python\\Python39\\lib\\site-packages\\seaborn\\distributions.py:2619: FutureWarning: `distplot` is a deprecated function and will be removed in a future version. Please adapt your code to use either `displot` (a figure-level function with similar flexibility) or `histplot` (an axes-level function for histograms).\n",
      "  warnings.warn(msg, FutureWarning)\n"
     ]
    },
    {
     "data": {
      "text/plain": [
       "Text(0.5, 1.0, 'Distribusi Data Biaya Kesehatan')"
      ]
     },
     "execution_count": 4,
     "metadata": {},
     "output_type": "execute_result"
    },
    {
     "data": {
      "image/png": "[encoded data removed]",
      "text/plain": [
       "<Figure size 864x288 with 1 Axes>"
      ]
     },
     "metadata": {},
     "output_type": "display_data"
    }
   ],
   "source": [
    "# Visualisasi data target\n",
    "f= plt.figure(figsize=(12,4))\n",
    "\n",
    "ax=f.add_subplot(121)\n",
    "sns.distplot(df['charges'],bins=50,color='g',ax=ax)\n",
    "ax.set_title('Distribusi Data Biaya Kesehatan')"
   ]
  },
  {
   "cell_type": "markdown",
   "metadata": {},
   "source": [
    "Dapat terlihat bahwa dataset yang kita miliki tidak berbentuk distribusi normal gaussian ideal. Data yang kita miliki berbentuk *right-skewed*. Dalam metode statistik, seringkali kita perlu untuk mentransformasikan variabel dependen kita menjadi bentuk distribusi normal gaussian.\n",
    "\n",
    "Namun, dari beberapa referensi, seperti pada link [ini](https://iovs.arvojournals.org/article.aspx?articleid=2128171), regresi linear tetap dapat memiliki hasil baik secara statistik pada sampel yang banyak.\n",
    "\n",
    "Oleh karena itu, kita akan tetap menggunakan data awal tanpa transformasi ke distribusi normal."
   ]
  },
  {
   "cell_type": "markdown",
   "metadata": {},
   "source": [
    "### d. Encoding Data Kategori "
   ]
  },
  {
   "cell_type": "markdown",
   "metadata": {},
   "source": [
    "Untuk melakukan analisis pada data non numerik seperti *sex*, *region*, dan *smoker*, maka kita perlu mentransformasi data-data tersebut ke bentuk numerik. Hal ini disebut juga dengan *encoding*.\n",
    "\n",
    "Data yang kita perlu lakukan *encoding* terkadang tidak hanya data non-numerik saja. Ada juga data numerik yang secara analitis perlu kita *encode*. Misalnya saja, saat kita memiliki data numerik jumlah pintu mobil vs harga mobil. Apakah memang mobil yang memiliki 2 pintu dibandingkan dengan mobil 4 pintu akan membuat harga mobil menjadi turun/naik? Pada kasus ini, kemungkinan kita perlu mengasumsikan pintu mobil adalah sebuah kategori tersendiri yang perlu kita *encode*.\n",
    "\n",
    "Oleh karena itu, walaupun jumlah anak disini adalah data numerik, kita dapat tetap menganggapnya sebagai kategori dan melakukan *one hot encoding*. Dengan perintah get_dummies dari pandas, kita dapat langsung melakukan *encoding* terhadap dataframe kita.\n",
    "\n",
    "Namun, di tugas kali ini kami menganggap jumlah anak adalah variabel non kategori, berbeda dengan referensi pada Kaggle."
   ]
  },
  {
   "cell_type": "code",
   "execution_count": 5,
   "metadata": {},
   "outputs": [
    {
     "data": {
      "text/html": [
       "<div>\n",
       "<style scoped>\n",
       "    .dataframe tbody tr th:only-of-type {\n",
       "        vertical-align: middle;\n",
       "    }\n",
       "\n",
       "    .dataframe tbody tr th {\n",
       "        vertical-align: top;\n",
       "    }\n",
       "\n",
       "    .dataframe thead th {\n",
       "        text-align: right;\n",
       "    }\n",
       "</style>\n",
       "<table border=\"1\" class=\"dataframe\">\n",
       "  <thead>\n",
       "    <tr style=\"text-align: right;\">\n",
       "      <th></th>\n",
       "      <th>age</th>\n",
       "      <th>bmi</th>\n",
       "      <th>children</th>\n",
       "      <th>charges</th>\n",
       "      <th>enc_male</th>\n",
       "      <th>enc_yes</th>\n",
       "      <th>enc_northwest</th>\n",
       "      <th>enc_southeast</th>\n",
       "      <th>enc_southwest</th>\n",
       "    </tr>\n",
       "  </thead>\n",
       "  <tbody>\n",
       "    <tr>\n",
       "      <th>0</th>\n",
       "      <td>19</td>\n",
       "      <td>27.900</td>\n",
       "      <td>0</td>\n",
       "      <td>16884.92400</td>\n",
       "      <td>0</td>\n",
       "      <td>1</td>\n",
       "      <td>0</td>\n",
       "      <td>0</td>\n",
       "      <td>1</td>\n",
       "    </tr>\n",
       "    <tr>\n",
       "      <th>1</th>\n",
       "      <td>18</td>\n",
       "      <td>33.770</td>\n",
       "      <td>1</td>\n",
       "      <td>1725.55230</td>\n",
       "      <td>1</td>\n",
       "      <td>0</td>\n",
       "      <td>0</td>\n",
       "      <td>1</td>\n",
       "      <td>0</td>\n",
       "    </tr>\n",
       "    <tr>\n",
       "      <th>2</th>\n",
       "      <td>28</td>\n",
       "      <td>33.000</td>\n",
       "      <td>3</td>\n",
       "      <td>4449.46200</td>\n",
       "      <td>1</td>\n",
       "      <td>0</td>\n",
       "      <td>0</td>\n",
       "      <td>1</td>\n",
       "      <td>0</td>\n",
       "    </tr>\n",
       "    <tr>\n",
       "      <th>3</th>\n",
       "      <td>33</td>\n",
       "      <td>22.705</td>\n",
       "      <td>0</td>\n",
       "      <td>21984.47061</td>\n",
       "      <td>1</td>\n",
       "      <td>0</td>\n",
       "      <td>1</td>\n",
       "      <td>0</td>\n",
       "      <td>0</td>\n",
       "    </tr>\n",
       "    <tr>\n",
       "      <th>4</th>\n",
       "      <td>32</td>\n",
       "      <td>28.880</td>\n",
       "      <td>0</td>\n",
       "      <td>3866.85520</td>\n",
       "      <td>1</td>\n",
       "      <td>0</td>\n",
       "      <td>1</td>\n",
       "      <td>0</td>\n",
       "      <td>0</td>\n",
       "    </tr>\n",
       "  </tbody>\n",
       "</table>\n",
       "</div>"
      ],
      "text/plain": [
       "   age     bmi  children      charges  enc_male  enc_yes  enc_northwest  \\\n",
       "0   19  27.900         0  16884.92400         0        1              0   \n",
       "1   18  33.770         1   1725.55230         1        0              0   \n",
       "2   28  33.000         3   4449.46200         1        0              0   \n",
       "3   33  22.705         0  21984.47061         1        0              1   \n",
       "4   32  28.880         0   3866.85520         1        0              1   \n",
       "\n",
       "   enc_southeast  enc_southwest  \n",
       "0              0              1  \n",
       "1              1              0  \n",
       "2              1              0  \n",
       "3              0              0  \n",
       "4              0              0  "
      ]
     },
     "execution_count": 5,
     "metadata": {},
     "output_type": "execute_result"
    }
   ],
   "source": [
    "# One hot encoding, add drop_first to drop unnecessary columns, such as smoker_no, or female, since they are dependent\n",
    "from os import sep\n",
    "\n",
    "\n",
    "df = pd.get_dummies(df, columns=[\"sex\", \"smoker\", \"region\"], drop_first =True, prefix = 'enc', prefix_sep = '_')\n",
    "df.head()"
   ]
  },
  {
   "cell_type": "code",
   "execution_count": 6,
   "metadata": {},
   "outputs": [
    {
     "data": {
      "text/html": [
       "<div>\n",
       "<style scoped>\n",
       "    .dataframe tbody tr th:only-of-type {\n",
       "        vertical-align: middle;\n",
       "    }\n",
       "\n",
       "    .dataframe tbody tr th {\n",
       "        vertical-align: top;\n",
       "    }\n",
       "\n",
       "    .dataframe thead th {\n",
       "        text-align: right;\n",
       "    }\n",
       "</style>\n",
       "<table border=\"1\" class=\"dataframe\">\n",
       "  <thead>\n",
       "    <tr style=\"text-align: right;\">\n",
       "      <th></th>\n",
       "      <th>age</th>\n",
       "      <th>bmi</th>\n",
       "      <th>children</th>\n",
       "      <th>enc_southwest</th>\n",
       "      <th>enc_male</th>\n",
       "      <th>enc_yes</th>\n",
       "      <th>enc_northwest</th>\n",
       "      <th>enc_southeast</th>\n",
       "      <th>charges</th>\n",
       "    </tr>\n",
       "  </thead>\n",
       "  <tbody>\n",
       "    <tr>\n",
       "      <th>0</th>\n",
       "      <td>19</td>\n",
       "      <td>27.900</td>\n",
       "      <td>0</td>\n",
       "      <td>1</td>\n",
       "      <td>0</td>\n",
       "      <td>1</td>\n",
       "      <td>0</td>\n",
       "      <td>0</td>\n",
       "      <td>16884.92400</td>\n",
       "    </tr>\n",
       "    <tr>\n",
       "      <th>1</th>\n",
       "      <td>18</td>\n",
       "      <td>33.770</td>\n",
       "      <td>1</td>\n",
       "      <td>0</td>\n",
       "      <td>1</td>\n",
       "      <td>0</td>\n",
       "      <td>0</td>\n",
       "      <td>1</td>\n",
       "      <td>1725.55230</td>\n",
       "    </tr>\n",
       "    <tr>\n",
       "      <th>2</th>\n",
       "      <td>28</td>\n",
       "      <td>33.000</td>\n",
       "      <td>3</td>\n",
       "      <td>0</td>\n",
       "      <td>1</td>\n",
       "      <td>0</td>\n",
       "      <td>0</td>\n",
       "      <td>1</td>\n",
       "      <td>4449.46200</td>\n",
       "    </tr>\n",
       "    <tr>\n",
       "      <th>3</th>\n",
       "      <td>33</td>\n",
       "      <td>22.705</td>\n",
       "      <td>0</td>\n",
       "      <td>0</td>\n",
       "      <td>1</td>\n",
       "      <td>0</td>\n",
       "      <td>1</td>\n",
       "      <td>0</td>\n",
       "      <td>21984.47061</td>\n",
       "    </tr>\n",
       "    <tr>\n",
       "      <th>4</th>\n",
       "      <td>32</td>\n",
       "      <td>28.880</td>\n",
       "      <td>0</td>\n",
       "      <td>0</td>\n",
       "      <td>1</td>\n",
       "      <td>0</td>\n",
       "      <td>1</td>\n",
       "      <td>0</td>\n",
       "      <td>3866.85520</td>\n",
       "    </tr>\n",
       "  </tbody>\n",
       "</table>\n",
       "</div>"
      ],
      "text/plain": [
       "   age     bmi  children  enc_southwest  enc_male  enc_yes  enc_northwest  \\\n",
       "0   19  27.900         0              1         0        1              0   \n",
       "1   18  33.770         1              0         1        0              0   \n",
       "2   28  33.000         3              0         1        0              0   \n",
       "3   33  22.705         0              0         1        0              1   \n",
       "4   32  28.880         0              0         1        0              1   \n",
       "\n",
       "   enc_southeast      charges  \n",
       "0              0  16884.92400  \n",
       "1              1   1725.55230  \n",
       "2              1   4449.46200  \n",
       "3              0  21984.47061  \n",
       "4              0   3866.85520  "
      ]
     },
     "execution_count": 6,
     "metadata": {},
     "output_type": "execute_result"
    }
   ],
   "source": [
    "# Reswap columns\n",
    "def swap_columns(df, col1, col2):\n",
    "    col_list = list(df.columns)\n",
    "    x, y = col_list.index(col1), col_list.index(col2)\n",
    "    col_list[y], col_list[x] = col_list[x], col_list[y]\n",
    "    df = df[col_list]\n",
    "    return df\n",
    "\n",
    "df = swap_columns(df, 'charges', 'enc_southwest')\n",
    "df.head()"
   ]
  },
  {
   "cell_type": "markdown",
   "metadata": {},
   "source": [
    "### e. Visualisasi dan Pengecekan Plot Korelasi"
   ]
  },
  {
   "cell_type": "markdown",
   "metadata": {},
   "source": [
    "Pada bagian ini akan dilakukan visualisasi *correlation plot*. *Correlation plot* berguna untuk menunjukkan korelasi-korelasi antar variabel. Apabila satu variabel x berkorelasi terhadap variabel lainnya, maka dapat dikatakan keduanya dependen satu sama lain. Kita menginginkan bahwa satu-satunya variabel dependen adalah target kita, yaitu *medical cost*, sedangkan variabel lainnya adalah variabel independen yang tidak bergantung satu sama lain."
   ]
  },
  {
   "cell_type": "code",
   "execution_count": 7,
   "metadata": {},
   "outputs": [
    {
     "data": {
      "text/plain": [
       "<AxesSubplot:>"
      ]
     },
     "execution_count": 7,
     "metadata": {},
     "output_type": "execute_result"
    },
    {
     "data": {
      "image/png": "[encoded data removed]",
      "text/plain": [
       "<Figure size 1080x720 with 2 Axes>"
      ]
     },
     "metadata": {},
     "output_type": "display_data"
    }
   ],
   "source": [
    "# Visualisasi correlation plot\n",
    "correlation = df.corr()\n",
    "plt.figure(figsize=(15, 10))\n",
    "sns.heatmap(correlation, annot=True, cmap=\"coolwarm\", fmt=\".2g\")"
   ]
  },
  {
   "cell_type": "markdown",
   "metadata": {},
   "source": [
    "Dapat terlihat bahwa variabel kita sudah cukup independen satu sama lain."
   ]
  },
  {
   "cell_type": "markdown",
   "metadata": {},
   "source": [
    "Dari plot korelasi juga kita dapat mengetahui kira-kira variable mana yang paling berpengaruh dalam menentukan medical cost, yaitu apakah responden merokok atau tidak. Hubungan antara keduanya dapat kita lihat pada plot berikut:"
   ]
  },
  {
   "cell_type": "code",
   "execution_count": 21,
   "metadata": {},
   "outputs": [
    {
     "data": {
      "text/plain": [
       "<AxesSubplot:xlabel='enc_yes', ylabel='charges'>"
      ]
     },
     "execution_count": 21,
     "metadata": {},
     "output_type": "execute_result"
    },
    {
     "data": {
      "image/png": "[encoded data removed]",
      "text/plain": [
       "<Figure size 576x360 with 1 Axes>"
      ]
     },
     "metadata": {},
     "output_type": "display_data"
    }
   ],
   "source": [
    "sns.violinplot(x='enc_yes', y='charges', data=df)"
   ]
  },
  {
   "cell_type": "markdown",
   "metadata": {},
   "source": [
    "### f. Visualisasi dan Normalisasi Variabel Independen"
   ]
  },
  {
   "cell_type": "markdown",
   "metadata": {},
   "source": [
    "Pada langkah ini kita akan melakukan visualisasi variabel independen untuk melihat apakah data kita sudah normal atau belum.\n",
    "Apabila data kita belum normal, maka perlu dilakukan normalisasi.\n",
    "\n",
    "Kita memerlukan normalisasi karena algoritma *machine learning* secara umum akan mencapai konvergensi lebih cepat apabila variabel-variabel independennya berada di skala yang sama.\n",
    "\n",
    "Pertama kita akan memvisualisasikan age, children, bmi dan charges. Hal ini karena kolom lainnya sudah kita lakukan *encoding* sehingga skalanya 0-1."
   ]
  },
  {
   "cell_type": "code",
   "execution_count": 8,
   "metadata": {},
   "outputs": [
    {
     "data": {
      "text/plain": [
       "<AxesSubplot:ylabel='charges'>"
      ]
     },
     "execution_count": 8,
     "metadata": {},
     "output_type": "execute_result"
    },
    {
     "data": {
      "image/png": "[encoded data removed]",
      "text/plain": [
       "<Figure size 360x360 with 1 Axes>"
      ]
     },
     "metadata": {},
     "output_type": "display_data"
    },
    {
     "data": {
      "image/png": "[encoded data removed]",
      "text/plain": [
       "<Figure size 360x360 with 1 Axes>"
      ]
     },
     "metadata": {},
     "output_type": "display_data"
    },
    {
     "data": {
      "image/png": "[encoded data removed]",
      "text/plain": [
       "<Figure size 360x360 with 1 Axes>"
      ]
     },
     "metadata": {},
     "output_type": "display_data"
    },
    {
     "data": {
      "image/png": "[encoded data removed]",
      "text/plain": [
       "<Figure size 360x360 with 1 Axes>"
      ]
     },
     "metadata": {},
     "output_type": "display_data"
    }
   ],
   "source": [
    "# Visualisasi boxplot dengan seaborn\n",
    "sns.set_style(\"whitegrid\")\n",
    "\n",
    "plt.figure(figsize=(5, 5))\n",
    "sns.boxplot(data = df, y = 'age', palette=\"rainbow\")\n",
    "plt.figure(figsize=(5, 5))\n",
    "sns.boxplot(data = df, y = 'bmi', palette=\"magma\")\n",
    "plt.figure(figsize=(5, 5))\n",
    "sns.boxplot(data = df, y = 'children', palette=\"magma\")\n",
    "plt.figure(figsize=(5, 5))\n",
    "sns.boxplot(data = df, y = 'charges', palette=\"magma\")"
   ]
  },
  {
   "cell_type": "markdown",
   "metadata": {},
   "source": [
    "Dapat terlihat bahwa data kita memiliki skala yang tidak normal. Oleh karena itu, akan kita lakukan *max min scaling* terhadap data umur, BMI, dan harga kita."
   ]
  },
  {
   "cell_type": "code",
   "execution_count": 9,
   "metadata": {},
   "outputs": [
    {
     "data": {
      "text/html": [
       "<div>\n",
       "<style scoped>\n",
       "    .dataframe tbody tr th:only-of-type {\n",
       "        vertical-align: middle;\n",
       "    }\n",
       "\n",
       "    .dataframe tbody tr th {\n",
       "        vertical-align: top;\n",
       "    }\n",
       "\n",
       "    .dataframe thead th {\n",
       "        text-align: right;\n",
       "    }\n",
       "</style>\n",
       "<table border=\"1\" class=\"dataframe\">\n",
       "  <thead>\n",
       "    <tr style=\"text-align: right;\">\n",
       "      <th></th>\n",
       "      <th>0</th>\n",
       "    </tr>\n",
       "  </thead>\n",
       "  <tbody>\n",
       "    <tr>\n",
       "      <th>0</th>\n",
       "      <td>0.251611</td>\n",
       "    </tr>\n",
       "    <tr>\n",
       "      <th>1</th>\n",
       "      <td>0.009636</td>\n",
       "    </tr>\n",
       "    <tr>\n",
       "      <th>2</th>\n",
       "      <td>0.053115</td>\n",
       "    </tr>\n",
       "    <tr>\n",
       "      <th>3</th>\n",
       "      <td>0.333010</td>\n",
       "    </tr>\n",
       "    <tr>\n",
       "      <th>4</th>\n",
       "      <td>0.043816</td>\n",
       "    </tr>\n",
       "  </tbody>\n",
       "</table>\n",
       "</div>"
      ],
      "text/plain": [
       "          0\n",
       "0  0.251611\n",
       "1  0.009636\n",
       "2  0.053115\n",
       "3  0.333010\n",
       "4  0.043816"
      ]
     },
     "execution_count": 9,
     "metadata": {},
     "output_type": "execute_result"
    }
   ],
   "source": [
    "from sklearn import preprocessing\n",
    "\n",
    "\n",
    "y = df['charges']\n",
    "X = df.drop('charges', axis=1)\n",
    "# Normalize the data\n",
    "min_max_scaler = preprocessing.MinMaxScaler()\n",
    "X = min_max_scaler.fit_transform(X.values.reshape(-1, X.shape[1]))\n",
    "y = min_max_scaler.fit_transform(y.values.reshape(-1, 1))\n",
    "\n",
    "X = pd.DataFrame(X)\n",
    "y = pd.DataFrame(y)\n",
    "y.head()"
   ]
  },
  {
   "cell_type": "code",
   "execution_count": 10,
   "metadata": {},
   "outputs": [
    {
     "data": {
      "text/html": [
       "<div>\n",
       "<style scoped>\n",
       "    .dataframe tbody tr th:only-of-type {\n",
       "        vertical-align: middle;\n",
       "    }\n",
       "\n",
       "    .dataframe tbody tr th {\n",
       "        vertical-align: top;\n",
       "    }\n",
       "\n",
       "    .dataframe thead th {\n",
       "        text-align: right;\n",
       "    }\n",
       "</style>\n",
       "<table border=\"1\" class=\"dataframe\">\n",
       "  <thead>\n",
       "    <tr style=\"text-align: right;\">\n",
       "      <th></th>\n",
       "      <th>0</th>\n",
       "      <th>1</th>\n",
       "      <th>2</th>\n",
       "      <th>3</th>\n",
       "      <th>4</th>\n",
       "      <th>5</th>\n",
       "      <th>6</th>\n",
       "      <th>7</th>\n",
       "    </tr>\n",
       "  </thead>\n",
       "  <tbody>\n",
       "    <tr>\n",
       "      <th>0</th>\n",
       "      <td>0.021739</td>\n",
       "      <td>0.321227</td>\n",
       "      <td>0.0</td>\n",
       "      <td>1.0</td>\n",
       "      <td>0.0</td>\n",
       "      <td>1.0</td>\n",
       "      <td>0.0</td>\n",
       "      <td>0.0</td>\n",
       "    </tr>\n",
       "    <tr>\n",
       "      <th>1</th>\n",
       "      <td>0.000000</td>\n",
       "      <td>0.479150</td>\n",
       "      <td>0.2</td>\n",
       "      <td>0.0</td>\n",
       "      <td>1.0</td>\n",
       "      <td>0.0</td>\n",
       "      <td>0.0</td>\n",
       "      <td>1.0</td>\n",
       "    </tr>\n",
       "    <tr>\n",
       "      <th>2</th>\n",
       "      <td>0.217391</td>\n",
       "      <td>0.458434</td>\n",
       "      <td>0.6</td>\n",
       "      <td>0.0</td>\n",
       "      <td>1.0</td>\n",
       "      <td>0.0</td>\n",
       "      <td>0.0</td>\n",
       "      <td>1.0</td>\n",
       "    </tr>\n",
       "    <tr>\n",
       "      <th>3</th>\n",
       "      <td>0.326087</td>\n",
       "      <td>0.181464</td>\n",
       "      <td>0.0</td>\n",
       "      <td>0.0</td>\n",
       "      <td>1.0</td>\n",
       "      <td>0.0</td>\n",
       "      <td>1.0</td>\n",
       "      <td>0.0</td>\n",
       "    </tr>\n",
       "    <tr>\n",
       "      <th>4</th>\n",
       "      <td>0.304348</td>\n",
       "      <td>0.347592</td>\n",
       "      <td>0.0</td>\n",
       "      <td>0.0</td>\n",
       "      <td>1.0</td>\n",
       "      <td>0.0</td>\n",
       "      <td>1.0</td>\n",
       "      <td>0.0</td>\n",
       "    </tr>\n",
       "  </tbody>\n",
       "</table>\n",
       "</div>"
      ],
      "text/plain": [
       "          0         1    2    3    4    5    6    7\n",
       "0  0.021739  0.321227  0.0  1.0  0.0  1.0  0.0  0.0\n",
       "1  0.000000  0.479150  0.2  0.0  1.0  0.0  0.0  1.0\n",
       "2  0.217391  0.458434  0.6  0.0  1.0  0.0  0.0  1.0\n",
       "3  0.326087  0.181464  0.0  0.0  1.0  0.0  1.0  0.0\n",
       "4  0.304348  0.347592  0.0  0.0  1.0  0.0  1.0  0.0"
      ]
     },
     "execution_count": 10,
     "metadata": {},
     "output_type": "execute_result"
    }
   ],
   "source": [
    "X.head()"
   ]
  },
  {
   "cell_type": "markdown",
   "metadata": {},
   "source": [
    "## 3. Linear Regression"
   ]
  },
  {
   "cell_type": "markdown",
   "metadata": {},
   "source": [
    "Setelah kita mendapatkan pehamaman pada dataset kita dan sudah melakukan *preprocessing*, maka kita siap untuk melakukan *training* pada model. Tahapan ini kita bagi menjadi beberapa tahapan, yaitu:\n",
    " -  Splitting data training dan validation\n",
    " -  Training model regresi linear orde 1\n",
    " -  Evaluasi dan Validasi Model\n",
    " -  Kesimpulan"
   ]
  },
  {
   "cell_type": "markdown",
   "metadata": {},
   "source": [
    "### a. Splitting data training dan validation / testing"
   ]
  },
  {
   "cell_type": "markdown",
   "metadata": {},
   "source": [
    "Pada tahap ini kita akan melakukan splitting data. Rasio yang umum digunakan adalah 70/30, tapi untuk dataset yang berukuran kecil, 90/10 juga umum digunakan."
   ]
  },
  {
   "cell_type": "code",
   "execution_count": 11,
   "metadata": {},
   "outputs": [
    {
     "name": "stdout",
     "output_type": "stream",
     "text": [
      "Dimensi - X_train: (936, 8), X_val: (402, 8), y_train: (936, 1), y_val: (402, 1)\n"
     ]
    }
   ],
   "source": [
    "from sklearn.model_selection import train_test_split\n",
    "\n",
    "# Split the data into a training and a test set\n",
    "X_train, X_val, y_train, y_val = train_test_split(X, y, test_size=0.3, random_state=0)\n",
    "\n",
    "print(f\"Dimensi - X_train: {X_train.shape}, X_val: {X_val.shape}, y_train: {y_train.shape}, y_val: {y_val.shape}\")"
   ]
  },
  {
   "cell_type": "markdown",
   "metadata": {},
   "source": [
    "### b. Training model regresi linear (orde 1)"
   ]
  },
  {
   "cell_type": "markdown",
   "metadata": {},
   "source": [
    "Dengan menggunakan library scikit learn, kita tidak perlu mendefinisikan fungsi algoritma regresi linear. Kita cukup memanggil library LinearRegression() dan melakukan fit pada model."
   ]
  },
  {
   "cell_type": "code",
   "execution_count": 12,
   "metadata": {},
   "outputs": [
    {
     "data": {
      "text/plain": [
       "LinearRegression()"
      ]
     },
     "execution_count": 12,
     "metadata": {},
     "output_type": "execute_result"
    }
   ],
   "source": [
    "# Gunakan library LinearRegression sklearn\n",
    "from sklearn.linear_model import LinearRegression\n",
    "model_orde1 = LinearRegression()\n",
    "model_orde1.fit(X_train,y_train)"
   ]
  },
  {
   "cell_type": "markdown",
   "metadata": {},
   "source": [
    "Dengan cukup 3 baris di atas, kita telah mendapatkan model regresi linear yang lengkap.\n",
    "\n",
    "Berikutnya, kita akan mengeluarkan data koefisien masing-masing variabel untuk melakukan pengamatan terhadap korelasi tiap variabel output."
   ]
  },
  {
   "cell_type": "code",
   "execution_count": 13,
   "metadata": {},
   "outputs": [
    {
     "name": "stdout",
     "output_type": "stream",
     "text": [
      "(9,)\n"
     ]
    },
    {
     "data": {
      "text/html": [
       "<div>\n",
       "<style scoped>\n",
       "    .dataframe tbody tr th:only-of-type {\n",
       "        vertical-align: middle;\n",
       "    }\n",
       "\n",
       "    .dataframe tbody tr th {\n",
       "        vertical-align: top;\n",
       "    }\n",
       "\n",
       "    .dataframe thead th {\n",
       "        text-align: right;\n",
       "    }\n",
       "</style>\n",
       "<table border=\"1\" class=\"dataframe\">\n",
       "  <thead>\n",
       "    <tr style=\"text-align: right;\">\n",
       "      <th></th>\n",
       "      <th>variable</th>\n",
       "      <th>coefficient</th>\n",
       "    </tr>\n",
       "  </thead>\n",
       "  <tbody>\n",
       "    <tr>\n",
       "      <th>0</th>\n",
       "      <td>bias</td>\n",
       "      <td>-0.047708</td>\n",
       "    </tr>\n",
       "    <tr>\n",
       "      <th>1</th>\n",
       "      <td>age</td>\n",
       "      <td>0.188289</td>\n",
       "    </tr>\n",
       "    <tr>\n",
       "      <th>2</th>\n",
       "      <td>bmi</td>\n",
       "      <td>0.198978</td>\n",
       "    </tr>\n",
       "    <tr>\n",
       "      <th>3</th>\n",
       "      <td>children</td>\n",
       "      <td>0.037727</td>\n",
       "    </tr>\n",
       "    <tr>\n",
       "      <th>4</th>\n",
       "      <td>enc_southwest</td>\n",
       "      <td>-0.012761</td>\n",
       "    </tr>\n",
       "    <tr>\n",
       "      <th>5</th>\n",
       "      <td>enc_male</td>\n",
       "      <td>-0.000759</td>\n",
       "    </tr>\n",
       "    <tr>\n",
       "      <th>6</th>\n",
       "      <td>enc_yes</td>\n",
       "      <td>0.374087</td>\n",
       "    </tr>\n",
       "    <tr>\n",
       "      <th>7</th>\n",
       "      <td>enc_northwest</td>\n",
       "      <td>-0.008969</td>\n",
       "    </tr>\n",
       "    <tr>\n",
       "      <th>8</th>\n",
       "      <td>enc_southeast</td>\n",
       "      <td>-0.015878</td>\n",
       "    </tr>\n",
       "    <tr>\n",
       "      <th>9</th>\n",
       "      <td>charges</td>\n",
       "      <td>NaN</td>\n",
       "    </tr>\n",
       "  </tbody>\n",
       "</table>\n",
       "</div>"
      ],
      "text/plain": [
       "        variable  coefficient\n",
       "0           bias    -0.047708\n",
       "1            age     0.188289\n",
       "2            bmi     0.198978\n",
       "3       children     0.037727\n",
       "4  enc_southwest    -0.012761\n",
       "5       enc_male    -0.000759\n",
       "6        enc_yes     0.374087\n",
       "7  enc_northwest    -0.008969\n",
       "8  enc_southeast    -0.015878\n",
       "9        charges          NaN"
      ]
     },
     "execution_count": 13,
     "metadata": {},
     "output_type": "execute_result"
    }
   ],
   "source": [
    "variable = ['bias'] + list(df.columns.values)\n",
    "parameter_df = pd.DataFrame({'variable':variable})\n",
    "# print(list(model_orde1.coef_))\n",
    "\n",
    "coeff = model_orde1.coef_.flatten()\n",
    "coeff = np.insert(coeff, 0, model_orde1.intercept_)\n",
    "print(coeff.shape)\n",
    "parameter_df = parameter_df.join(pd.Series(coeff, name='coefficient'))\n",
    "\n",
    "parameter_df"
   ]
  },
  {
   "cell_type": "markdown",
   "metadata": {},
   "source": [
    "### c. Evaluasi dan Validasi Model"
   ]
  },
  {
   "cell_type": "markdown",
   "metadata": {},
   "source": [
    "Untuk melakukan evaluasi dan validasi model, kita akan menggunakan dataset validation yang telah kita split di atas.\n",
    "Pertama-tama, kita akan mencari nilai harga terprediksi dari model. Kemudian, kita akan memvalidasi model dengan menghitung error antara target (harga sebenernya) dengan *predicted value*.\n",
    "\n",
    "Ada beberapa cara yang dapat kita gunakan untuk membuat dan validasi model. Pada tugas ini, kita menggunakan pendekatan *Hold Out Validation*, terlihat dari splitting yang kita lakukan. Metode lainnya adalahnya K-Fold Cross Validation, Stratified K-Fold, LOOCV, dan lainnya."
   ]
  },
  {
   "cell_type": "code",
   "execution_count": 14,
   "metadata": {},
   "outputs": [
    {
     "name": "stdout",
     "output_type": "stream",
     "text": [
      "Mean Square Error pada validation set orde 1:  0.008495247324899842\n",
      "R square model pada validation set orde 1: 0.7909160991789904\n",
      "Error maksimum pada model orde 1 : 0.3523714497516667\n"
     ]
    }
   ],
   "source": [
    "# Cari y_pred\n",
    "y_pred = model_orde1.predict(X_val)\n",
    "\n",
    "# Hitung Mean Squared Error\n",
    "from sklearn.metrics import mean_squared_error\n",
    "mse = mean_squared_error(y_pred, y_val)\n",
    "\n",
    "# Hitung R_square\n",
    "r_square = model_orde1.score(X_val,y_val)\n",
    "\n",
    "# Hitung maximum error\n",
    "from sklearn.metrics import max_error\n",
    "max_err = max_error(y_val, y_pred)\n",
    "print('Mean Square Error pada validation set orde 1: ',mse)\n",
    "print('R square model pada validation set orde 1:',r_square)\n",
    "print('Error maksimum pada model orde 1 :',max_err)"
   ]
  },
  {
   "cell_type": "code",
   "execution_count": 15,
   "metadata": {},
   "outputs": [
    {
     "data": {
      "text/plain": [
       "Text(0.5, 1.0, 'Pred vs Real in Linear Regression')"
      ]
     },
     "execution_count": 15,
     "metadata": {},
     "output_type": "execute_result"
    },
    {
     "data": {
      "image/png": "[encoded data removed]",
      "text/plain": [
       "<Figure size 576x360 with 1 Axes>"
      ]
     },
     "metadata": {},
     "output_type": "display_data"
    }
   ],
   "source": [
    "y_pred = np.array(y_pred)\n",
    "y_val = y_val.to_numpy()\n",
    "plt.scatter(y_pred, y_val, color = 'blue')\n",
    "z = np.polyfit(y_pred[:,0], y_val[:,0], 1)\n",
    "p = np.poly1d(z)\n",
    "plt.plot(y_pred, p(y_pred),\"r--\")\n",
    "plt.xlabel(\"predicted value\")\n",
    "plt.ylabel(\"real value\")\n",
    "plt.title(\"Pred vs Real in Linear Regression\")"
   ]
  },
  {
   "cell_type": "markdown",
   "metadata": {},
   "source": [
    "Dapat terlihat bahwa visualisasi nilai terprediksi vs nilai sebenernya telah menghasilkan plot yang bisa dikatakan linear. Hal ini menandakan bahwa model regresi linear kita cukup bagus untuk melakukan prediksi dengan orde 1.\n",
    "\n",
    "Namun, dari plot dapat terlihat bahwa sebenarnya di sisi kanan atas plot banyak dijumpai error antara target dengan predicted value sekitar 0.1-0.2. Karena data ternormalisasi di antara 0-1, hal ini tidak berpengaruh signifikan terhadap MSE dan akurasi model. Namun, saat *predicted value* kita kembalikan ke bentuk awalnya, akan dijumpai error yang bernilai signifikan."
   ]
  },
  {
   "cell_type": "markdown",
   "metadata": {},
   "source": [
    "### d. Kesimpulan"
   ]
  },
  {
   "cell_type": "markdown",
   "metadata": {},
   "source": [
    "Terlihat dari R square dan mean square error model orde 1 bahwa model kita memiliki performa yang cukup baik.\n",
    "Ini disebabkan juga oleh preprocessing data yang telah kita lakukan, sehingga tiap data ternormalisasi. Namun, saat *predicted value* kita kembalikan ke bentuk awalnya, akan dijumpai error yang bernilai signifikan.\n",
    "\n",
    "Selanjutnya dapat kita bandingkan dengan penggunaan orde 2, apakah performa model akan meningkat dan perbedaan antara *predicted value* dan *real value* pada visualisasi dapat mengecil."
   ]
  },
  {
   "cell_type": "markdown",
   "metadata": {},
   "source": [
    "## 4. Linear Regression dengan Polinomial Orde 2"
   ]
  },
  {
   "cell_type": "markdown",
   "metadata": {},
   "source": [
    "Dengan scikit learn, proses regresi polinomial hampir sama dengan regresi linear biasa.\n",
    "\n",
    "Perbedaannya adalah, kita akan melakukan preprocessing terhadap data X awal menjadi X yang mengandung orde polinomial.\n",
    "Preprocessing ini akan menjadikan dataset kita memiliki kolom tambahan yang memuat parameter awal yang sudah dipangkatkan (dalam hal ini pangkat 2)"
   ]
  },
  {
   "cell_type": "code",
   "execution_count": 16,
   "metadata": {},
   "outputs": [
    {
     "data": {
      "text/plain": [
       "(936, 44)"
      ]
     },
     "execution_count": 16,
     "metadata": {},
     "output_type": "execute_result"
    }
   ],
   "source": [
    "from sklearn.preprocessing import PolynomialFeatures\n",
    "poly = PolynomialFeatures(degree=2, include_bias=False)\n",
    "X_orde2 = poly.fit_transform(X_train)\n",
    "X_orde2.shape"
   ]
  },
  {
   "cell_type": "code",
   "execution_count": 17,
   "metadata": {},
   "outputs": [
    {
     "data": {
      "text/plain": [
       "LinearRegression()"
      ]
     },
     "execution_count": 17,
     "metadata": {},
     "output_type": "execute_result"
    }
   ],
   "source": [
    "from sklearn.linear_model import LinearRegression\n",
    "model_orde2 = LinearRegression()\n",
    "model_orde2.fit(X_orde2, y_train)"
   ]
  },
  {
   "cell_type": "markdown",
   "metadata": {},
   "source": [
    "Selanjutnya, kita lakukan validasi pada model. Kita ukur MSE, R square dan error maksimum dari model polinomial kita."
   ]
  },
  {
   "cell_type": "code",
   "execution_count": 18,
   "metadata": {},
   "outputs": [
    {
     "name": "stdout",
     "output_type": "stream",
     "text": [
      "Mean Square Error pada validation set orde 2:  0.00841987373367697\n",
      "R square model pada validation set orde 2: 0.7927711840127862\n",
      "Error maksimum pada model orde 2 : 0.3423360757793965\n"
     ]
    }
   ],
   "source": [
    "# Cari y_pred\n",
    "y_pred = model_orde2.predict(poly.fit_transform(X_val))\n",
    "\n",
    "# Hitung Mean Squared Error\n",
    "from sklearn.metrics import mean_squared_error\n",
    "mse = mean_squared_error(y_pred, y_val)\n",
    "\n",
    "# Hitung R_square\n",
    "r_square = model_orde2.score(poly.fit_transform(X_val),y_val)\n",
    "\n",
    "# Hitung maximum error\n",
    "from sklearn.metrics import max_error\n",
    "max_err = max_error(y_val, y_pred)\n",
    "print('Mean Square Error pada validation set orde 2: ',mse)\n",
    "print('R square model pada validation set orde 2:',r_square)\n",
    "print('Error maksimum pada model orde 2 :',max_err)"
   ]
  },
  {
   "cell_type": "code",
   "execution_count": 19,
   "metadata": {},
   "outputs": [
    {
     "data": {
      "image/png": "[encoded data removed]",
      "text/plain": [
       "<Figure size 576x360 with 1 Axes>"
      ]
     },
     "metadata": {},
     "output_type": "display_data"
    }
   ],
   "source": [
    "y_pred = np.array(y_pred)\n",
    "\n",
    "plt.scatter(y_pred, y_val, color = 'hotpink')\n",
    "z = np.polyfit(y_pred[:,0], y_val[:,0], 1)\n",
    "p = np.poly1d(z)\n",
    "plt.plot(y_pred, p(y_pred),\"r--\")\n",
    "plt.xlabel(\"predicted value\")\n",
    "plt.ylabel(\"real value\")\n",
    "plt.title(\"Pred vs Real in Polynomial Regression\")\n",
    "plt.show()"
   ]
  },
  {
   "cell_type": "markdown",
   "metadata": {},
   "source": [
    "Dapat terlihat bahwa secara akurasi dan MSE, terdapat peningkatan performa walaupun sedikit, apabila dibandingkan dengan regresi linear orde 1.\n",
    "\n",
    "Namun, hasil plotting dari nilai terprediksi vs nilai sebenarnya memberikan distribusi yang lebih linear, dimana terlihat di ujung atas grafik, lebih banyak data yang menyentuh *trendline* jika dibandingkan dengan regresi linear. Sehingga, dapat kita simpulkan bahwa performa model lebih baik dan model lebih *general* untuk menghadapi permasalahan."
   ]
  }
 ],
 "metadata": {
  "kernelspec": {
   "display_name": "Python 3.9.9 64-bit",
   "language": "python",
   "name": "python3"
  },
  "language_info": {
   "codemirror_mode": {
    "name": "ipython",
    "version": 3
   },
   "file_extension": ".py",
   "mimetype": "text/x-python",
   "name": "python",
   "nbconvert_exporter": "python",
   "pygments_lexer": "ipython3",
   "version": "3.9.9"
  },
  "orig_nbformat": 4,
  "vscode": {
   "interpreter": {
    "hash": "3021318854d23d1a95aba9536e4a65bc49265228afa1e057d18b531ce801e329"
   }
  }
 },
 "nbformat": 4,
 "nbformat_minor": 2
}
