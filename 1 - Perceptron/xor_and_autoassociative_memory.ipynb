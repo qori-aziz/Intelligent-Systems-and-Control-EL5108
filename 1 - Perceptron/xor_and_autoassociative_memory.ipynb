{
 "cells": [
  {
   "cell_type": "markdown",
   "id": "8be308e7",
   "metadata": {},
   "source": [
    "## Tugas 1 SKC\n",
    "\n",
    "## XOR Neural Network & Auto Associative Memory\n",
    "\n",
    "### Mohammad Qori Aziz Hakiki - 23222020"
   ]
  },
  {
   "cell_type": "markdown",
   "id": "3f3028d8",
   "metadata": {},
   "source": [
    "### Deklarasi Library"
   ]
  },
  {
   "cell_type": "code",
   "execution_count": 2,
   "id": "ce89e89f",
   "metadata": {},
   "outputs": [],
   "source": [
    "import numpy as np"
   ]
  },
  {
   "cell_type": "markdown",
   "id": "c84b092b",
   "metadata": {},
   "source": [
    "### 1. XOR Neural Network"
   ]
  },
  {
   "cell_type": "markdown",
   "id": "2ede9e60",
   "metadata": {},
   "source": [
    "### Deklarasi Variabel\n",
    "\n",
    "Diinginkan membuat 2 layer neural network, layer 1 terdiri dari 2 perceptron dan layer 2 terdiri dari 1 perceptron. Expected output dibagi 3, yaitu:\n",
    " - Expected Output Daerah 1\n",
    " - Expected Output Daerah 2\n",
    " - Expected Total Output\n",
    "\n",
    "Sedangkan input untuk tiap-tiap expected output sama."
   ]
  },
  {
   "cell_type": "code",
   "execution_count": 3,
   "id": "4c58529d",
   "metadata": {},
   "outputs": [],
   "source": [
    "P = np.array([\n",
    "    [0, 0],\n",
    "    [0, 1],\n",
    "    [1, 0],\n",
    "    [1, 1]\n",
    "])\n",
    "\n",
    "t1 = np.array([0, 1, 1, 1])\n",
    "t2 = np.array([1, 1, 1, 0])\n",
    "t_out = np.array([0, 1, 1, 0])\n"
   ]
  },
  {
   "cell_type": "code",
   "execution_count": 4,
   "id": "acd5306e",
   "metadata": {},
   "outputs": [],
   "source": [
    "# Pendefinisian fungsi-fungsi dasar\n",
    "def Hardlim(input):\n",
    "    if input >= 0:\n",
    "        y = 1\n",
    "    if input < 0:\n",
    "        y = 0\n",
    "    return y\n",
    "\n",
    "\n",
    "def perceptron(X, Y):\n",
    "    w = np.zeros(len(X[0]))\n",
    "    b = 0\n",
    "    iterate = 10\n",
    "\n",
    "    for t in range(iterate):\n",
    "        for i, x in enumerate(X):\n",
    "            u = Hardlim(np.dot(X[i], w) + b)\n",
    "            err = Y[i] - u\n",
    "            # Perceptron Learning Rule\n",
    "            w = w + (X[i]*err)\n",
    "            b = b + err\n",
    "    return w, b"
   ]
  },
  {
   "cell_type": "code",
   "execution_count": 5,
   "id": "85edaee2",
   "metadata": {},
   "outputs": [
    {
     "name": "stdout",
     "output_type": "stream",
     "text": [
      "[1. 1.] -1\n",
      "[-2. -1.] 2\n"
     ]
    }
   ],
   "source": [
    "# Training W untuk perceptron layer 1\n",
    "w1, b1 = perceptron(P, t1)\n",
    "w2, b2 = perceptron(P, t2)\n",
    "print(w1, b1)\n",
    "print(w2, b2)\n"
   ]
  },
  {
   "cell_type": "code",
   "execution_count": 6,
   "id": "4202163b",
   "metadata": {},
   "outputs": [
    {
     "name": "stdout",
     "output_type": "stream",
     "text": [
      "[[0 1]\n",
      " [1 1]\n",
      " [1 1]\n",
      " [1 0]]\n"
     ]
    }
   ],
   "source": [
    "a1_1 = (Hardlim(np.dot(P[0], w1) + b1))\n",
    "a1_2 = (Hardlim(np.dot(P[1], w1) + b1))\n",
    "a1_3 = (Hardlim(np.dot(P[2], w1) + b1))\n",
    "a1_4 = (Hardlim(np.dot(P[3], w1) + b1))\n",
    "\n",
    "a2_1 = (Hardlim(np.dot(P[0], w2) + b2))\n",
    "a2_2 = (Hardlim(np.dot(P[1], w2) + b2))\n",
    "a2_3 = (Hardlim(np.dot(P[2], w2) + b2))\n",
    "a2_4 = (Hardlim(np.dot(P[3], w2) + b2))\n",
    "\n",
    "# input untuk second layer, diinginkan terjadi operasi AND\n",
    "inp = np.array([\n",
    "    [a1_1, a2_1],\n",
    "    [a1_2, a2_2],\n",
    "    [a1_3, a2_3],\n",
    "    [a1_4, a2_4]\n",
    "])\n",
    "print(inp)\n"
   ]
  },
  {
   "cell_type": "code",
   "execution_count": 7,
   "id": "ad15a6f0",
   "metadata": {},
   "outputs": [
    {
     "name": "stdout",
     "output_type": "stream",
     "text": [
      "[1. 2.] -3\n"
     ]
    }
   ],
   "source": [
    "# Pendefinisian second layer perceptron\n",
    "w3, b3 = perceptron(inp, t_out)\n",
    "print(w3, b3)\n"
   ]
  },
  {
   "cell_type": "code",
   "execution_count": 8,
   "id": "6599542b",
   "metadata": {},
   "outputs": [
    {
     "name": "stdout",
     "output_type": "stream",
     "text": [
      "[[0]\n",
      " [1]\n",
      " [1]\n",
      " [0]]\n"
     ]
    }
   ],
   "source": [
    "# Pengetesan Layer Ketiga\n",
    "out_1 = (Hardlim(np.dot(inp[0], w3) + b3))\n",
    "out_2 = (Hardlim(np.dot(inp[1], w3) + b3))\n",
    "out_3 = (Hardlim(np.dot(inp[2], w3) + b3))\n",
    "out_4 = (Hardlim(np.dot(inp[3], w3) + b3))\n",
    "\n",
    "output = np.array([\n",
    "    [out_1],\n",
    "    [out_2],\n",
    "    [out_3],\n",
    "    [out_4]\n",
    "])\n",
    "\n",
    "print(output)"
   ]
  },
  {
   "cell_type": "markdown",
   "id": "abcc7792",
   "metadata": {},
   "source": [
    "### 2. Auto Associative Memory"
   ]
  },
  {
   "cell_type": "markdown",
   "id": "fb9dac2c",
   "metadata": {},
   "source": [
    "### Deklarasi Variabel"
   ]
  },
  {
   "cell_type": "code",
   "execution_count": 9,
   "id": "8b2b139c",
   "metadata": {},
   "outputs": [],
   "source": [
    "P_auto = np.array([\n",
    "    [-1, 1, 1, 1, 1, -1, 1, -1, -1, -1, -1, 1, 1, -1, -1, -\n",
    "        1, -1, 1, 1, -1, -1, -1, -1, 1, -1, 1, 1, 1, 1, -1],  # 0\n",
    "    [-1, -1, -1, -1, -1, -1, 1, -1, -1, -1, -1, -1, 1, 1, 1, 1, 1,\n",
    "        1, -1, -1, -1, -1, -1, -1, -1, -1, -1, -1, -1, -1],  # 1\n",
    "    [1, -1, -1, -1, -1, -1, 1, -1, -1, 1, 1, 1, 1, -1, -1, 1, - \\\n",
    "        1, 1, -1, 1, 1, -1, -1, 1, -1, -1, -1, -1, -1, 1],  # 2\n",
    "])\n",
    "\n",
    "t_auto = np.array([\n",
    "    [-1, 1, 1, 1, 1, -1, 1, -1, -1, -1, -1, 1, 1, -1, -1, -\n",
    "        1, -1, 1, 1, -1, -1, -1, -1, 1, -1, 1, 1, 1, 1, -1],  # 0\n",
    "    [-1, -1, -1, -1, -1, -1, 1, -1, -1, -1, -1, -1, 1, 1, 1, 1, 1,\n",
    "        1, -1, -1, -1, -1, -1, -1, -1, -1, -1, -1, -1, -1],  # 1\n",
    "    [1, -1, -1, -1, -1, -1, 1, -1, -1, 1, 1, 1, 1, -1, -1, 1, - \\\n",
    "        1, 1, -1, 1, 1, -1, -1, 1, -1, -1, -1, -1, -1, 1],  # 2\n",
    "])\n"
   ]
  },
  {
   "cell_type": "code",
   "execution_count": 10,
   "id": "4f5b8648",
   "metadata": {},
   "outputs": [],
   "source": [
    "# Pendefinisian fungsi autoassociative memory\n",
    "def auto_associative_NN(X):\n",
    "    w = np.zeros((len(X[0]), len(X[0])))\n",
    "    # print(w)a\n",
    "    for i, x in enumerate(X):\n",
    "        # Hebbian learning rule\n",
    "        # Create N * N weight\n",
    "        t = np.reshape(X[i], (len(X[i]), 1))\n",
    "        p = np.transpose(t)\n",
    "        w = w + (t @ p)\n",
    "    return w\n"
   ]
  },
  {
   "cell_type": "code",
   "execution_count": 11,
   "id": "52491667",
   "metadata": {},
   "outputs": [
    {
     "name": "stdout",
     "output_type": "stream",
     "text": [
      "[[ 3. -1. -1. -1. -1.  1. -1.  1.  1.  3.  3.  1. -1. -1. -1.  1. -1. -1.\n",
      "  -1.  3.  3.  1.  1.  1.  1. -1. -1. -1. -1.  3.]\n",
      " [-1.  3.  3.  3.  3.  1. -1.  1.  1. -1. -1.  1. -1. -1. -1. -3. -1. -1.\n",
      "   3. -1. -1.  1.  1.  1.  1.  3.  3.  3.  3. -1.]\n",
      " [-1.  3.  3.  3.  3.  1. -1.  1.  1. -1. -1.  1. -1. -1. -1. -3. -1. -1.\n",
      "   3. -1. -1.  1.  1.  1.  1.  3.  3.  3.  3. -1.]\n",
      " [-1.  3.  3.  3.  3.  1. -1.  1.  1. -1. -1.  1. -1. -1. -1. -3. -1. -1.\n",
      "   3. -1. -1.  1.  1.  1.  1.  3.  3.  3.  3. -1.]\n",
      " [-1.  3.  3.  3.  3.  1. -1.  1.  1. -1. -1.  1. -1. -1. -1. -3. -1. -1.\n",
      "   3. -1. -1.  1.  1.  1.  1.  3.  3.  3.  3. -1.]\n",
      " [ 1.  1.  1.  1.  1.  3. -3.  3.  3.  1.  1. -1. -3.  1.  1. -1.  1. -3.\n",
      "   1.  1.  1.  3.  3. -1.  3.  1.  1.  1.  1.  1.]\n",
      " [-1. -1. -1. -1. -1. -3.  3. -3. -3. -1. -1.  1.  3. -1. -1.  1. -1.  3.\n",
      "  -1. -1. -1. -3. -3.  1. -3. -1. -1. -1. -1. -1.]\n",
      " [ 1.  1.  1.  1.  1.  3. -3.  3.  3.  1.  1. -1. -3.  1.  1. -1.  1. -3.\n",
      "   1.  1.  1.  3.  3. -1.  3.  1.  1.  1.  1.  1.]\n",
      " [ 1.  1.  1.  1.  1.  3. -3.  3.  3.  1.  1. -1. -3.  1.  1. -1.  1. -3.\n",
      "   1.  1.  1.  3.  3. -1.  3.  1.  1.  1.  1.  1.]\n",
      " [ 3. -1. -1. -1. -1.  1. -1.  1.  1.  3.  3.  1. -1. -1. -1.  1. -1. -1.\n",
      "  -1.  3.  3.  1.  1.  1.  1. -1. -1. -1. -1.  3.]\n",
      " [ 3. -1. -1. -1. -1.  1. -1.  1.  1.  3.  3.  1. -1. -1. -1.  1. -1. -1.\n",
      "  -1.  3.  3.  1.  1.  1.  1. -1. -1. -1. -1.  3.]\n",
      " [ 1.  1.  1.  1.  1. -1.  1. -1. -1.  1.  1.  3.  1. -3. -3. -1. -3.  1.\n",
      "   1.  1.  1. -1. -1.  3. -1.  1.  1.  1.  1.  1.]\n",
      " [-1. -1. -1. -1. -1. -3.  3. -3. -3. -1. -1.  1.  3. -1. -1.  1. -1.  3.\n",
      "  -1. -1. -1. -3. -3.  1. -3. -1. -1. -1. -1. -1.]\n",
      " [-1. -1. -1. -1. -1.  1. -1.  1.  1. -1. -1. -3. -1.  3.  3.  1.  3. -1.\n",
      "  -1. -1. -1.  1.  1. -3.  1. -1. -1. -1. -1. -1.]\n",
      " [-1. -1. -1. -1. -1.  1. -1.  1.  1. -1. -1. -3. -1.  3.  3.  1.  3. -1.\n",
      "  -1. -1. -1.  1.  1. -3.  1. -1. -1. -1. -1. -1.]\n",
      " [ 1. -3. -3. -3. -3. -1.  1. -1. -1.  1.  1. -1.  1.  1.  1.  3.  1.  1.\n",
      "  -3.  1.  1. -1. -1. -1. -1. -3. -3. -3. -3.  1.]\n",
      " [-1. -1. -1. -1. -1.  1. -1.  1.  1. -1. -1. -3. -1.  3.  3.  1.  3. -1.\n",
      "  -1. -1. -1.  1.  1. -3.  1. -1. -1. -1. -1. -1.]\n",
      " [-1. -1. -1. -1. -1. -3.  3. -3. -3. -1. -1.  1.  3. -1. -1.  1. -1.  3.\n",
      "  -1. -1. -1. -3. -3.  1. -3. -1. -1. -1. -1. -1.]\n",
      " [-1.  3.  3.  3.  3.  1. -1.  1.  1. -1. -1.  1. -1. -1. -1. -3. -1. -1.\n",
      "   3. -1. -1.  1.  1.  1.  1.  3.  3.  3.  3. -1.]\n",
      " [ 3. -1. -1. -1. -1.  1. -1.  1.  1.  3.  3.  1. -1. -1. -1.  1. -1. -1.\n",
      "  -1.  3.  3.  1.  1.  1.  1. -1. -1. -1. -1.  3.]\n",
      " [ 3. -1. -1. -1. -1.  1. -1.  1.  1.  3.  3.  1. -1. -1. -1.  1. -1. -1.\n",
      "  -1.  3.  3.  1.  1.  1.  1. -1. -1. -1. -1.  3.]\n",
      " [ 1.  1.  1.  1.  1.  3. -3.  3.  3.  1.  1. -1. -3.  1.  1. -1.  1. -3.\n",
      "   1.  1.  1.  3.  3. -1.  3.  1.  1.  1.  1.  1.]\n",
      " [ 1.  1.  1.  1.  1.  3. -3.  3.  3.  1.  1. -1. -3.  1.  1. -1.  1. -3.\n",
      "   1.  1.  1.  3.  3. -1.  3.  1.  1.  1.  1.  1.]\n",
      " [ 1.  1.  1.  1.  1. -1.  1. -1. -1.  1.  1.  3.  1. -3. -3. -1. -3.  1.\n",
      "   1.  1.  1. -1. -1.  3. -1.  1.  1.  1.  1.  1.]\n",
      " [ 1.  1.  1.  1.  1.  3. -3.  3.  3.  1.  1. -1. -3.  1.  1. -1.  1. -3.\n",
      "   1.  1.  1.  3.  3. -1.  3.  1.  1.  1.  1.  1.]\n",
      " [-1.  3.  3.  3.  3.  1. -1.  1.  1. -1. -1.  1. -1. -1. -1. -3. -1. -1.\n",
      "   3. -1. -1.  1.  1.  1.  1.  3.  3.  3.  3. -1.]\n",
      " [-1.  3.  3.  3.  3.  1. -1.  1.  1. -1. -1.  1. -1. -1. -1. -3. -1. -1.\n",
      "   3. -1. -1.  1.  1.  1.  1.  3.  3.  3.  3. -1.]\n",
      " [-1.  3.  3.  3.  3.  1. -1.  1.  1. -1. -1.  1. -1. -1. -1. -3. -1. -1.\n",
      "   3. -1. -1.  1.  1.  1.  1.  3.  3.  3.  3. -1.]\n",
      " [-1.  3.  3.  3.  3.  1. -1.  1.  1. -1. -1.  1. -1. -1. -1. -3. -1. -1.\n",
      "   3. -1. -1.  1.  1.  1.  1.  3.  3.  3.  3. -1.]\n",
      " [ 3. -1. -1. -1. -1.  1. -1.  1.  1.  3.  3.  1. -1. -1. -1.  1. -1. -1.\n",
      "  -1.  3.  3.  1.  1.  1.  1. -1. -1. -1. -1.  3.]]\n"
     ]
    }
   ],
   "source": [
    "# Training W\n",
    "w = auto_associative_NN(P_auto)\n",
    "print(w)\n"
   ]
  },
  {
   "cell_type": "code",
   "execution_count": 12,
   "id": "9bb31b73",
   "metadata": {},
   "outputs": [
    {
     "name": "stdout",
     "output_type": "stream",
     "text": [
      "Output angka 0 dengan gangguan : \n",
      "[[-1.  1.  1.  1. -1.]\n",
      " [ 1. -1. -1. -1.  1.]\n",
      " [ 1. -1. -1. -1.  1.]\n",
      " [ 1. -1. -1. -1.  1.]\n",
      " [ 1. -1. -1. -1.  1.]\n",
      " [-1.  1.  1.  1. -1.]]\n",
      "Error angka 0 dengan gangguan : \n",
      "[0. 0. 0. 0. 0. 0. 0. 0. 0. 0. 0. 0. 0. 0. 0. 0. 0. 0. 0. 0. 0. 0. 0. 0.\n",
      " 0. 0. 0. 0. 0. 0.]\n",
      "Output angka 1 dengan gangguan : \n",
      "[[-1.  1.  1. -1. -1.]\n",
      " [-1. -1.  1. -1. -1.]\n",
      " [-1. -1.  1. -1. -1.]\n",
      " [-1. -1.  1. -1. -1.]\n",
      " [-1. -1.  1. -1. -1.]\n",
      " [-1. -1.  1. -1. -1.]]\n",
      "Error angka 1 dengan gangguan : \n",
      "[0. 0. 0. 0. 0. 0. 0. 0. 0. 0. 0. 0. 0. 0. 0. 0. 0. 0. 0. 0. 0. 0. 0. 0.\n",
      " 0. 0. 0. 0. 0. 0.]\n"
     ]
    }
   ],
   "source": [
    "# Test with some disturbance\n",
    "\n",
    "\n",
    "P0_test = np.array([-1, -1, 1, 1, 1, -1, 1, -1, -1, -1, -1, 1, 1, -1, -\n",
    "                   1, -1, -1, 1, 1, -1, -1, -1, -1, 1, -1, 1, 1, 1, -1, -1])  # Disturbed 0\n",
    "P1_test = np.array([-1, -1, -1, -1, -1, -1, 1, 1, 1, -1, -1, -1, 1, 1, 1,\n",
    "                   1, 1, 1, -1, -1, -1, -1, -1, -1, -1, -1, -1, -1, -1, -1])  # Disturbed 1\n",
    "target_0 = np.array([-1, 1, 1, 1, 1, -1, 1, -1, -1, -1, -1, 1,\n",
    "                    1, -1, -1, -1, -1, 1, 1, -1, -1, -1, -1, 1, -1, 1, 1, 1, 1, -1])\n",
    "target_1 = np.array([-1, -1, -1, -1, -1, -1, 1, -1, -1, -1, -1, -1,\n",
    "                    1, 1, 1, 1, 1, 1, -1, -1, -1, -1, -1, -1, -1, -1, -1, -1, -1, -1])\n",
    "\n",
    "\n",
    "P0_test_reshape = (np.reshape(P0_test, (5, 6)).T)\n",
    "P1_test_reshape = (np.reshape(P1_test, (5, 6)).T)\n",
    "\n",
    "# Get output from our model\n",
    "out_0 = np.clip(P0_test @ w, -1, 1)\n",
    "out_1 = np.clip(P1_test @ w, -1, 1)\n",
    "\n",
    "\n",
    "# Visualisasi\n",
    "\n",
    "# Print output and error from target\n",
    "print(\"Output angka 0 dengan gangguan : \")\n",
    "\n",
    "out_0_reshape = (np.reshape(out_0, (5, 6)).T)\n",
    "print(out_0_reshape)\n",
    "print(\"Error angka 0 dengan gangguan : \")\n",
    "print(out_0 - target_0)\n",
    "\n",
    "\n",
    "print(\"Output angka 1 dengan gangguan : \")\n",
    "\n",
    "out_1_reshape = (np.reshape(out_1, (5, 6)).T)\n",
    "print(out_1_reshape)\n",
    "print(\"Error angka 1 dengan gangguan : \")\n",
    "print(out_1 - target_1)\n"
   ]
  },
  {
   "cell_type": "markdown",
   "id": "5890a1f0",
   "metadata": {},
   "source": [
    "## Plot hasil neural network terdistorsi    "
   ]
  },
  {
   "cell_type": "code",
   "execution_count": 13,
   "id": "8c7a061e",
   "metadata": {},
   "outputs": [
    {
     "data": {
      "text/plain": [
       "<matplotlib.image.AxesImage at 0x217b435f760>"
      ]
     },
     "execution_count": 13,
     "metadata": {},
     "output_type": "execute_result"
    },
    {
     "data": {
      "text/plain": [
       "<Figure size 1080x1080 with 0 Axes>"
      ]
     },
     "metadata": {},
     "output_type": "display_data"
    },
    {
     "data": {
      "image/png": "[encoded data removed]",
      "text/plain": [
       "<Figure size 432x288 with 4 Axes>"
      ]
     },
     "metadata": {
      "needs_background": "light"
     },
     "output_type": "display_data"
    }
   ],
   "source": [
    "import matplotlib.pyplot as plt\n",
    "\n",
    "plt.figure(figsize=(15, 15))\n",
    "\n",
    "\n",
    "f, axarr = plt.subplots(2, 2)\n",
    "axarr[0][0].imshow(P0_test_reshape, cmap='Blues', interpolation='none')\n",
    "axarr[0][1].imshow(P1_test_reshape, cmap='Blues', interpolation='none')\n",
    "axarr[1][0].imshow(out_0_reshape, cmap='Blues', interpolation='none')\n",
    "axarr[1][1].imshow(out_1_reshape, cmap='Blues', interpolation='none')\n"
   ]
  },
  {
   "cell_type": "markdown",
   "id": "f3494787",
   "metadata": {},
   "source": [
    "### Kesimpulan\n",
    "\n",
    "Dari nilai error yang 0 dan output yang bisa merestorasi target saat diberikan sedikit noise, dapat dilihat bahwa sistem autoassociative memory neural network berhasil dilatih."
   ]
  }
 ],
 "metadata": {
  "kernelspec": {
   "display_name": "Python 3.9.9 64-bit",
   "language": "python",
   "name": "python3"
  },
  "language_info": {
   "codemirror_mode": {
    "name": "ipython",
    "version": 3
   },
   "file_extension": ".py",
   "mimetype": "text/x-python",
   "name": "python",
   "nbconvert_exporter": "python",
   "pygments_lexer": "ipython3",
   "version": "3.9.9"
  },
  "vscode": {
   "interpreter": {
    "hash": "3021318854d23d1a95aba9536e4a65bc49265228afa1e057d18b531ce801e329"
   }
  }
 },
 "nbformat": 4,
 "nbformat_minor": 5
}
