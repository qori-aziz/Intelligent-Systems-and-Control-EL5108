{
 "cells": [
  {
   "cell_type": "code",
   "execution_count": 16,
   "id": "ce89e89f",
   "metadata": {},
   "outputs": [],
   "source": [
    "import numpy as np\n",
    "\n",
    "X = np.array([\n",
    "    [1,2 ],\n",
    "    [-1, 2],\n",
    "    [0, 1],\n",
    "])\n",
    "\n",
    "y = np.array([1, 0, 0])\n",
    "\n",
    "p1 = ([[1], [2]])\n",
    "t1 = 1\n",
    "p2 = ([[-1], [2]])\n",
    "t2= 0\n",
    "p3 = ([[0], [-1]])\n",
    "t3 = 0"
   ]
  },
  {
   "cell_type": "code",
   "execution_count": 17,
   "id": "4c58529d",
   "metadata": {},
   "outputs": [
    {
     "data": {
      "text/plain": [
       "(array([[ 1,  2],\n",
       "        [-1,  2],\n",
       "        [ 0,  1]]),\n",
       " array([1, 0, 0]))"
      ]
     },
     "execution_count": 17,
     "metadata": {},
     "output_type": "execute_result"
    }
   ],
   "source": [
    "X, y"
   ]
  },
  {
   "cell_type": "code",
   "execution_count": 102,
   "id": "acd5306e",
   "metadata": {},
   "outputs": [
    {
     "name": "stdout",
     "output_type": "stream",
     "text": [
      "[1, 1]\n",
      "[ 2 -1]\n",
      "[ 2 -1]\n",
      "[3 1]\n",
      "[3 1]\n",
      "[3 0]\n",
      "[3 0]\n",
      "[3 0]\n",
      "[3 0]\n",
      "[3 0]\n",
      "[3 0]\n",
      "[3 0]\n",
      "[3 0]\n",
      "[3 0]\n",
      "[3 0]\n",
      "[3 0]\n"
     ]
    }
   ],
   "source": [
    "def Hardlim(input):\n",
    "    if input > 0:\n",
    "        y = 1\n",
    "    if input <= 0:\n",
    "        y = 0\n",
    "    return y\n",
    "\n",
    "def perceptron_sgd(X, Y):\n",
    "    w = np.zeros(len(X[0]))\n",
    "    w = [1, 1]\n",
    "    iterate = 5\n",
    "\n",
    "    for t in range(iterate):\n",
    "        for i, x in enumerate(X):\n",
    "            u  = Hardlim(np.dot(X[i], w))\n",
    "            err = Y[i] - u\n",
    "            if err > 0:\n",
    "                w = w + X[i]\n",
    "            if err < 0:\n",
    "                w = w - X[i]\n",
    "            print(w)\n",
    "    return w;\n",
    "w = perceptron_sgd(X,y)\n",
    "print(w)"
   ]
  },
  {
   "cell_type": "code",
   "execution_count": 103,
   "id": "4202163b",
   "metadata": {},
   "outputs": [
    {
     "name": "stdout",
     "output_type": "stream",
     "text": [
      "1\n",
      "0\n",
      "0\n"
     ]
    }
   ],
   "source": [
    "print(Hardlim(np.dot(X[0], w)))\n",
    "print(Hardlim(np.dot(X[1], w)))\n",
    "print(Hardlim(np.dot(X[2], w)))"
   ]
  },
  {
   "cell_type": "code",
   "execution_count": null,
   "id": "ad15a6f0",
   "metadata": {},
   "outputs": [],
   "source": []
  }
 ],
 "metadata": {
  "kernelspec": {
   "display_name": "Python 3 (ipykernel)",
   "language": "python",
   "name": "python3"
  },
  "language_info": {
   "codemirror_mode": {
    "name": "ipython",
    "version": 3
   },
   "file_extension": ".py",
   "mimetype": "text/x-python",
   "name": "python",
   "nbconvert_exporter": "python",
   "pygments_lexer": "ipython3",
   "version": "3.9.7"
  }
 },
 "nbformat": 4,
 "nbformat_minor": 5
}
