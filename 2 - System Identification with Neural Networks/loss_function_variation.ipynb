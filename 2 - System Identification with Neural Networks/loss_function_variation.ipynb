{
 "cells": [
  {
   "cell_type": "markdown",
   "metadata": {},
   "source": [
    "# Loss Function Variation in System Identification With Neural Networks\n",
    "## Mohammad Qori Aziz Hakiki - 23222020\n"
   ]
  },
  {
   "cell_type": "markdown",
   "metadata": {},
   "source": [
    "System Model:\n",
    "\n",
    "$$y(k) = 1.37u(k) - 0.95u(k-1) + 3.2y(k-1) + 2.93 y(k-2)$$"
   ]
  },
  {
   "cell_type": "markdown",
   "metadata": {},
   "source": [
    "### 1. Generate Input and Output For System"
   ]
  },
  {
   "cell_type": "code",
   "execution_count": 1,
   "metadata": {},
   "outputs": [],
   "source": [
    "# import library\n",
    "import os\n",
    "import torch\n",
    "import numpy as np\n",
    "from torch import nn\n",
    "from torch.utils.data import DataLoader\n",
    "from torchvision import datasets, transforms\n",
    "from collections import OrderedDict\n",
    "import matplotlib.pyplot as plt"
   ]
  },
  {
   "cell_type": "code",
   "execution_count": 2,
   "metadata": {},
   "outputs": [
    {
     "name": "stdout",
     "output_type": "stream",
     "text": [
      "[[      nan       nan       nan       nan]\n",
      " [ 1.        0.        0.        1.      ]\n",
      " [ 1.        1.06069   3.342621  1.      ]\n",
      " ...\n",
      " [ 0.       -0.046625  0.        0.      ]\n",
      " [ 0.       -0.298288  0.        0.      ]\n",
      " [ 0.       -0.298288  0.        0.      ]]\n",
      "tensor([[0.1000],\n",
      "        [0.1000],\n",
      "        [0.1000],\n",
      "        ...,\n",
      "        [0.0000],\n",
      "        [0.0000],\n",
      "        [0.0000]])\n"
     ]
    }
   ],
   "source": [
    "# Import dataset for system\n",
    "dataset = np.genfromtxt('data_motor_22Juni_ts100/1.txt',delimiter=';')\n",
    "print(dataset)\n",
    "\n",
    "# Get first column as input, skipping the header\n",
    "input=torch.as_tensor(dataset[1:, 0], dtype=torch.float32)\n",
    "input=torch.reshape(input, (len(input), 1))\n",
    "\n",
    "# Normalize input\n",
    "input = input / 10 \n",
    "\n",
    "print(input)"
   ]
  },
  {
   "cell_type": "code",
   "execution_count": 3,
   "metadata": {},
   "outputs": [
    {
     "name": "stdout",
     "output_type": "stream",
     "text": [
      "tensor([[0.],\n",
      "        [0.],\n",
      "        [0.],\n",
      "        ...,\n",
      "        [0.],\n",
      "        [0.],\n",
      "        [0.]])\n",
      "[[ 1.37117312 -0.94887817  3.1960358   2.92779642]]\n"
     ]
    }
   ],
   "source": [
    "# Generate output for system\n",
    "output = torch.zeros((len(input),1))\n",
    "print(output)\n",
    "\n",
    "# Coefficient for our model. Each column corresponds to x(k), x(k-1), y(k-1), and y(k-2)\n",
    "regressor = np.array([[1.37117312, -0.94887817, 3.1960358, 2.92779642]])\n",
    "print(regressor)\n",
    "\n",
    " # Calculate output from our model\n",
    "for i in range(len(output)):\n",
    "    if i >= 0 :\n",
    "        output[i] = regressor[0][0] * input[i]\n",
    "        continue\n",
    "\n",
    "    if i >= 1:\n",
    "        output[i] =  regressor[0][0] * input[i] + regressor[0][1] * input[i-1] + regressor[0][2] * output[i-1]\n",
    "        continue\n",
    "\n",
    "    if i>=2 :\n",
    "        output[i] =  regressor[0][0] * input[i] + regressor[0][1] * input[i-1] + regressor[0][2] * output[i-1] +  regressor[0][3] * output[i-2]"
   ]
  },
  {
   "cell_type": "code",
   "execution_count": 4,
   "metadata": {},
   "outputs": [
    {
     "data": {
      "text/plain": [
       "<matplotlib.legend.Legend at 0x1cff2457130>"
      ]
     },
     "execution_count": 4,
     "metadata": {},
     "output_type": "execute_result"
    },
    {
     "data": {
      "image/png": "[encoded data removed]",
      "text/plain": [
       "<Figure size 432x288 with 1 Axes>"
      ]
     },
     "metadata": {
      "needs_background": "light"
     },
     "output_type": "display_data"
    }
   ],
   "source": [
    "# Plot input and output \n",
    "input_det = input.detach().numpy()\n",
    "output_det = output.detach().numpy()\n",
    "plt.plot(input_det, label='input value')\n",
    "plt.plot(output_det, label='output value')\n",
    "plt.legend()"
   ]
  },
  {
   "cell_type": "markdown",
   "metadata": {},
   "source": [
    "### 2. Parameter Estimation with Least Square Method"
   ]
  },
  {
   "cell_type": "markdown",
   "metadata": {},
   "source": [
    "Here we apply time delay to our data. Suppose we predict that our DC motor transfer function will be like this:\n",
    "\n",
    "$$H(z) = \\frac{Y(z)}{U(z)} = \\frac{b_{0} + b_{1}z^{-1}}{1 - a_{1}z^{-1} - a_{2}z^{-2}}$$\n",
    "\n",
    "In time-domain, \n",
    "\n",
    "$$y(k) =a_{1}y(k-1) + a_{2}y(k-2) + b_{0}u(k) + b_{1}u(k-1)$$\n",
    "\n",
    "Based on the reference paper, we will estimate the $a_{i}$ and $b_{j}$ parameter from the weight of the NN.  \n",
    "\n",
    "To do so, the neural network inputs will be the delayed target output and inputs, in our case $y(k-1), y(k-2), u(k),$ and $u(k-1)$.\n"
   ]
  },
  {
   "cell_type": "code",
   "execution_count": 5,
   "metadata": {},
   "outputs": [
    {
     "name": "stdout",
     "output_type": "stream",
     "text": [
      "tensor([[0.1000, 0.0000, 0.0000, 0.0000],\n",
      "        [0.1000, 0.1000, 0.1371, 0.0000],\n",
      "        [0.1000, 0.1000, 0.1371, 0.1371],\n",
      "        [0.1000, 0.1000, 0.1371, 0.1371],\n",
      "        [0.1000, 0.1000, 0.1371, 0.1371]])\n",
      "torch.Size([12450, 4])\n"
     ]
    }
   ],
   "source": [
    "# Time delay block definition\n",
    "def timedelayblock(input, target, inp_order, target_order):\n",
    "    delayed_nn_input = input\n",
    "\n",
    "    # Append delayed input\n",
    "    for i in range(1, inp_order+1):\n",
    "        concated_tensor =torch.roll(input, i, 0)\n",
    "        for j in range(i):\n",
    "            concated_tensor[j, 0] = 0 # force zeroing delayed input\n",
    "        delayed_nn_input= torch.cat((delayed_nn_input, concated_tensor), 1)\n",
    "    \n",
    "    # Append delayed input\n",
    "    for k in range(1, target_order+1):\n",
    "        concated_tensor = torch.roll(target, k, 0)\n",
    "        for l in range(k):\n",
    "            concated_tensor[l, 0] = 0 # force zeroing delayed input\n",
    "        delayed_nn_input= torch.cat((delayed_nn_input, concated_tensor), 1)\n",
    "    return delayed_nn_input\n",
    "\n",
    "# Initialize system order\n",
    "inp_order = 1\n",
    "out_order = 2\n",
    "# Create x(k), x(k-1), y(k-1), and y(k-2)\n",
    "nn_input= timedelayblock(input, output, inp_order, out_order)\n",
    "print(nn_input[0:5, :])\n",
    "print(nn_input.size())"
   ]
  },
  {
   "cell_type": "code",
   "execution_count": 6,
   "metadata": {},
   "outputs": [
    {
     "name": "stdout",
     "output_type": "stream",
     "text": [
      "tensor(5267.9521)\n"
     ]
    }
   ],
   "source": [
    "# Split training and test data\n",
    "nn_input_train = nn_input[:10000, :]\n",
    "nn_input_test = nn_input[10000:, :]\n",
    "\n",
    "y_train =output[:10000, :]\n",
    "y_test = output[10000:, :]\n",
    "\n",
    "print(torch.sum(y_train))"
   ]
  },
  {
   "cell_type": "markdown",
   "metadata": {},
   "source": [
    "#### Define the NN model that will be used.  \n",
    "Here we will add hidden layer and act function based on the parameters provided."
   ]
  },
  {
   "cell_type": "code",
   "execution_count": 7,
   "metadata": {},
   "outputs": [],
   "source": [
    "class NeuralNetwork(nn.Module):\n",
    "    def __init__(self, in_features, hidden_dim, hidden_layer, out_classes):\n",
    "        super(NeuralNetwork, self).__init__()\n",
    "        # Create ordered Dictionary based on the number of hidden_layer\n",
    "        sequence = OrderedDict()\n",
    "        for layer in range(hidden_layer):\n",
    "            if layer == 0:\n",
    "                sequence['hidden_layer_{}'.format(layer)] =nn.Linear(\n",
    "                    in_features, hidden_dim, bias=False)\n",
    "                sequence['activation_{}'.format(layer)] =  nn.Tanh()\n",
    "                continue\n",
    "            # For layer not in the input layer\n",
    "            sequence['hidden_layer_{}'.format(layer)] = nn.Linear(\n",
    "                hidden_dim, hidden_dim, bias=False)\n",
    "            sequence['activation_{}'.format(layer)] = nn.Tanh()\n",
    "        # Insert output layer\n",
    "        sequence['output_layer'] = nn.Linear(hidden_dim, out_classes, bias=False)\n",
    "\n",
    "        # print(sequence)\n",
    "        # return the sequential model\n",
    "        self.layer_stack = nn.Sequential(sequence)\n",
    "        \n",
    "\n",
    "    def forward(self, x):\n",
    "        x = self.layer_stack(x)\n",
    "        return x"
   ]
  },
  {
   "cell_type": "code",
   "execution_count": 8,
   "metadata": {},
   "outputs": [],
   "source": [
    "# Variable declaration\n",
    "# Since we have u(k), u(k-1), y(k-1), and y(k-2), we have 4 inputs.\n",
    "\n",
    "in_features=inp_order + out_order +1  # how many Variables are in the dataset\n",
    "hidden_dim= inp_order + out_order +1 # hidden i/o\n",
    "hidden_layer=5 # how many hidden layers\n",
    "output_dim= 1   # number of classes\n",
    "epoch = 100 "
   ]
  },
  {
   "cell_type": "code",
   "execution_count": 9,
   "metadata": {},
   "outputs": [
    {
     "name": "stdout",
     "output_type": "stream",
     "text": [
      "NeuralNetwork(\n",
      "  (layer_stack): Sequential(\n",
      "    (hidden_layer_0): Linear(in_features=4, out_features=4, bias=False)\n",
      "    (activation_0): Tanh()\n",
      "    (hidden_layer_1): Linear(in_features=4, out_features=4, bias=False)\n",
      "    (activation_1): Tanh()\n",
      "    (hidden_layer_2): Linear(in_features=4, out_features=4, bias=False)\n",
      "    (activation_2): Tanh()\n",
      "    (hidden_layer_3): Linear(in_features=4, out_features=4, bias=False)\n",
      "    (activation_3): Tanh()\n",
      "    (hidden_layer_4): Linear(in_features=4, out_features=4, bias=False)\n",
      "    (activation_4): Tanh()\n",
      "    (output_layer): Linear(in_features=4, out_features=1, bias=False)\n",
      "  )\n",
      ")\n",
      "torch.Size([4, 4])\n",
      "Parameter containing:\n",
      "tensor([[ 0.1638, -0.1322, -0.0107, -0.0433],\n",
      "        [ 0.1056, -0.0680,  0.2927, -0.3713],\n",
      "        [ 0.4332,  0.2654, -0.1090, -0.3878],\n",
      "        [-0.2841,  0.4521,  0.1136, -0.3497]], requires_grad=True)\n",
      "torch.Size([4, 4])\n",
      "Parameter containing:\n",
      "tensor([[-0.4747,  0.3834,  0.2931,  0.0904],\n",
      "        [ 0.4263, -0.3856,  0.3223, -0.3716],\n",
      "        [-0.4748,  0.2257,  0.2486, -0.2826],\n",
      "        [ 0.0080, -0.2424, -0.0827,  0.0639]], requires_grad=True)\n",
      "torch.Size([4, 4])\n",
      "Parameter containing:\n",
      "tensor([[ 1.9277e-01,  3.7216e-02, -2.1303e-01,  1.4457e-01],\n",
      "        [ 3.7524e-01, -4.9478e-01,  1.3953e-01, -4.2368e-02],\n",
      "        [ 3.3055e-01, -4.1143e-01, -3.0377e-03,  3.3365e-01],\n",
      "        [ 2.1422e-01,  1.3669e-01,  2.9707e-04,  2.9007e-01]],\n",
      "       requires_grad=True)\n",
      "torch.Size([4, 4])\n",
      "Parameter containing:\n",
      "tensor([[-0.4778,  0.4185,  0.4408,  0.1898],\n",
      "        [-0.0890, -0.0191, -0.1259,  0.0212],\n",
      "        [-0.1584, -0.2214, -0.4883,  0.1794],\n",
      "        [-0.1256, -0.3001,  0.0989, -0.0853]], requires_grad=True)\n",
      "torch.Size([4, 4])\n",
      "Parameter containing:\n",
      "tensor([[-0.1182, -0.0534, -0.4781,  0.2179],\n",
      "        [-0.4199, -0.0514,  0.2477,  0.3696],\n",
      "        [-0.0486, -0.4005, -0.1611,  0.0953],\n",
      "        [ 0.0924, -0.2854, -0.3665, -0.0736]], requires_grad=True)\n",
      "torch.Size([1, 4])\n",
      "Parameter containing:\n",
      "tensor([[ 0.2568, -0.0338, -0.0111,  0.0853]], requires_grad=True)\n"
     ]
    }
   ],
   "source": [
    "clf=NeuralNetwork(in_features,hidden_dim, hidden_layer, output_dim)\n",
    "print(clf)\n",
    "\n",
    "params = clf.parameters()\n",
    "# print(len(params))\n",
    "\n",
    "for p in params:\n",
    "    print(p.size())  # conv1's .weight\n",
    "    print(p)"
   ]
  },
  {
   "cell_type": "markdown",
   "metadata": {},
   "source": [
    "#### Compute Weight and Bias"
   ]
  },
  {
   "cell_type": "markdown",
   "metadata": {},
   "source": [
    "##### Initialize loss and optimizer"
   ]
  },
  {
   "cell_type": "code",
   "execution_count": 10,
   "metadata": {},
   "outputs": [],
   "source": [
    "# # Construct least square loss function for learning\n",
    "# from logging import critical\n",
    "\n",
    "\n",
    "# class LeastSquareLoss(nn.Module):\n",
    "#     def __init__(self):\n",
    "#         super(LeastSquareLoss, self).__init__()\n",
    " \n",
    "#     def forward(self, inputs, targets):\n",
    "#         difference = targets - inputs\n",
    "#         loss_value = torch.sum(difference**2)\n",
    "#         return loss_value\n",
    "\n",
    "\n",
    "# criterion = LeastSquareLoss()\n",
    "criterion = nn.MSELoss()\n",
    "# Construct the optimizer (Stochastic Gradient Descent in this case)\n",
    "optimizer = torch.optim.SGD(clf.parameters(), lr = 0.3)"
   ]
  },
  {
   "cell_type": "code",
   "execution_count": 11,
   "metadata": {},
   "outputs": [
    {
     "name": "stdout",
     "output_type": "stream",
     "text": [
      "epoch:  0  loss:  0.3543110191822052\n",
      "epoch:  1  loss:  0.353139191865921\n",
      "epoch:  2  loss:  0.3520854115486145\n",
      "epoch:  3  loss:  0.3510313332080841\n",
      "epoch:  4  loss:  0.34986698627471924\n",
      "epoch:  5  loss:  0.3484770655632019\n",
      "epoch:  6  loss:  0.34672635793685913\n",
      "epoch:  7  loss:  0.34444358944892883\n",
      "epoch:  8  loss:  0.341400146484375\n",
      "epoch:  9  loss:  0.33728060126304626\n",
      "epoch:  10  loss:  0.3316386342048645\n",
      "epoch:  11  loss:  0.3238316476345062\n",
      "epoch:  12  loss:  0.3129258453845978\n",
      "epoch:  13  loss:  0.29756948351860046\n",
      "epoch:  14  loss:  0.27586835622787476\n",
      "epoch:  15  loss:  0.24542970955371857\n",
      "epoch:  16  loss:  0.20408321917057037\n",
      "epoch:  17  loss:  0.15230046212673187\n",
      "epoch:  18  loss:  0.09749540686607361\n",
      "epoch:  19  loss:  0.05444904789328575\n",
      "epoch:  20  loss:  0.03271016851067543\n",
      "epoch:  21  loss:  0.026057342067360878\n",
      "epoch:  22  loss:  0.024429116398096085\n",
      "epoch:  23  loss:  0.02370799146592617\n",
      "epoch:  24  loss:  0.023102177307009697\n",
      "epoch:  25  loss:  0.02251606434583664\n",
      "epoch:  26  loss:  0.0219412874430418\n",
      "epoch:  27  loss:  0.02137765660881996\n",
      "epoch:  28  loss:  0.02082553319633007\n",
      "epoch:  29  loss:  0.020285220816731453\n",
      "epoch:  30  loss:  0.019757002592086792\n",
      "epoch:  31  loss:  0.01924109272658825\n",
      "epoch:  32  loss:  0.018737632781267166\n",
      "epoch:  33  loss:  0.01824677176773548\n",
      "epoch:  34  loss:  0.017768578603863716\n",
      "epoch:  35  loss:  0.017303116619586945\n",
      "epoch:  36  loss:  0.01685037463903427\n",
      "epoch:  37  loss:  0.01641031727194786\n",
      "epoch:  38  loss:  0.015982888638973236\n",
      "epoch:  39  loss:  0.015567994676530361\n",
      "epoch:  40  loss:  0.015165508724749088\n",
      "epoch:  41  loss:  0.014775288291275501\n",
      "epoch:  42  loss:  0.014397155493497849\n",
      "epoch:  43  loss:  0.01403090637177229\n",
      "epoch:  44  loss:  0.013676335103809834\n",
      "epoch:  45  loss:  0.01333321537822485\n",
      "epoch:  46  loss:  0.013001288287341595\n",
      "epoch:  47  loss:  0.012680305168032646\n",
      "epoch:  48  loss:  0.01236999686807394\n",
      "epoch:  49  loss:  0.01207008957862854\n",
      "epoch:  50  loss:  0.011780298314988613\n",
      "epoch:  51  loss:  0.011500339023768902\n",
      "epoch:  52  loss:  0.011229918338358402\n",
      "epoch:  53  loss:  0.010968750342726707\n",
      "epoch:  54  loss:  0.010716547258198261\n",
      "epoch:  55  loss:  0.010473022237420082\n",
      "epoch:  56  loss:  0.010237876325845718\n",
      "epoch:  57  loss:  0.010010834783315659\n",
      "epoch:  58  loss:  0.00979161262512207\n",
      "epoch:  59  loss:  0.009579944424331188\n",
      "epoch:  60  loss:  0.009375554509460926\n",
      "epoch:  61  loss:  0.009178179316222668\n",
      "epoch:  62  loss:  0.008987562730908394\n",
      "epoch:  63  loss:  0.008803452365100384\n",
      "epoch:  64  loss:  0.008625605143606663\n",
      "epoch:  65  loss:  0.008453785441815853\n",
      "epoch:  66  loss:  0.008287769742310047\n",
      "epoch:  67  loss:  0.008127317763864994\n",
      "epoch:  68  loss:  0.007972238585352898\n",
      "epoch:  69  loss:  0.007822306826710701\n",
      "epoch:  70  loss:  0.007677331566810608\n",
      "epoch:  71  loss:  0.007537119090557098\n",
      "epoch:  72  loss:  0.007401485461741686\n",
      "epoch:  73  loss:  0.0072702402248978615\n",
      "epoch:  74  loss:  0.007143228314816952\n",
      "epoch:  75  loss:  0.007020275108516216\n",
      "epoch:  76  loss:  0.0069012208841741085\n",
      "epoch:  77  loss:  0.006785920821130276\n",
      "epoch:  78  loss:  0.006674225442111492\n",
      "epoch:  79  loss:  0.0065659875981509686\n",
      "epoch:  80  loss:  0.006461084820330143\n",
      "epoch:  81  loss:  0.00635937973856926\n",
      "epoch:  82  loss:  0.006260756868869066\n",
      "epoch:  83  loss:  0.006165087688714266\n",
      "epoch:  84  loss:  0.006072277668863535\n",
      "epoch:  85  loss:  0.005982188507914543\n",
      "epoch:  86  loss:  0.0058947475627064705\n",
      "epoch:  87  loss:  0.005809831898659468\n",
      "epoch:  88  loss:  0.005727359093725681\n",
      "epoch:  89  loss:  0.005647233687341213\n",
      "epoch:  90  loss:  0.005569374654442072\n",
      "epoch:  91  loss:  0.005493688862770796\n",
      "epoch:  92  loss:  0.005420103669166565\n",
      "epoch:  93  loss:  0.005348534788936377\n",
      "epoch:  94  loss:  0.005278913304209709\n",
      "epoch:  95  loss:  0.005211168900132179\n",
      "epoch:  96  loss:  0.005145236384123564\n",
      "epoch:  97  loss:  0.005081047769635916\n",
      "epoch:  98  loss:  0.005018542520701885\n",
      "epoch:  99  loss:  0.004957667551934719\n"
     ]
    }
   ],
   "source": [
    "for e in range(epoch):\n",
    "   # Forward pass: Compute predicted y by passing x to the model\n",
    "   y_pred = clf(nn_input_train)\n",
    "\n",
    "   # Compute and print loss\n",
    "   loss = criterion(y_pred, y_train)\n",
    "   print('epoch: ', e,' loss: ', loss.item())\n",
    "\n",
    "   # Zero gradients, perform a backward pass, and update the weights.\n",
    "   optimizer.zero_grad()\n",
    "\n",
    "   # perform a backward pass (backpropagation)\n",
    "   loss.backward()\n",
    "\n",
    "   # Update the parameters\n",
    "   optimizer.step()"
   ]
  },
  {
   "cell_type": "code",
   "execution_count": 12,
   "metadata": {},
   "outputs": [
    {
     "name": "stdout",
     "output_type": "stream",
     "text": [
      "Parameter containing:\n",
      "tensor([[ 0.0872, -0.2004, -0.1041, -0.1367],\n",
      "        [ 0.1901,  0.0104,  0.4001, -0.2638],\n",
      "        [ 0.4205,  0.2533, -0.1256, -0.4043],\n",
      "        [-0.2044,  0.5283,  0.2181, -0.2452]], requires_grad=True)\n",
      "Parameter containing:\n",
      "tensor([[-0.5479,  0.4327,  0.2817,  0.1146],\n",
      "        [ 0.4951, -0.4273,  0.3331, -0.3874],\n",
      "        [-0.5014,  0.2479,  0.2442, -0.2680],\n",
      "        [-0.0477, -0.2043, -0.0909,  0.0843]], requires_grad=True)\n",
      "Parameter containing:\n",
      "tensor([[ 0.1959,  0.0344, -0.2087,  0.1441],\n",
      "        [ 0.4705, -0.5999,  0.2056, -0.0563],\n",
      "        [ 0.4842, -0.5810,  0.1060,  0.3121],\n",
      "        [ 0.1878,  0.1657, -0.0197,  0.2935]], requires_grad=True)\n",
      "Parameter containing:\n",
      "tensor([[-0.4759,  0.5431,  0.5523,  0.1860],\n",
      "        [-0.0906, -0.1469, -0.2399,  0.0246],\n",
      "        [-0.1590, -0.5097, -0.7349,  0.1852],\n",
      "        [-0.1273, -0.3612,  0.0421, -0.0829]], requires_grad=True)\n",
      "Parameter containing:\n",
      "tensor([[ 0.1910, -0.1357, -0.7834,  0.1228],\n",
      "        [-0.6341,  0.0102,  0.4648,  0.4369],\n",
      "        [-0.0019, -0.4161, -0.2114,  0.0802],\n",
      "        [ 0.3096, -0.3472, -0.5861, -0.1416]], requires_grad=True)\n",
      "Parameter containing:\n",
      "tensor([[ 0.7357, -0.7855,  0.1676,  0.6777]], requires_grad=True)\n",
      "tensor([[0.5798],\n",
      "        [0.5798],\n",
      "        [0.5798],\n",
      "        ...,\n",
      "        [0.0000],\n",
      "        [0.0000],\n",
      "        [0.0000]], grad_fn=<MmBackward0>)\n",
      " loss:  0.0011018591467291117\n"
     ]
    }
   ],
   "source": [
    "for param in clf.parameters():\n",
    "   print(param)\n",
    "\n",
    "# Loss testing\n",
    "y_pred_test = clf(nn_input_test)\n",
    "print(y_pred_test)\n",
    "loss = criterion(y_pred_test, y_test)\n",
    "print(' loss: ', loss.item())"
   ]
  },
  {
   "cell_type": "code",
   "execution_count": 13,
   "metadata": {},
   "outputs": [
    {
     "name": "stdout",
     "output_type": "stream",
     "text": [
      "tensor([[0.5798],\n",
      "        [0.5798],\n",
      "        [0.5798],\n",
      "        ...,\n",
      "        [0.0000],\n",
      "        [0.0000],\n",
      "        [0.0000]], grad_fn=<MmBackward0>)\n"
     ]
    },
    {
     "data": {
      "image/png": "[encoded data removed]",
      "text/plain": [
       "<Figure size 432x288 with 1 Axes>"
      ]
     },
     "metadata": {
      "needs_background": "light"
     },
     "output_type": "display_data"
    }
   ],
   "source": [
    "# Print test data\n",
    "nn_input_test = nn_input_test.detach().numpy()\n",
    "\n",
    "y_pred_test_detach = y_pred_test.detach().numpy()\n",
    "\n",
    "y_test = y_test.detach().numpy()\n",
    "# plt.plot(nn_input_test, label='input value')\n",
    "plt.plot(y_pred_test_detach, label='predicted value')\n",
    "plt.plot(y_test, label='real value')\n",
    "leg = plt.legend()\n",
    "\n",
    "print(y_pred_test)"
   ]
  },
  {
   "cell_type": "markdown",
   "metadata": {},
   "source": [
    "##### Transform NN Weights to Transfer Function"
   ]
  },
  {
   "cell_type": "markdown",
   "metadata": {},
   "source": [
    "In here, we define an NN2TF algorithm. Based on the reference paper, the parameter $a_{j}$ and $b_{i}$ can be estimated by\n",
    "\n",
    "$$a_{j} = (\\sum_{h=1}^H (wout_{h}v_{jh}))$$\n",
    "\n",
    "$$b_{i} = (\\sum_{h=1}^H (wout_{h}w_{ih}))$$\n",
    "\n",
    "For tanh activation function."
   ]
  },
  {
   "cell_type": "code",
   "execution_count": 14,
   "metadata": {},
   "outputs": [
    {
     "name": "stdout",
     "output_type": "stream",
     "text": [
      "wout :  [[ 0.73570895 -0.7855375   0.1676112   0.677703  ]]\n",
      "w_hidden :  [[ 0.08719596 -0.20035504 -0.10414492 -0.1366684 ]\n",
      " [ 0.19007473  0.01036781  0.40008122 -0.2638328 ]\n",
      " [ 0.4205162   0.2533268  -0.12555431 -0.40432718]\n",
      " [-0.2044357   0.52833164  0.2180852  -0.24521959]]\n",
      "[[-0.15322347  0.24496505 -0.26414645 -0.12725341]]\n",
      "w_hidden :  [[-0.54786015  0.43268165  0.28166065  0.11462629]\n",
      " [ 0.49506631 -0.42732647  0.33305198 -0.38739413]\n",
      " [-0.50136083  0.24791782  0.24416345 -0.26800498]\n",
      " [-0.04768356 -0.20432131 -0.090937    0.08428805]]\n",
      "[[-1.06153126  0.80205837 -0.33925475  0.27359241]]\n",
      "w_hidden :  [[ 0.1959167   0.03437458 -0.20872891  0.1440832 ]\n",
      " [ 0.47053525 -0.5998624   0.20563285 -0.05627884]\n",
      " [ 0.48421106 -0.58100337  0.10597298  0.31214464]\n",
      " [ 0.18780501  0.16565362 -0.01967793  0.29354268]]\n",
      "[[-1.07858145  1.31344369 -0.64992432  0.67505854]]\n",
      "w_hidden :  [[-0.47585806  0.54308325  0.55225927  0.18599692]\n",
      " [-0.09059151 -0.1469408  -0.239853    0.02459552]\n",
      " [-0.15900485 -0.50972235 -0.73494214  0.1852248 ]\n",
      " [-0.1273015  -0.3612271   0.04210834 -0.08288624]]\n",
      "[[-1.47043505  1.49818254 -0.14985631  0.76745093]]\n",
      "w_hidden :  [[ 0.19095738 -0.13574223 -0.7834406   0.12278958]\n",
      " [-0.63410544  0.01018687  0.46477     0.43691692]\n",
      " [-0.00191475 -0.4161321  -0.21141902  0.08015602]\n",
      " [ 0.30956212 -0.34718284 -0.58608586 -0.14157526]]\n",
      "[[-0.62236217  1.08527833 -1.5239632   0.43206277]]\n",
      "[[-0.62236217  1.08527833 -1.5239632   0.43206277]]\n"
     ]
    }
   ],
   "source": [
    "def nn2tf(nn, hidden_layer, inp_order, target_order):\n",
    "    regressor = np.zeros((1, inp_order+target_order+1))\n",
    "    wout = nn.state_dict()['layer_stack.output_layer.weight']\n",
    "    wout = wout.numpy()\n",
    "    print('wout : ', wout)\n",
    "    # print(wout.size())\n",
    "    params = nn.named_parameters()\n",
    "    i = 0\n",
    "    for p in params:\n",
    "        # print(p)\n",
    "\n",
    "        w_hidden = nn.state_dict()['layer_stack.hidden_layer_{}.weight'.format(i)]\n",
    "        w_hidden = w_hidden.numpy()\n",
    "        print('w_hidden : ', w_hidden)\n",
    "        # Update regressor\n",
    "        regressor = regressor + (wout @ w_hidden)\n",
    "        print(regressor)\n",
    "\n",
    "        i = i + 1\n",
    "        if i == hidden_layer :\n",
    "            break\n",
    "    \n",
    "    # regressor = regressor * 0.5\n",
    "    return regressor\n",
    "\n",
    "\n",
    "regressor = nn2tf(clf, hidden_layer, inp_order, out_order)\n",
    "print(regressor)"
   ]
  },
  {
   "cell_type": "code",
   "execution_count": 15,
   "metadata": {},
   "outputs": [],
   "source": [
    "# Calculate estimated output from our model\n",
    "y_pred = np.zeros((len(output),1))\n",
    "\n",
    "nn_input_detach = nn_input.detach().numpy()\n",
    "\n",
    "for i in range(len(output)):\n",
    "    if i == 0 :\n",
    "        y_pred[i] = regressor[0][0] * nn_input_detach[i][0]\n",
    "        continue\n",
    "    \n",
    "    # Fill y(k-1)\n",
    "    if i >= 1 :\n",
    "        nn_input_detach[i][2] = y_pred[i-1]\n",
    "    \n",
    "        # Fill y(k-2)\n",
    "    if i >=2 :\n",
    "        nn_input_detach[i][3] = y_pred[i-2]\n",
    "\n",
    "    for j in range (len(regressor)):\n",
    "        y_pred[i] += regressor[0][j] * nn_input_detach[i][j]"
   ]
  },
  {
   "cell_type": "code",
   "execution_count": 16,
   "metadata": {},
   "outputs": [
    {
     "name": "stdout",
     "output_type": "stream",
     "text": [
      "[[-0.06223622]\n",
      " [-0.06223622]\n",
      " [-0.06223622]\n",
      " ...\n",
      " [ 0.        ]\n",
      " [ 0.        ]\n",
      " [ 0.        ]]\n"
     ]
    },
    {
     "data": {
      "image/png": "[encoded data removed]",
      "text/plain": [
       "<Figure size 432x288 with 1 Axes>"
      ]
     },
     "metadata": {
      "needs_background": "light"
     },
     "output_type": "display_data"
    }
   ],
   "source": [
    "# Plot estimated output\n",
    "\n",
    "print(y_pred)\n",
    "plt.plot(y_pred, label='estimated value')\n",
    "plt.plot(output, label='real value')\n",
    "leg = plt.legend()"
   ]
  },
  {
   "cell_type": "markdown",
   "metadata": {},
   "source": [
    "### 3. Estimate Parameter with Genetic Algorithm, Simulated Annealing, and Particle Swarm Opt"
   ]
  },
  {
   "cell_type": "markdown",
   "metadata": {},
   "source": [
    "#### a. Simulated Annealing"
   ]
  },
  {
   "cell_type": "markdown",
   "metadata": {},
   "source": [
    "Here we won't redefine delayed input and nn, since we assume the order are the same with the previous method."
   ]
  },
  {
   "cell_type": "code",
   "execution_count": 17,
   "metadata": {},
   "outputs": [],
   "source": [
    "## Initialize input and output\n",
    "# Split training and test data\n",
    "nn_ga_train = nn_input[:10000, :]\n",
    "nn_ga_test = nn_input[10000:, :]\n",
    "\n",
    "y_ga_train =output[:10000, :]\n",
    "y_ga_test = output[10000:, :]"
   ]
  },
  {
   "cell_type": "code",
   "execution_count": 18,
   "metadata": {},
   "outputs": [
    {
     "name": "stdout",
     "output_type": "stream",
     "text": [
      "NeuralNetwork(\n",
      "  (layer_stack): Sequential(\n",
      "    (hidden_layer_0): Linear(in_features=4, out_features=4, bias=False)\n",
      "    (activation_0): Tanh()\n",
      "    (hidden_layer_1): Linear(in_features=4, out_features=4, bias=False)\n",
      "    (activation_1): Tanh()\n",
      "    (hidden_layer_2): Linear(in_features=4, out_features=4, bias=False)\n",
      "    (activation_2): Tanh()\n",
      "    (hidden_layer_3): Linear(in_features=4, out_features=4, bias=False)\n",
      "    (activation_3): Tanh()\n",
      "    (hidden_layer_4): Linear(in_features=4, out_features=4, bias=False)\n",
      "    (activation_4): Tanh()\n",
      "    (output_layer): Linear(in_features=4, out_features=1, bias=False)\n",
      "  )\n",
      ")\n",
      "torch.Size([4, 4])\n",
      "Parameter containing:\n",
      "tensor([[ 0.1491, -0.0697, -0.4628, -0.0747],\n",
      "        [-0.4458, -0.2838,  0.2803, -0.4555],\n",
      "        [-0.0865,  0.1642,  0.2764,  0.1545],\n",
      "        [-0.0573,  0.0199,  0.2970, -0.1227]], requires_grad=True)\n",
      "torch.Size([4, 4])\n",
      "Parameter containing:\n",
      "tensor([[ 0.1964, -0.0065, -0.2459,  0.4988],\n",
      "        [-0.0577,  0.0958, -0.2293,  0.2159],\n",
      "        [ 0.2358, -0.4926,  0.3679,  0.2767],\n",
      "        [ 0.3354, -0.0840,  0.0012, -0.4060]], requires_grad=True)\n",
      "torch.Size([4, 4])\n",
      "Parameter containing:\n",
      "tensor([[ 0.2545, -0.2913,  0.1768,  0.2997],\n",
      "        [ 0.3485, -0.2841, -0.2050,  0.2689],\n",
      "        [ 0.1778,  0.4039, -0.4676,  0.2905],\n",
      "        [ 0.0987,  0.1122,  0.4621,  0.1199]], requires_grad=True)\n",
      "torch.Size([4, 4])\n",
      "Parameter containing:\n",
      "tensor([[-0.1881,  0.2324,  0.3428, -0.1134],\n",
      "        [ 0.2268, -0.3902, -0.3147,  0.4934],\n",
      "        [ 0.0928,  0.1191,  0.0548,  0.1688],\n",
      "        [-0.4381,  0.0452, -0.4799, -0.3413]], requires_grad=True)\n",
      "torch.Size([4, 4])\n",
      "Parameter containing:\n",
      "tensor([[-0.2862,  0.2082,  0.3694, -0.1884],\n",
      "        [-0.4918, -0.2847,  0.4594, -0.0767],\n",
      "        [ 0.2588, -0.3689,  0.1368,  0.4915],\n",
      "        [-0.3099, -0.0950, -0.0295, -0.2677]], requires_grad=True)\n",
      "torch.Size([1, 4])\n",
      "Parameter containing:\n",
      "tensor([[ 0.3516, -0.2836, -0.3726,  0.2243]], requires_grad=True)\n"
     ]
    }
   ],
   "source": [
    "# Create Network\n",
    "network=NeuralNetwork(in_features,hidden_dim, hidden_layer, output_dim)\n",
    "print(network)\n",
    "\n",
    "params = network.parameters()\n",
    "# print(len(params))\n",
    "\n",
    "for p in params:\n",
    "    print(p.size())\n",
    "    print(p)"
   ]
  },
  {
   "cell_type": "markdown",
   "metadata": {},
   "source": [
    "#### Compute Weight and Bias"
   ]
  },
  {
   "cell_type": "markdown",
   "metadata": {},
   "source": [
    "##### Define Simulated Annealing Optimizer and Initialize"
   ]
  },
  {
   "cell_type": "code",
   "execution_count": 19,
   "metadata": {},
   "outputs": [
    {
     "name": "stdout",
     "output_type": "stream",
     "text": [
      "0.7132629161764259\n"
     ]
    }
   ],
   "source": [
    "print(np.random.random())"
   ]
  },
  {
   "cell_type": "code",
   "execution_count": 20,
   "metadata": {},
   "outputs": [],
   "source": [
    "import torch\n",
    "from torch.optim import Optimizer\n",
    "import torch.nn as nn\n",
    "import numpy as np\n",
    "import math\n",
    "import random\n",
    "\n",
    "class SimulatedAnnealing(Optimizer):\n",
    "    def __init__(self, neighborhoodSize = 0.2\n",
    "                 , loss = nn.MSELoss()\n",
    "                 , model = None\n",
    "                 , features = None\n",
    "                 , labels = None\n",
    "                 , bounds= None\n",
    "                 , initTemp= None\n",
    "                 , finalTemp = 0): #these represent default values, but can be overridden\n",
    "        self.loss = loss\n",
    "        self.model = model\n",
    "        self.bounds = bounds\n",
    "        self.features = features\n",
    "        self.labels = labels\n",
    "        self.neighborhoodSize = neighborhoodSize\n",
    "        self.currTemp = initTemp\n",
    "        self.finalTemp = finalTemp\n",
    "        self.iterPerTemp = 5\n",
    "        self.stepTemp = 0.01\n",
    "\n",
    "    def step(self):\n",
    "        #need to first generate a random new point in the space\n",
    "        oldOutputs = self.model(self.features)\n",
    "        oldLoss = self.loss(oldOutputs, self.labels.type(torch.LongTensor))\n",
    "        # Save init values\n",
    "        old_state_dict = {}\n",
    "        for key in self.model.state_dict():\n",
    "            old_state_dict[key] = self.model.state_dict()[key].clone()\n",
    "\n",
    "        for name, param in self.model.state_dict().items():\n",
    "            for i in range(self.iterPerTemp):\n",
    "            #generate a matrix of random changes in each param element to be added to each param matrix\n",
    "                if (len(param.shape) == 2):\n",
    "                    random = torch.Tensor(np.random.uniform(low = self.bounds[0][0], high =self.bounds[0][1]\n",
    "                                                            , size = (param.shape[0], param.shape[1])))\n",
    "                else:\n",
    "                    random = torch.Tensor(np.random.uniform(low = self.bounds[0][0], high = self.bounds[0][1]\n",
    "                                                            , size = param.shape[0]))\n",
    "                #now add random to the params to transform them\n",
    "                new_param = param + random * self.neighborhoodSize\n",
    "                self.model.state_dict()[name].copy_(new_param)\n",
    "\n",
    "                newOutputs = self.model(self.features)\n",
    "                newWeights = self.model.state_dict().items()\n",
    "                newLoss = self.loss(newOutputs, self.labels.type(torch.LongTensor))\n",
    "\n",
    "                self.model.load_state_dict(old_state_dict)\n",
    "\n",
    "                if (newLoss  < oldLoss):\n",
    "                     #put the old weights back\n",
    "                     self.model.state_dict()[name].copy_(new_param)\n",
    "                else:\n",
    "                    if np.random.random() < math.exp(-(newLoss-oldLoss) / self.currTemp):\n",
    "                        self.model.state_dict()[name].copy_(new_param)\n",
    "        self.currTemp -= self.stepTemp\n",
    "        print(self.currTemp)"
   ]
  },
  {
   "cell_type": "code",
   "execution_count": 21,
   "metadata": {},
   "outputs": [
    {
     "name": "stdout",
     "output_type": "stream",
     "text": [
      "epoch:  0  loss:  0.322165846824646\n",
      "4.99\n",
      "epoch:  1  loss:  0.20991723239421844\n",
      "4.98\n",
      "epoch:  2  loss:  0.1543910652399063\n",
      "4.970000000000001\n",
      "epoch:  3  loss:  0.24367202818393707\n",
      "4.960000000000001\n",
      "epoch:  4  loss:  0.20880933105945587\n",
      "4.950000000000001\n",
      "epoch:  5  loss:  0.0834796279668808\n",
      "4.940000000000001\n",
      "epoch:  6  loss:  0.062452368438243866\n",
      "4.9300000000000015\n",
      "epoch:  7  loss:  0.17963752150535583\n",
      "4.920000000000002\n",
      "epoch:  8  loss:  0.1724335253238678\n",
      "4.910000000000002\n",
      "epoch:  9  loss:  0.31353089213371277\n",
      "4.900000000000002\n",
      "epoch:  10  loss:  0.09779953956604004\n",
      "4.890000000000002\n",
      "epoch:  11  loss:  0.2145725041627884\n",
      "4.880000000000003\n",
      "epoch:  12  loss:  0.16691207885742188\n",
      "4.870000000000003\n",
      "epoch:  13  loss:  0.12900665402412415\n",
      "4.860000000000003\n",
      "epoch:  14  loss:  0.10175791382789612\n",
      "4.850000000000003\n",
      "epoch:  15  loss:  0.05153079330921173\n",
      "4.840000000000003\n",
      "epoch:  16  loss:  0.11639370024204254\n",
      "4.830000000000004\n",
      "epoch:  17  loss:  0.017713239416480064\n",
      "4.820000000000004\n",
      "epoch:  18  loss:  0.02159731462597847\n",
      "4.810000000000004\n",
      "epoch:  19  loss:  0.045649439096450806\n",
      "4.800000000000004\n"
     ]
    }
   ],
   "source": [
    "lossFunc =  nn.MSELoss()\n",
    "optimizer = SimulatedAnnealing(loss = lossFunc, model=network, features=nn_ga_train, labels=y_ga_train, bounds = torch.tensor([[-10, 10]]), initTemp = 5)\n",
    "epoch = 500\n",
    "for e in range(epoch):\n",
    "\n",
    "   # Forward pass: Computed predicted y by passing x to the model\n",
    "   y_pred = network(nn_ga_train)\n",
    "\n",
    "   # Compute and print loss\n",
    "   loss = lossFunc(y_pred, y_ga_train)\n",
    "\n",
    "   # Define termination criteria\n",
    "   if (optimizer.currTemp-0.00005 <= optimizer.finalTemp) or (loss < 0.008):\n",
    "      break\n",
    "   print('epoch: ', e,' loss: ', loss.item())\n",
    "\n",
    "   # Update the parameters\n",
    "   optimizer.step()"
   ]
  },
  {
   "cell_type": "code",
   "execution_count": 22,
   "metadata": {},
   "outputs": [
    {
     "data": {
      "text/plain": [
       "<matplotlib.legend.Legend at 0x1cff22cdb20>"
      ]
     },
     "execution_count": 22,
     "metadata": {},
     "output_type": "execute_result"
    },
    {
     "data": {
      "image/png": "[encoded data removed]",
      "text/plain": [
       "<Figure size 432x288 with 1 Axes>"
      ]
     },
     "metadata": {
      "needs_background": "light"
     },
     "output_type": "display_data"
    }
   ],
   "source": [
    "# print train data\n",
    "y_pred_train = network(nn_ga_train)\n",
    "y_pred_train_detach = y_pred_train.detach().numpy()\n",
    "\n",
    "y_train = y_ga_train.detach().numpy()\n",
    "plt.plot(y_pred_train_detach, label='predicted value')\n",
    "plt.plot(y_train, label='real value')\n",
    "plt.legend()"
   ]
  },
  {
   "cell_type": "code",
   "execution_count": 23,
   "metadata": {},
   "outputs": [
    {
     "name": "stdout",
     "output_type": "stream",
     "text": [
      "tensor([[0.5112],\n",
      "        [0.5112],\n",
      "        [0.5112],\n",
      "        ...,\n",
      "        [0.0000],\n",
      "        [0.0000],\n",
      "        [0.0000]], grad_fn=<MmBackward0>)\n"
     ]
    },
    {
     "data": {
      "image/png": "[encoded data removed]",
      "text/plain": [
       "<Figure size 432x288 with 1 Axes>"
      ]
     },
     "metadata": {
      "needs_background": "light"
     },
     "output_type": "display_data"
    }
   ],
   "source": [
    "# Print test data\n",
    "y_pred_test = network(nn_ga_test)\n",
    "\n",
    "y_pred_test_detach = y_pred_test.detach().numpy()\n",
    "\n",
    "y_test = y_ga_test.detach().numpy()\n",
    "# plt.plot(nn_input_test, label='input value')\n",
    "plt.plot(y_pred_test_detach, label='predicted value')\n",
    "plt.plot(y_test, label='real value')\n",
    "leg = plt.legend()\n",
    "\n",
    "print(y_pred_test)"
   ]
  },
  {
   "cell_type": "code",
   "execution_count": 24,
   "metadata": {},
   "outputs": [
    {
     "name": "stdout",
     "output_type": "stream",
     "text": [
      "[[0.  1.5]]\n",
      "0.39129154291384566\n",
      ">0 f([0.54531572]) = 0.29737\n",
      ">1 f([0.50042794]) = 0.25043\n",
      ">2 f([0.38983443]) = 0.15197\n",
      ">3 f([0.22438289]) = 0.05035\n",
      ">4 f([-0.01196397]) = 0.00014\n",
      ">24 f([0.00677429]) = 0.00005\n",
      ">26 f([0.00527809]) = 0.00003\n",
      ">27 f([0.00401163]) = 0.00002\n",
      ">76 f([0.00367788]) = 0.00001\n",
      ">81 f([0.00045578]) = 0.00000\n",
      ">556 f([-0.00018765]) = 0.00000\n",
      "Done!\n",
      "f([-0.00018765]) = 0.000000\n"
     ]
    },
    {
     "data": {
      "image/png": "[encoded data removed]",
      "text/plain": [
       "<Figure size 432x288 with 1 Axes>"
      ]
     },
     "metadata": {
      "needs_background": "light"
     },
     "output_type": "display_data"
    }
   ],
   "source": [
    "# simulated annealing search of a one-dimensional objective function\n",
    "from numpy import asarray\n",
    "from numpy import exp\n",
    "from numpy.random import randn\n",
    "from numpy.random import rand\n",
    "from numpy.random import seed\n",
    "from matplotlib import pyplot\n",
    "import random\n",
    " \n",
    "# objective function\n",
    "def objective(x):\n",
    "\treturn x[0]**2.0\n",
    " \n",
    "# simulated annealing algorithm\n",
    "def simulated_annealing(objective, bounds, n_iterations, step_size, temp):\n",
    "\t# generate an initial point\n",
    "\tbest = bounds[:, 0] + rand(len(bounds)) * (bounds[:, 1] - bounds[:, 0])\n",
    "\t# evaluate the initial point\n",
    "\tbest_eval = objective(best)\n",
    "\tprint(best_eval)\n",
    "\t# current working solution\n",
    "\tcurr, curr_eval = best, best_eval\n",
    "\tscores = list()\n",
    "\t# run the algorithm\n",
    "\tfor i in range(n_iterations):\n",
    "\t\t# take a step\n",
    "\t\tcandidate = curr + randn(len(bounds)) * step_size\n",
    "\t\t# evaluate candidate point\n",
    "\t\tcandidate_eval = objective(candidate)\n",
    "\t\t# check for new best solution\n",
    "\t\tif candidate_eval < best_eval:\n",
    "\t\t\t# store new best point\n",
    "\t\t\tbest, best_eval = candidate, candidate_eval\n",
    "\t\t\t# keep track of scores\n",
    "\t\t\tscores.append(best_eval)\n",
    "\t\t\t# report progress\n",
    "\t\t\tprint('>%d f(%s) = %.5f' % (i, best, best_eval))\n",
    "\t\t# difference between candidate and current point evaluation\n",
    "\t\tdiff = candidate_eval - curr_eval\n",
    "\t\t# calculate temperature for current epoch\n",
    "\t\tt = temp / float(i + 1)\n",
    "\t\t# calculate metropolis acceptance criterion\n",
    "\t\tmetropolis = exp(-diff / t)\n",
    "\t\t# check if we should keep the new point\n",
    "\t\tif diff < 0 or rand() < metropolis:\n",
    "\t\t\t# store the new current point\n",
    "\t\t\tcurr, curr_eval = candidate, candidate_eval\n",
    "\treturn [best, best_eval, scores]\n",
    " \n",
    "# seed the pseudorandom number generator\n",
    "seed(1)\n",
    "# define range for input\n",
    "bounds = asarray([[0.0, 1.5]])\n",
    "print(bounds)\n",
    "# define the total iterations\n",
    "n_iterations = 1000\n",
    "# define the maximum step size\n",
    "step_size = 0.1\n",
    "# initial temperature\n",
    "temp = 10\n",
    "# perform the simulated annealing search\n",
    "best, score, scores = simulated_annealing(objective, bounds, n_iterations, step_size, temp)\n",
    "print('Done!')\n",
    "print('f(%s) = %f' % (best, score))\n",
    "# line plot of best scores\n",
    "pyplot.plot(scores, '.-')\n",
    "pyplot.xlabel('Improvement Number')\n",
    "pyplot.ylabel('Evaluation f(x)')\n",
    "pyplot.show()"
   ]
  }
 ],
 "metadata": {
  "kernelspec": {
   "display_name": "Python 3.9.9 64-bit",
   "language": "python",
   "name": "python3"
  },
  "language_info": {
   "codemirror_mode": {
    "name": "ipython",
    "version": 3
   },
   "file_extension": ".py",
   "mimetype": "text/x-python",
   "name": "python",
   "nbconvert_exporter": "python",
   "pygments_lexer": "ipython3",
   "version": "3.9.9"
  },
  "orig_nbformat": 4,
  "vscode": {
   "interpreter": {
    "hash": "3021318854d23d1a95aba9536e4a65bc49265228afa1e057d18b531ce801e329"
   }
  }
 },
 "nbformat": 4,
 "nbformat_minor": 2
}
