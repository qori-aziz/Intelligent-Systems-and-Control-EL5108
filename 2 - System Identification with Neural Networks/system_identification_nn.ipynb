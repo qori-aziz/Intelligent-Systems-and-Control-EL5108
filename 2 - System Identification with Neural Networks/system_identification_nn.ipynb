{
 "cells": [
  {
   "cell_type": "markdown",
   "metadata": {},
   "source": [
    "# System identification with Neural Networks\n",
    "## Mohammad Qori Aziz Hakiki - 23222020\n",
    "\n",
    "Based on Tarek A. Tutunji (2016) - Parametric system identification using neural networks"
   ]
  },
  {
   "cell_type": "markdown",
   "metadata": {},
   "source": [
    "### 1. Import library"
   ]
  },
  {
   "cell_type": "code",
   "execution_count": 1,
   "metadata": {},
   "outputs": [],
   "source": [
    "import os\n",
    "import torch\n",
    "import numpy as np\n",
    "from torch import nn\n",
    "from torch.utils.data import DataLoader\n",
    "from torchvision import datasets, transforms\n",
    "from collections import OrderedDict\n"
   ]
  },
  {
   "cell_type": "markdown",
   "metadata": {},
   "source": [
    "### 2. Import Dataset From TXT"
   ]
  },
  {
   "cell_type": "code",
   "execution_count": 2,
   "metadata": {},
   "outputs": [
    {
     "name": "stdout",
     "output_type": "stream",
     "text": [
      "[[      nan       nan       nan       nan]\n",
      " [ 5.        0.        0.        5.      ]\n",
      " [ 5.        1.06069  16.713107  5.      ]\n",
      " ...\n",
      " [ 0.        1.161356  0.        0.      ]\n",
      " [ 0.        1.010358  0.        0.      ]\n",
      " [ 0.        1.010358  0.        0.      ]]\n",
      "tensor([[0.5000],\n",
      "        [0.5000],\n",
      "        [0.5000],\n",
      "        ...,\n",
      "        [0.0000],\n",
      "        [0.0000],\n",
      "        [0.0000]])\n",
      "tensor([[0.0000],\n",
      "        [0.0053],\n",
      "        [0.0556],\n",
      "        ...,\n",
      "        [0.0058],\n",
      "        [0.0051],\n",
      "        [0.0051]])\n"
     ]
    }
   ],
   "source": [
    "dataset = np.genfromtxt('6.txt',delimiter=';')\n",
    "print(dataset)\n",
    "\n",
    "# Get first column as input, skipping the header\n",
    "input_tensor=torch.as_tensor(dataset[1:, 0], dtype=torch.float32)\n",
    "input_tensor = torch.reshape(input_tensor, (len(input_tensor), 1))\n",
    "# Get second column as output, skipping the header\n",
    "output_tensor=torch.as_tensor(dataset[1:, 1], dtype=torch.float32)\n",
    "output_tensor = torch.reshape(output_tensor, (len(output_tensor), 1))\n",
    "input_tensor = input_tensor / 10\n",
    "output_tensor = output_tensor / 200\n",
    "print(input_tensor)\n",
    "print(output_tensor)"
   ]
  },
  {
   "cell_type": "markdown",
   "metadata": {},
   "source": [
    "### 3. Define and Apply Time Delay Block to datasets"
   ]
  },
  {
   "cell_type": "markdown",
   "metadata": {},
   "source": [
    "Here we apply time delay to our data. Suppose we predict that our DC motor transfer function will be like this:\n",
    "\n",
    "$$H(z) = \\frac{Y(z)}{U(z)} = \\frac{b_{0} + b_{1}z^{-1}}{1 - a_{1}z^{-1} - a_{2}z^{-2}}$$\n",
    "\n",
    "In time-domain, \n",
    "\n",
    "$$y(k) =a_{1}y(k-1) + a_{2}y(k-2) + b_{0}u(k) + b_{1}u(k-1)$$\n",
    "\n",
    "Based on the reference paper, we will estimate the $a_{i}$ and $b_{j}$ parameter from the weight of the NN.  \n",
    "\n",
    "To do so, the neural network inputs will be the delayed target output and inputs, in our case $y(k-1), y(k-2), u(k),$ and $u(k-1)$.\n"
   ]
  },
  {
   "cell_type": "code",
   "execution_count": 3,
   "metadata": {},
   "outputs": [
    {
     "name": "stdout",
     "output_type": "stream",
     "text": [
      "tensor([[0.5000, 0.0000, 0.0000, 0.0000],\n",
      "        [0.5000, 0.5000, 0.0000, 0.0000],\n",
      "        [0.5000, 0.5000, 0.0053, 0.0000],\n",
      "        [0.5000, 0.5000, 0.0556, 0.0053],\n",
      "        [0.5000, 0.5000, 0.1188, 0.0556]])\n",
      "torch.Size([12473, 4])\n"
     ]
    }
   ],
   "source": [
    "def timedelayblock(input, target, inp_order, target_order):\n",
    "    delayed_nn_input = input\n",
    "\n",
    "    # Append delayed input\n",
    "    for i in range(1, inp_order+1):\n",
    "        concated_tensor =torch.roll(input, i, 0)\n",
    "        for j in range(i):\n",
    "            concated_tensor[j, 0] = 0 # force zeroing delayed input\n",
    "        delayed_nn_input= torch.cat((delayed_nn_input, concated_tensor), 1)\n",
    "    \n",
    "    # Append delayed input\n",
    "    for k in range(1, target_order+1):\n",
    "        concated_tensor = torch.roll(target, k, 0)\n",
    "        for l in range(k):\n",
    "            concated_tensor[l, 0] = 0 # force zeroing delayed input\n",
    "        delayed_nn_input= torch.cat((delayed_nn_input, concated_tensor), 1)\n",
    "    return delayed_nn_input\n",
    "inp_order = 1\n",
    "out_order = 2\n",
    "# Create x(k), x(k-1), y(k-1), and y(k-2)\n",
    "nn_input= timedelayblock(input_tensor, output_tensor, inp_order, out_order)\n",
    "print(nn_input[0:5, :])\n",
    "print(nn_input.size())"
   ]
  },
  {
   "cell_type": "code",
   "execution_count": 4,
   "metadata": {},
   "outputs": [],
   "source": [
    "# Split training and test data\n",
    "nn_input_train = nn_input[:10000, :]\n",
    "nn_input_test = nn_input[10000:, :]\n",
    "\n",
    "y_train =output_tensor[:10000, :]\n",
    "y_test = output_tensor[10000:, :]"
   ]
  },
  {
   "cell_type": "markdown",
   "metadata": {},
   "source": [
    "### 4. Define NN Class"
   ]
  },
  {
   "cell_type": "markdown",
   "metadata": {},
   "source": [
    "Define the NN model that will be used.  \n",
    "Here we will add hidden layer and act function based on the parameters provided."
   ]
  },
  {
   "cell_type": "code",
   "execution_count": 5,
   "metadata": {},
   "outputs": [],
   "source": [
    "class NeuralNetwork(nn.Module):\n",
    "    def __init__(self, in_features, hidden_dim, hidden_layer, out_classes):\n",
    "        super(NeuralNetwork, self).__init__()\n",
    "        # Create ordered Dictionary based on the number of hidden_layer\n",
    "        sequence = OrderedDict()\n",
    "        for layer in range(hidden_layer):\n",
    "            if layer == 0:\n",
    "                sequence['hidden_layer_{}'.format(layer)] =nn.Linear(\n",
    "                    in_features, hidden_dim, bias=False)\n",
    "                sequence['activation_{}'.format(layer)] =  nn.Tanh()\n",
    "                continue\n",
    "            # For layer not in the input layer\n",
    "            sequence['hidden_layer_{}'.format(layer)] = nn.Linear(\n",
    "                hidden_dim, hidden_dim, bias=False)\n",
    "            sequence['activation_{}'.format(layer)] = nn.Tanh()\n",
    "        # Insert output layer\n",
    "        sequence['output_layer'] = nn.Linear(hidden_dim, out_classes, bias=False)\n",
    "\n",
    "        # print(sequence)\n",
    "        # return the sequential model\n",
    "        self.layer_stack = nn.Sequential(sequence)\n",
    "        \n",
    "\n",
    "    def forward(self, x):\n",
    "        x = self.layer_stack(x)\n",
    "        return x\n"
   ]
  },
  {
   "cell_type": "code",
   "execution_count": 6,
   "metadata": {},
   "outputs": [],
   "source": [
    "# Variable declaration\n",
    "# Since we have u(k), u(k-1), y(k-1), and y(k-2), we have 4 inputs.\n",
    "\n",
    "in_features=inp_order + out_order +1  # how many Variables are in the dataset\n",
    "hidden_dim= inp_order + out_order +1 # hidden i/o\n",
    "hidden_layer=3 # how many hidden layers\n",
    "output_dim=1   # number of classes\n",
    "epoch = 50"
   ]
  },
  {
   "cell_type": "code",
   "execution_count": 7,
   "metadata": {},
   "outputs": [
    {
     "name": "stdout",
     "output_type": "stream",
     "text": [
      "NeuralNetwork(\n",
      "  (layer_stack): Sequential(\n",
      "    (hidden_layer_0): Linear(in_features=4, out_features=4, bias=False)\n",
      "    (activation_0): Tanh()\n",
      "    (hidden_layer_1): Linear(in_features=4, out_features=4, bias=False)\n",
      "    (activation_1): Tanh()\n",
      "    (hidden_layer_2): Linear(in_features=4, out_features=4, bias=False)\n",
      "    (activation_2): Tanh()\n",
      "    (output_layer): Linear(in_features=4, out_features=1, bias=False)\n",
      "  )\n",
      ")\n",
      "torch.Size([4, 4])\n",
      "Parameter containing:\n",
      "tensor([[-0.0647, -0.3393,  0.2054, -0.0820],\n",
      "        [ 0.4613, -0.3248,  0.2080, -0.2496],\n",
      "        [-0.2473,  0.1452,  0.4052, -0.1225],\n",
      "        [-0.3723, -0.0373, -0.3916,  0.3571]], requires_grad=True)\n",
      "torch.Size([4, 4])\n",
      "Parameter containing:\n",
      "tensor([[-0.3405,  0.2364,  0.1971, -0.4974],\n",
      "        [-0.2870, -0.2716,  0.2508, -0.3347],\n",
      "        [-0.1421,  0.1840, -0.0509, -0.2530],\n",
      "        [-0.4546,  0.4666,  0.3337, -0.4095]], requires_grad=True)\n",
      "torch.Size([4, 4])\n",
      "Parameter containing:\n",
      "tensor([[-0.0058,  0.0974,  0.0545, -0.3256],\n",
      "        [ 0.3815, -0.4724,  0.4341,  0.2875],\n",
      "        [-0.3802, -0.0482,  0.2110, -0.0282],\n",
      "        [-0.1716, -0.1075,  0.2959,  0.0014]], requires_grad=True)\n",
      "torch.Size([1, 4])\n",
      "Parameter containing:\n",
      "tensor([[-0.2424, -0.1921, -0.4370,  0.0809]], requires_grad=True)\n"
     ]
    }
   ],
   "source": [
    "clf=NeuralNetwork(in_features,hidden_dim, hidden_layer, output_dim)\n",
    "print(clf)\n",
    "\n",
    "params = clf.parameters()\n",
    "# print(len(params))\n",
    "\n",
    "for p in params:\n",
    "    print(p.size())  # conv1's .weight\n",
    "    print(p)"
   ]
  },
  {
   "cell_type": "markdown",
   "metadata": {},
   "source": [
    "### 5. Compute weight and biases of our networks"
   ]
  },
  {
   "cell_type": "code",
   "execution_count": 8,
   "metadata": {},
   "outputs": [
    {
     "name": "stdout",
     "output_type": "stream",
     "text": [
      "tensor([[-0.0017],\n",
      "        [ 0.0125],\n",
      "        [ 0.0127],\n",
      "        ...,\n",
      "        [ 0.0102],\n",
      "        [ 0.0101],\n",
      "        [ 0.0104]], grad_fn=<MmBackward0>)\n"
     ]
    }
   ],
   "source": [
    "# Test our networks\n",
    "out = clf(nn_input_train)\n",
    "print(out)"
   ]
  },
  {
   "cell_type": "code",
   "execution_count": 9,
   "metadata": {},
   "outputs": [],
   "source": [
    "# Construct loss function for learning\n",
    "criterion = nn.MSELoss()\n",
    "# Construct the optimizer (Stochastic Gradient Descent in this case)\n",
    "optimizer = torch.optim.SGD(clf.parameters(), lr = 0.3)"
   ]
  },
  {
   "cell_type": "code",
   "execution_count": 10,
   "metadata": {},
   "outputs": [
    {
     "name": "stdout",
     "output_type": "stream",
     "text": [
      "epoch:  0  loss:  0.3436567485332489\n",
      "epoch:  1  loss:  0.3227179944515228\n",
      "epoch:  2  loss:  0.29383522272109985\n",
      "epoch:  3  loss:  0.25160232186317444\n",
      "epoch:  4  loss:  0.1932978630065918\n",
      "epoch:  5  loss:  0.12495879828929901\n",
      "epoch:  6  loss:  0.06501361727714539\n",
      "epoch:  7  loss:  0.030219538137316704\n",
      "epoch:  8  loss:  0.01758217252790928\n",
      "epoch:  9  loss:  0.014474591240286827\n",
      "epoch:  10  loss:  0.013779614120721817\n",
      "epoch:  11  loss:  0.013521737419068813\n",
      "epoch:  12  loss:  0.01333241444081068\n",
      "epoch:  13  loss:  0.013155564665794373\n",
      "epoch:  14  loss:  0.01298342552036047\n",
      "epoch:  15  loss:  0.012814928777515888\n",
      "epoch:  16  loss:  0.01264986302703619\n",
      "epoch:  17  loss:  0.01248811837285757\n",
      "epoch:  18  loss:  0.012329600751399994\n",
      "epoch:  19  loss:  0.01217421144247055\n",
      "epoch:  20  loss:  0.012021856382489204\n",
      "epoch:  21  loss:  0.011872446164488792\n",
      "epoch:  22  loss:  0.0117258932441473\n",
      "epoch:  23  loss:  0.011582107283174992\n",
      "epoch:  24  loss:  0.011441008187830448\n",
      "epoch:  25  loss:  0.011302507482469082\n",
      "epoch:  26  loss:  0.011166529729962349\n",
      "epoch:  27  loss:  0.011032992042601109\n",
      "epoch:  28  loss:  0.010901826433837414\n",
      "epoch:  29  loss:  0.010772953741252422\n",
      "epoch:  30  loss:  0.010646307840943336\n",
      "epoch:  31  loss:  0.010521817952394485\n",
      "epoch:  32  loss:  0.010399418883025646\n",
      "epoch:  33  loss:  0.010279044508934021\n",
      "epoch:  34  loss:  0.01016063429415226\n",
      "epoch:  35  loss:  0.010044129565358162\n",
      "epoch:  36  loss:  0.009929470717906952\n",
      "epoch:  37  loss:  0.009816603735089302\n",
      "epoch:  38  loss:  0.00970547366887331\n",
      "epoch:  39  loss:  0.009596030227839947\n",
      "epoch:  40  loss:  0.009488222189247608\n",
      "epoch:  41  loss:  0.009382001124322414\n",
      "epoch:  42  loss:  0.009277320466935635\n",
      "epoch:  43  loss:  0.009174138307571411\n",
      "epoch:  44  loss:  0.009072409942746162\n",
      "epoch:  45  loss:  0.008972092531621456\n",
      "epoch:  46  loss:  0.008873147889971733\n",
      "epoch:  47  loss:  0.008775539696216583\n",
      "epoch:  48  loss:  0.008679228834807873\n",
      "epoch:  49  loss:  0.008584180846810341\n"
     ]
    }
   ],
   "source": [
    "for e in range(epoch):\n",
    "   # Forward pass: Compute predicted y by passing x to the model\n",
    "   y_pred = clf(nn_input_train)\n",
    "\n",
    "   # Compute and print loss\n",
    "   loss = criterion(y_pred, y_train)\n",
    "   print('epoch: ', e,' loss: ', loss.item())\n",
    "\n",
    "   # Zero gradients, perform a backward pass, and update the weights.\n",
    "   optimizer.zero_grad()\n",
    "\n",
    "   # perform a backward pass (backpropagation)\n",
    "   loss.backward()\n",
    "\n",
    "   # Update the parameters\n",
    "   optimizer.step()"
   ]
  },
  {
   "cell_type": "code",
   "execution_count": 11,
   "metadata": {},
   "outputs": [
    {
     "name": "stdout",
     "output_type": "stream",
     "text": [
      "Parameter containing:\n",
      "tensor([[-0.1086, -0.3843,  0.0711, -0.2184],\n",
      "        [ 0.4775, -0.3080,  0.2784, -0.1779],\n",
      "        [-0.2056,  0.1878,  0.5199, -0.0062],\n",
      "        [-0.3967, -0.0630, -0.5104,  0.2359]], requires_grad=True)\n",
      "Parameter containing:\n",
      "tensor([[-0.3873,  0.2528,  0.2789, -0.5715],\n",
      "        [-0.3159, -0.2612,  0.2920, -0.3784],\n",
      "        [-0.0981,  0.1700, -0.1028, -0.1855],\n",
      "        [-0.4837,  0.4770,  0.3919, -0.4569]], requires_grad=True)\n",
      "Parameter containing:\n",
      "tensor([[-0.2144, -0.0594, -0.0043, -0.5518],\n",
      "        [ 0.3412, -0.5011,  0.4199,  0.2425],\n",
      "        [-0.6601, -0.2617,  0.1283, -0.3325],\n",
      "        [-0.1420, -0.0861,  0.3052,  0.0339]], requires_grad=True)\n",
      "Parameter containing:\n",
      "tensor([[-0.5874,  0.0668, -0.9166,  0.0020]], requires_grad=True)\n",
      "tensor([[0.3657],\n",
      "        [0.3663],\n",
      "        [0.3550],\n",
      "        ...,\n",
      "        [0.0036],\n",
      "        [0.0037],\n",
      "        [0.0031]], grad_fn=<MmBackward0>)\n",
      " loss:  0.002844685222953558\n"
     ]
    }
   ],
   "source": [
    "for param in clf.parameters():\n",
    "   print(param)\n",
    "\n",
    "# Loss testing\n",
    "y_pred_test = clf(nn_input_test)\n",
    "print(y_pred_test)\n",
    "loss = criterion(y_pred_test, y_test)\n",
    "print(' loss: ', loss.item())"
   ]
  },
  {
   "cell_type": "code",
   "execution_count": 12,
   "metadata": {},
   "outputs": [
    {
     "name": "stdout",
     "output_type": "stream",
     "text": [
      "tensor([[0.3657],\n",
      "        [0.3663],\n",
      "        [0.3550],\n",
      "        ...,\n",
      "        [0.0036],\n",
      "        [0.0037],\n",
      "        [0.0031]], grad_fn=<MmBackward0>)\n"
     ]
    },
    {
     "data": {
      "image/png": "[encoded data removed]",
      "text/plain": [
       "<Figure size 432x288 with 1 Axes>"
      ]
     },
     "metadata": {
      "needs_background": "light"
     },
     "output_type": "display_data"
    }
   ],
   "source": [
    "import matplotlib.pyplot as plt\n",
    "nn_input_test = nn_input_test.detach().numpy()\n",
    "\n",
    "y_pred_test_detach = y_pred_test.detach().numpy()\n",
    "\n",
    "y_test = y_test.detach().numpy()\n",
    "# plt.plot(nn_input_test, label='input value')\n",
    "plt.plot(y_pred_test_detach, label='predicted value')\n",
    "plt.plot(y_test, label='real value')\n",
    "leg = plt.legend()\n",
    "\n",
    "print(y_pred_test)"
   ]
  },
  {
   "cell_type": "code",
   "execution_count": 13,
   "metadata": {},
   "outputs": [
    {
     "name": "stdout",
     "output_type": "stream",
     "text": [
      "('layer_stack.hidden_layer_0.weight', Parameter containing:\n",
      "tensor([[-0.1086, -0.3843,  0.0711, -0.2184],\n",
      "        [ 0.4775, -0.3080,  0.2784, -0.1779],\n",
      "        [-0.2056,  0.1878,  0.5199, -0.0062],\n",
      "        [-0.3967, -0.0630, -0.5104,  0.2359]], requires_grad=True))\n",
      "('layer_stack.hidden_layer_1.weight', Parameter containing:\n",
      "tensor([[-0.3873,  0.2528,  0.2789, -0.5715],\n",
      "        [-0.3159, -0.2612,  0.2920, -0.3784],\n",
      "        [-0.0981,  0.1700, -0.1028, -0.1855],\n",
      "        [-0.4837,  0.4770,  0.3919, -0.4569]], requires_grad=True))\n",
      "('layer_stack.hidden_layer_2.weight', Parameter containing:\n",
      "tensor([[-0.2144, -0.0594, -0.0043, -0.5518],\n",
      "        [ 0.3412, -0.5011,  0.4199,  0.2425],\n",
      "        [-0.6601, -0.2617,  0.1283, -0.3325],\n",
      "        [-0.1420, -0.0861,  0.3052,  0.0339]], requires_grad=True))\n",
      "('layer_stack.output_layer.weight', Parameter containing:\n",
      "tensor([[-0.5874,  0.0668, -0.9166,  0.0020]], requires_grad=True))\n"
     ]
    }
   ],
   "source": [
    "# Check weight\n",
    "params = clf.named_parameters()\n",
    "\n",
    "for p in params:\n",
    "    print(p)"
   ]
  },
  {
   "cell_type": "markdown",
   "metadata": {},
   "source": [
    "### 6. Transform NN Weights to Transfer Function"
   ]
  },
  {
   "cell_type": "markdown",
   "metadata": {},
   "source": [
    "In here, we define an NN2TF algorithm. Based on the reference paper, the parameter $a_{j}$ and $b_{i}$ can be estimated by\n",
    "\n",
    "$$a_{j} = (\\sum_{h=1}^H (wout_{h}v_{jh}))$$\n",
    "\n",
    "$$b_{i} = (\\sum_{h=1}^H (wout_{h}w_{ih}))$$\n",
    "\n",
    "For tanh activation function."
   ]
  },
  {
   "cell_type": "code",
   "execution_count": 14,
   "metadata": {},
   "outputs": [
    {
     "name": "stdout",
     "output_type": "stream",
     "text": [
      "wout :  [[-0.5874373   0.06680959 -0.9165841   0.00204469]]\n",
      "w_hidden :  [[-0.10864643 -0.38427192  0.07108258 -0.2184248 ]\n",
      " [ 0.47747523 -0.3079632   0.27836332 -0.17790885]\n",
      " [-0.20560056  0.18782023  0.5198529  -0.00622337]\n",
      " [-0.39668718 -0.0629587  -0.51039565  0.23590182]]\n",
      "[[ 0.283362    0.03287899 -0.50069165  0.12261144]]\n",
      "w_hidden :  [[-0.3872982   0.2527757   0.27890188 -0.57147574]\n",
      " [-0.31588036 -0.2611922   0.29196066 -0.37836635]\n",
      " [-0.0980856   0.16999206 -0.10280375 -0.18552156]\n",
      " [-0.48368025  0.47699633  0.39194185 -0.45686242]]\n",
      "[[ 0.5786863  -0.28789774 -0.54999356  0.60215107]]\n",
      "w_hidden :  [[-0.21437968 -0.05936877 -0.00425621 -0.5517664 ]\n",
      " [ 0.3411578  -0.5011469   0.41986987  0.24249107]\n",
      " [-0.66013503 -0.2616522   0.12825373 -0.33246005]\n",
      " [-0.1420457  -0.08606097  0.3051826   0.03388837]]\n",
      "[[ 1.33219236 -0.04685347 -0.6363733   1.24727682]]\n",
      "[[ 1.33219236 -0.04685347 -0.6363733   1.24727682]]\n"
     ]
    }
   ],
   "source": [
    "def nn2tf(nn, hidden_layer, inp_order, target_order):\n",
    "    regressor = np.zeros((1, inp_order+target_order+1))\n",
    "    wout = nn.state_dict()['layer_stack.output_layer.weight']\n",
    "    wout = wout.numpy()\n",
    "    print('wout : ', wout)\n",
    "    # print(wout.size())\n",
    "    params = nn.named_parameters()\n",
    "    i = 0\n",
    "    for p in params:\n",
    "        # print(p)\n",
    "\n",
    "        w_hidden = nn.state_dict()['layer_stack.hidden_layer_{}.weight'.format(i)]\n",
    "        w_hidden = w_hidden.numpy()\n",
    "        print('w_hidden : ', w_hidden)\n",
    "        # Update regressor\n",
    "        regressor = regressor + (wout @ w_hidden)\n",
    "        print(regressor)\n",
    "\n",
    "        i = i + 1\n",
    "        if i == hidden_layer :\n",
    "            break\n",
    "    \n",
    "    # regressor = regressor * 0.5\n",
    "    return regressor\n",
    "\n",
    "\n",
    "regressor = nn2tf(clf, hidden_layer, inp_order, out_order)\n",
    "print(regressor)"
   ]
  },
  {
   "cell_type": "code",
   "execution_count": 15,
   "metadata": {},
   "outputs": [],
   "source": [
    "# Stabilize pole, use if there are unstable pole\n",
    "\n",
    "# for i in range(inp_order + 1, len(regressor[0])):\n",
    "#     print(i)\n",
    "#     while abs(regressor[0][i]) > 1:\n",
    "#         regressor[0][i]= regressor[0][i] * 0.9\n",
    "#         # print(regressor[0][i])\n",
    "#         print(regressor)\n"
   ]
  },
  {
   "cell_type": "code",
   "execution_count": 16,
   "metadata": {},
   "outputs": [],
   "source": [
    "# Calculate estimated output from our model\n",
    "y_pred = np.zeros((len(output_tensor),1))\n",
    "\n",
    "nn_input_detach = nn_input.detach().numpy()\n",
    "\n",
    "for i in range(len(output_tensor)):\n",
    "    for j in range (len(regressor)):\n",
    "        y_pred[i] += regressor[0][j] * nn_input_detach[i][j]\n",
    "   "
   ]
  },
  {
   "cell_type": "code",
   "execution_count": 17,
   "metadata": {},
   "outputs": [
    {
     "name": "stdout",
     "output_type": "stream",
     "text": [
      "[[0.66609618]\n",
      " [0.66609618]\n",
      " [0.66609618]\n",
      " ...\n",
      " [0.        ]\n",
      " [0.        ]\n",
      " [0.        ]]\n"
     ]
    },
    {
     "data": {
      "image/png": "[encoded data removed]",
      "text/plain": [
       "<Figure size 432x288 with 1 Axes>"
      ]
     },
     "metadata": {
      "needs_background": "light"
     },
     "output_type": "display_data"
    }
   ],
   "source": [
    "# Plot estimated output\n",
    "\n",
    "print(y_pred)\n",
    "plt.plot(y_pred, label='estimated value')\n",
    "plt.plot(output_tensor, label='real value')\n",
    "leg = plt.legend()\n"
   ]
  }
 ],
 "metadata": {
  "kernelspec": {
   "display_name": "Python 3.9.9 64-bit",
   "language": "python",
   "name": "python3"
  },
  "language_info": {
   "codemirror_mode": {
    "name": "ipython",
    "version": 3
   },
   "file_extension": ".py",
   "mimetype": "text/x-python",
   "name": "python",
   "nbconvert_exporter": "python",
   "pygments_lexer": "ipython3",
   "version": "3.9.9"
  },
  "orig_nbformat": 4,
  "vscode": {
   "interpreter": {
    "hash": "3021318854d23d1a95aba9536e4a65bc49265228afa1e057d18b531ce801e329"
   }
  }
 },
 "nbformat": 4,
 "nbformat_minor": 2
}
