{
 "cells": [
  {
   "cell_type": "markdown",
   "metadata": {},
   "source": [
    "# System identification with Neural Networks\n",
    "## Mohammad Qori Aziz Hakiki - 23222020\n",
    "\n",
    "Based on Tarek A. Tutunji (2016) - Parametric system identification using neural networks"
   ]
  },
  {
   "cell_type": "markdown",
   "metadata": {},
   "source": [
    "### 1. Import library"
   ]
  },
  {
   "cell_type": "code",
   "execution_count": 1,
   "metadata": {},
   "outputs": [],
   "source": [
    "import os\n",
    "import torch\n",
    "import numpy as np\n",
    "from torch import nn\n",
    "from torch.utils.data import DataLoader\n",
    "from torchvision import datasets, transforms\n",
    "from collections import OrderedDict\n"
   ]
  },
  {
   "cell_type": "markdown",
   "metadata": {},
   "source": [
    "### 2. Import Dataset From TXT"
   ]
  },
  {
   "cell_type": "code",
   "execution_count": 2,
   "metadata": {},
   "outputs": [
    {
     "name": "stdout",
     "output_type": "stream",
     "text": [
      "[[      nan       nan       nan       nan]\n",
      " [ 5.        0.        0.        5.      ]\n",
      " [ 5.        1.06069  16.713107  5.      ]\n",
      " ...\n",
      " [ 0.        1.161356  0.        0.      ]\n",
      " [ 0.        1.010358  0.        0.      ]\n",
      " [ 0.        1.010358  0.        0.      ]]\n",
      "tensor([[0.5000],\n",
      "        [0.5000],\n",
      "        [0.5000],\n",
      "        ...,\n",
      "        [0.0000],\n",
      "        [0.0000],\n",
      "        [0.0000]])\n",
      "tensor([[0.0000],\n",
      "        [0.0053],\n",
      "        [0.0556],\n",
      "        ...,\n",
      "        [0.0058],\n",
      "        [0.0051],\n",
      "        [0.0051]])\n"
     ]
    }
   ],
   "source": [
    "dataset = np.genfromtxt('6.txt',delimiter=';')\n",
    "print(dataset)\n",
    "\n",
    "# Get first column as input, skipping the header\n",
    "input_tensor=torch.as_tensor(dataset[1:, 0], dtype=torch.float32)\n",
    "input_tensor = torch.reshape(input_tensor, (len(input_tensor), 1))\n",
    "# Get second column as output, skipping the header\n",
    "output_tensor=torch.as_tensor(dataset[1:, 1], dtype=torch.float32)\n",
    "output_tensor = torch.reshape(output_tensor, (len(output_tensor), 1))\n",
    "input_tensor = input_tensor / 10\n",
    "output_tensor = output_tensor / 200\n",
    "print(input_tensor)\n",
    "print(output_tensor)"
   ]
  },
  {
   "cell_type": "markdown",
   "metadata": {},
   "source": [
    "### 3. Define and Apply Time Delay Block to datasets"
   ]
  },
  {
   "cell_type": "markdown",
   "metadata": {},
   "source": [
    "Here we apply time delay to our data. Suppose we predict that our DC motor transfer function will be like this:\n",
    "\n",
    "$$H(z) = \\frac{Y(z)}{U(z)} = \\frac{b_{0} + b_{1}z^{-1}}{1 - a_{1}z^{-1} - a_{2}z^{-2}}$$\n",
    "\n",
    "In time-domain, \n",
    "\n",
    "$$y(k) =a_{1}y(k-1) + a_{2}y(k-2) + b_{0}u(k) + b_{1}u(k-1)$$\n",
    "\n",
    "Based on the reference paper, we will estimate the $a_{i}$ and $b_{j}$ parameter from the weight of the NN.  \n",
    "\n",
    "To do so, the neural network inputs will be the delayed target output and inputs, in our case $y(k-1), y(k-2), u(k),$ and $u(k-1)$.\n"
   ]
  },
  {
   "cell_type": "code",
   "execution_count": 3,
   "metadata": {},
   "outputs": [
    {
     "name": "stdout",
     "output_type": "stream",
     "text": [
      "tensor([[0.5000, 0.0000, 0.0000, 0.0000],\n",
      "        [0.5000, 0.5000, 0.0000, 0.0000],\n",
      "        [0.5000, 0.5000, 0.0053, 0.0000],\n",
      "        [0.5000, 0.5000, 0.0556, 0.0053],\n",
      "        [0.5000, 0.5000, 0.1188, 0.0556]])\n",
      "torch.Size([12473, 4])\n"
     ]
    }
   ],
   "source": [
    "def timedelayblock(input, target, inp_order, target_order):\n",
    "    delayed_nn_input = input\n",
    "\n",
    "    # Append delayed input\n",
    "    for i in range(1, inp_order+1):\n",
    "        concated_tensor =torch.roll(input, i, 0)\n",
    "        for j in range(i):\n",
    "            concated_tensor[j, 0] = 0 # force zeroing delayed input\n",
    "        delayed_nn_input= torch.cat((delayed_nn_input, concated_tensor), 1)\n",
    "    \n",
    "    # Append delayed input\n",
    "    for k in range(1, target_order+1):\n",
    "        concated_tensor = torch.roll(target, k, 0)\n",
    "        for l in range(k):\n",
    "            concated_tensor[l, 0] = 0 # force zeroing delayed input\n",
    "        delayed_nn_input= torch.cat((delayed_nn_input, concated_tensor), 1)\n",
    "    return delayed_nn_input\n",
    "inp_order = 1\n",
    "out_order = 2\n",
    "# Create x(k), x(k-1), y(k-1), and y(k-2)\n",
    "nn_input= timedelayblock(input_tensor, output_tensor, inp_order, out_order)\n",
    "print(nn_input[0:5, :])\n",
    "print(nn_input.size())"
   ]
  },
  {
   "cell_type": "code",
   "execution_count": 4,
   "metadata": {},
   "outputs": [],
   "source": [
    "# Split training and test data\n",
    "nn_input_train = nn_input[:10000, :]\n",
    "nn_input_test = nn_input[10000:, :]\n",
    "\n",
    "y_train =output_tensor[:10000, :]\n",
    "y_test = output_tensor[10000:, :]"
   ]
  },
  {
   "cell_type": "markdown",
   "metadata": {},
   "source": [
    "### 4. Define NN Class"
   ]
  },
  {
   "cell_type": "markdown",
   "metadata": {},
   "source": [
    "Define the NN model that will be used.  \n",
    "Here we will add hidden layer and act function based on the parameters provided."
   ]
  },
  {
   "cell_type": "code",
   "execution_count": 5,
   "metadata": {},
   "outputs": [],
   "source": [
    "class NeuralNetwork(nn.Module):\n",
    "    def __init__(self, in_features, hidden_dim, hidden_layer, out_classes):\n",
    "        super(NeuralNetwork, self).__init__()\n",
    "        # Create ordered Dictionary based on the number of hidden_layer\n",
    "        sequence = OrderedDict()\n",
    "        for layer in range(hidden_layer):\n",
    "            if layer == 0:\n",
    "                sequence['hidden_layer_{}'.format(layer)] =nn.Linear(\n",
    "                    in_features, hidden_dim, bias=False)\n",
    "                sequence['activation_{}'.format(layer)] =  nn.Tanh()\n",
    "                continue\n",
    "            # For layer not in the input layer\n",
    "            sequence['hidden_layer_{}'.format(layer)] = nn.Linear(\n",
    "                hidden_dim, hidden_dim, bias=False)\n",
    "            sequence['activation_{}'.format(layer)] = nn.Tanh()\n",
    "        # Insert output layer\n",
    "        sequence['output_layer'] = nn.Linear(hidden_dim, out_classes, bias=False)\n",
    "\n",
    "        # print(sequence)\n",
    "        # return the sequential model\n",
    "        self.layer_stack = nn.Sequential(sequence)\n",
    "        \n",
    "\n",
    "    def forward(self, x):\n",
    "        x = self.layer_stack(x)\n",
    "        return x\n"
   ]
  },
  {
   "cell_type": "code",
   "execution_count": 6,
   "metadata": {},
   "outputs": [],
   "source": [
    "# Variable declaration\n",
    "# Since we have u(k), u(k-1), y(k-1), and y(k-2), we have 4 inputs.\n",
    "\n",
    "in_features=inp_order + out_order +1  # how many Variables are in the dataset\n",
    "hidden_dim= inp_order + out_order +1 # hidden i/o\n",
    "hidden_layer=3 # how many hidden layers\n",
    "output_dim=1   # number of classes\n",
    "epoch = 100"
   ]
  },
  {
   "cell_type": "code",
   "execution_count": 7,
   "metadata": {},
   "outputs": [
    {
     "name": "stdout",
     "output_type": "stream",
     "text": [
      "NeuralNetwork(\n",
      "  (layer_stack): Sequential(\n",
      "    (hidden_layer_0): Linear(in_features=4, out_features=4, bias=False)\n",
      "    (activation_0): Tanh()\n",
      "    (hidden_layer_1): Linear(in_features=4, out_features=4, bias=False)\n",
      "    (activation_1): Tanh()\n",
      "    (hidden_layer_2): Linear(in_features=4, out_features=4, bias=False)\n",
      "    (activation_2): Tanh()\n",
      "    (output_layer): Linear(in_features=4, out_features=1, bias=False)\n",
      "  )\n",
      ")\n",
      "torch.Size([4, 4])\n",
      "Parameter containing:\n",
      "tensor([[ 0.4587,  0.3150, -0.3044,  0.4501],\n",
      "        [ 0.2548,  0.4376,  0.4382, -0.1791],\n",
      "        [ 0.0274, -0.3218, -0.4943, -0.2234],\n",
      "        [-0.4064,  0.3847,  0.0688, -0.3298]], requires_grad=True)\n",
      "torch.Size([4, 4])\n",
      "Parameter containing:\n",
      "tensor([[-0.2490,  0.4282, -0.0078,  0.0721],\n",
      "        [ 0.2360,  0.4942,  0.3090,  0.1506],\n",
      "        [ 0.1499, -0.3351,  0.3966,  0.3416],\n",
      "        [-0.1376, -0.0485, -0.2908,  0.4393]], requires_grad=True)\n",
      "torch.Size([4, 4])\n",
      "Parameter containing:\n",
      "tensor([[ 0.3169,  0.0982, -0.4441,  0.0842],\n",
      "        [ 0.3953,  0.4116, -0.3905,  0.0452],\n",
      "        [-0.1419,  0.3686, -0.2382, -0.2030],\n",
      "        [-0.2311,  0.2516,  0.0940, -0.4291]], requires_grad=True)\n",
      "torch.Size([1, 4])\n",
      "Parameter containing:\n",
      "tensor([[ 0.3751, -0.2108, -0.0163,  0.1509]], requires_grad=True)\n"
     ]
    }
   ],
   "source": [
    "clf=NeuralNetwork(in_features,hidden_dim, hidden_layer, output_dim)\n",
    "print(clf)\n",
    "\n",
    "params = clf.parameters()\n",
    "# print(len(params))\n",
    "\n",
    "for p in params:\n",
    "    print(p.size())  # conv1's .weight\n",
    "    print(p)"
   ]
  },
  {
   "cell_type": "markdown",
   "metadata": {},
   "source": [
    "### 5. Compute weight and biases of our networks"
   ]
  },
  {
   "cell_type": "code",
   "execution_count": 8,
   "metadata": {},
   "outputs": [
    {
     "name": "stdout",
     "output_type": "stream",
     "text": [
      "tensor([[0.0081],\n",
      "        [0.0056],\n",
      "        [0.0057],\n",
      "        ...,\n",
      "        [0.0106],\n",
      "        [0.0105],\n",
      "        [0.0106]], grad_fn=<MmBackward0>)\n"
     ]
    }
   ],
   "source": [
    "# Test our networks\n",
    "out = clf(nn_input_train)\n",
    "print(out)"
   ]
  },
  {
   "cell_type": "code",
   "execution_count": 9,
   "metadata": {},
   "outputs": [],
   "source": [
    "# Construct loss function for learning\n",
    "criterion = nn.MSELoss()\n",
    "# Construct the optimizer (Stochastic Gradient Descent in this case)\n",
    "optimizer = torch.optim.Adam(clf.parameters(), lr = 0.3)"
   ]
  },
  {
   "cell_type": "code",
   "execution_count": 10,
   "metadata": {},
   "outputs": [
    {
     "name": "stdout",
     "output_type": "stream",
     "text": [
      "epoch:  0  loss:  0.343443363904953\n",
      "epoch:  1  loss:  0.10957738012075424\n",
      "epoch:  2  loss:  0.2395877242088318\n",
      "epoch:  3  loss:  0.11248930543661118\n",
      "epoch:  4  loss:  0.10091258585453033\n",
      "epoch:  5  loss:  0.0751999169588089\n",
      "epoch:  6  loss:  0.06118910387158394\n",
      "epoch:  7  loss:  0.023123841732740402\n",
      "epoch:  8  loss:  0.6562198996543884\n",
      "epoch:  9  loss:  0.03727765753865242\n",
      "epoch:  10  loss:  0.09289498627185822\n",
      "epoch:  11  loss:  0.0787704810500145\n",
      "epoch:  12  loss:  0.12578193843364716\n",
      "epoch:  13  loss:  0.06740116328001022\n",
      "epoch:  14  loss:  0.09606015682220459\n",
      "epoch:  15  loss:  0.09387806057929993\n",
      "epoch:  16  loss:  0.06448802351951599\n",
      "epoch:  17  loss:  0.09287644922733307\n",
      "epoch:  18  loss:  0.08471325784921646\n",
      "epoch:  19  loss:  0.0647684633731842\n",
      "epoch:  20  loss:  0.08490799367427826\n",
      "epoch:  21  loss:  0.079119972884655\n",
      "epoch:  22  loss:  0.06460532546043396\n",
      "epoch:  23  loss:  0.0794159471988678\n",
      "epoch:  24  loss:  0.07540199905633926\n",
      "epoch:  25  loss:  0.06460954248905182\n",
      "epoch:  26  loss:  0.07518847286701202\n",
      "epoch:  27  loss:  0.0729016363620758\n",
      "epoch:  28  loss:  0.0645110011100769\n",
      "epoch:  29  loss:  0.07206916809082031\n",
      "epoch:  30  loss:  0.07084333151578903\n",
      "epoch:  31  loss:  0.06451120972633362\n",
      "epoch:  32  loss:  0.06987836211919785\n",
      "epoch:  33  loss:  0.0693306177854538\n",
      "epoch:  34  loss:  0.06451202183961868\n",
      "epoch:  35  loss:  0.06825782358646393\n",
      "epoch:  36  loss:  0.0681789442896843\n",
      "epoch:  37  loss:  0.06451620161533356\n",
      "epoch:  38  loss:  0.06713312864303589\n",
      "epoch:  39  loss:  0.06726649403572083\n",
      "epoch:  40  loss:  0.06453651934862137\n",
      "epoch:  41  loss:  0.06633114069700241\n",
      "epoch:  42  loss:  0.0666135847568512\n",
      "epoch:  43  loss:  0.06454069167375565\n",
      "epoch:  44  loss:  0.06578293442726135\n",
      "epoch:  45  loss:  0.06606972217559814\n",
      "epoch:  46  loss:  0.06454572826623917\n",
      "epoch:  47  loss:  0.06541770696640015\n",
      "epoch:  48  loss:  0.06568204611539841\n",
      "epoch:  49  loss:  0.06453879177570343\n",
      "epoch:  50  loss:  0.0651729553937912\n",
      "epoch:  51  loss:  0.06536149233579636\n",
      "epoch:  52  loss:  0.06452838331460953\n",
      "epoch:  53  loss:  0.06501804292201996\n",
      "epoch:  54  loss:  0.06512700021266937\n",
      "epoch:  55  loss:  0.06451741605997086\n",
      "epoch:  56  loss:  0.06491252779960632\n",
      "epoch:  57  loss:  0.06493812054395676\n",
      "epoch:  58  loss:  0.0645112618803978\n",
      "epoch:  59  loss:  0.06484206765890121\n",
      "epoch:  60  loss:  0.06479546427726746\n",
      "epoch:  61  loss:  0.06451322138309479\n",
      "epoch:  62  loss:  0.06478600203990936\n",
      "epoch:  63  loss:  0.06468416005373001\n",
      "epoch:  64  loss:  0.06452414393424988\n",
      "epoch:  65  loss:  0.06473743170499802\n",
      "epoch:  66  loss:  0.06460272520780563\n",
      "epoch:  67  loss:  0.06454174965620041\n",
      "epoch:  68  loss:  0.06468823552131653\n",
      "epoch:  69  loss:  0.06454790383577347\n",
      "epoch:  70  loss:  0.06456118077039719\n",
      "epoch:  71  loss:  0.064638152718544\n",
      "epoch:  72  loss:  0.06451865285634995\n",
      "epoch:  73  loss:  0.0645756796002388\n",
      "epoch:  74  loss:  0.06458941102027893\n",
      "epoch:  75  loss:  0.06451139599084854\n",
      "epoch:  76  loss:  0.06457939743995667\n",
      "epoch:  77  loss:  0.06454844027757645\n",
      "epoch:  78  loss:  0.06451922655105591\n",
      "epoch:  79  loss:  0.06456984579563141\n",
      "epoch:  80  loss:  0.06452154368162155\n",
      "epoch:  81  loss:  0.064532071352005\n",
      "epoch:  82  loss:  0.06455034762620926\n",
      "epoch:  83  loss:  0.06451153755187988\n",
      "epoch:  84  loss:  0.06453993171453476\n",
      "epoch:  85  loss:  0.06452903151512146\n",
      "epoch:  86  loss:  0.06451484560966492\n",
      "epoch:  87  loss:  0.06453752517700195\n",
      "epoch:  88  loss:  0.06451477855443954\n",
      "epoch:  89  loss:  0.0645226538181305\n",
      "epoch:  90  loss:  0.0645270049571991\n",
      "epoch:  91  loss:  0.0645115077495575\n",
      "epoch:  92  loss:  0.06452609598636627\n",
      "epoch:  93  loss:  0.06451606750488281\n",
      "epoch:  94  loss:  0.0645156130194664\n",
      "epoch:  95  loss:  0.06452217698097229\n",
      "epoch:  96  loss:  0.06451141089200974\n",
      "epoch:  97  loss:  0.06451938301324844\n",
      "epoch:  98  loss:  0.06451522558927536\n",
      "epoch:  99  loss:  0.0645131915807724\n"
     ]
    }
   ],
   "source": [
    "for e in range(epoch):\n",
    "   # Forward pass: Compute predicted y by passing x to the model\n",
    "   y_pred = clf(nn_input_train)\n",
    "\n",
    "   # Compute and print loss\n",
    "   loss = criterion(y_pred, y_train)\n",
    "   print('epoch: ', e,' loss: ', loss.item())\n",
    "\n",
    "   # Zero gradients, perform a backward pass, and update the weights.\n",
    "   optimizer.zero_grad()\n",
    "\n",
    "   # perform a backward pass (backpropagation)\n",
    "   loss.backward()\n",
    "\n",
    "   # Update the parameters\n",
    "   optimizer.step()"
   ]
  },
  {
   "cell_type": "code",
   "execution_count": 11,
   "metadata": {},
   "outputs": [
    {
     "name": "stdout",
     "output_type": "stream",
     "text": [
      "Parameter containing:\n",
      "tensor([[-1.3750, -1.5168, -2.2057, -1.4500],\n",
      "        [ 1.4519,  1.6401,  1.8906,  1.2727],\n",
      "        [-1.5990, -1.9546, -2.3034, -2.0325],\n",
      "        [-1.9199, -1.1321, -1.6261, -2.0250]], requires_grad=True)\n",
      "Parameter containing:\n",
      "tensor([[-0.4293,  1.7380, -1.3663, -1.3415],\n",
      "        [ 0.5600, -1.0439,  1.8066,  1.3852],\n",
      "        [-0.0114, -2.5017,  2.5765,  2.2898],\n",
      "        [-2.7254,  1.1268, -1.2523, -1.0416]], requires_grad=True)\n",
      "Parameter containing:\n",
      "tensor([[-0.1003, -1.0371, -2.8860,  0.5279],\n",
      "        [ 0.0128, -2.1046,  0.7364,  1.8228],\n",
      "        [ 0.4460, -1.0124,  0.7605, -0.7749],\n",
      "        [-0.1888,  3.2053,  1.6482, -0.7486]], requires_grad=True)\n",
      "Parameter containing:\n",
      "tensor([[-6.6599e-02,  6.2099e-01,  1.2042e-02, -2.0128e-04]],\n",
      "       requires_grad=True)\n",
      "tensor([[0.5516],\n",
      "        [0.5516],\n",
      "        [0.5516],\n",
      "        ...,\n",
      "        [0.1788],\n",
      "        [0.1695],\n",
      "        [0.1578]], grad_fn=<MmBackward0>)\n",
      " loss:  0.024422576650977135\n"
     ]
    }
   ],
   "source": [
    "for param in clf.parameters():\n",
    "   print(param)\n",
    "\n",
    "# Loss testing\n",
    "y_pred_test = clf(nn_input_test)\n",
    "print(y_pred_test)\n",
    "loss = criterion(y_pred_test, y_test)\n",
    "print(' loss: ', loss.item())"
   ]
  },
  {
   "cell_type": "code",
   "execution_count": 12,
   "metadata": {},
   "outputs": [
    {
     "name": "stdout",
     "output_type": "stream",
     "text": [
      "tensor([[0.5516],\n",
      "        [0.5516],\n",
      "        [0.5516],\n",
      "        ...,\n",
      "        [0.1788],\n",
      "        [0.1695],\n",
      "        [0.1578]], grad_fn=<MmBackward0>)\n"
     ]
    },
    {
     "data": {
      "image/png": "[encoded data removed]",
      "text/plain": [
       "<Figure size 432x288 with 1 Axes>"
      ]
     },
     "metadata": {
      "needs_background": "light"
     },
     "output_type": "display_data"
    }
   ],
   "source": [
    "import matplotlib.pyplot as plt\n",
    "nn_input_test = nn_input_test.detach().numpy()\n",
    "\n",
    "y_pred_test_detach = y_pred_test.detach().numpy()\n",
    "\n",
    "y_test = y_test.detach().numpy()\n",
    "# plt.plot(nn_input_test, label='input value')\n",
    "plt.plot(y_pred_test_detach, label='predicted value')\n",
    "plt.plot(y_test, label='real value')\n",
    "leg = plt.legend()\n",
    "\n",
    "print(y_pred_test)"
   ]
  },
  {
   "cell_type": "code",
   "execution_count": 13,
   "metadata": {},
   "outputs": [
    {
     "name": "stdout",
     "output_type": "stream",
     "text": [
      "('layer_stack.hidden_layer_0.weight', Parameter containing:\n",
      "tensor([[-1.3750, -1.5168, -2.2057, -1.4500],\n",
      "        [ 1.4519,  1.6401,  1.8906,  1.2727],\n",
      "        [-1.5990, -1.9546, -2.3034, -2.0325],\n",
      "        [-1.9199, -1.1321, -1.6261, -2.0250]], requires_grad=True))\n",
      "('layer_stack.hidden_layer_1.weight', Parameter containing:\n",
      "tensor([[-0.4293,  1.7380, -1.3663, -1.3415],\n",
      "        [ 0.5600, -1.0439,  1.8066,  1.3852],\n",
      "        [-0.0114, -2.5017,  2.5765,  2.2898],\n",
      "        [-2.7254,  1.1268, -1.2523, -1.0416]], requires_grad=True))\n",
      "('layer_stack.hidden_layer_2.weight', Parameter containing:\n",
      "tensor([[-0.1003, -1.0371, -2.8860,  0.5279],\n",
      "        [ 0.0128, -2.1046,  0.7364,  1.8228],\n",
      "        [ 0.4460, -1.0124,  0.7605, -0.7749],\n",
      "        [-0.1888,  3.2053,  1.6482, -0.7486]], requires_grad=True))\n",
      "('layer_stack.output_layer.weight', Parameter containing:\n",
      "tensor([[-6.6599e-02,  6.2099e-01,  1.2042e-02, -2.0128e-04]],\n",
      "       requires_grad=True))\n"
     ]
    }
   ],
   "source": [
    "# Check weight\n",
    "params = clf.named_parameters()\n",
    "\n",
    "for p in params:\n",
    "    print(p)"
   ]
  },
  {
   "cell_type": "markdown",
   "metadata": {},
   "source": [
    "### 6. Transform NN Weights to Transfer Function"
   ]
  },
  {
   "cell_type": "markdown",
   "metadata": {},
   "source": [
    "In here, we define an NN2TF algorithm. Based on the reference paper, the parameter $a_{j}$ and $b_{i}$ can be estimated by\n",
    "\n",
    "$$a_{j} = (\\sum_{h=1}^H (wout_{h}v_{jh}))$$\n",
    "\n",
    "$$b_{i} = (\\sum_{h=1}^H (wout_{h}w_{ih}))$$\n",
    "\n",
    "For tanh activation function."
   ]
  },
  {
   "cell_type": "code",
   "execution_count": 14,
   "metadata": {},
   "outputs": [
    {
     "name": "stdout",
     "output_type": "stream",
     "text": [
      "wout :  [[-6.6598929e-02  6.2099141e-01  1.2041538e-02 -2.0128273e-04]]\n",
      "w_hidden :  [[-1.3749508 -1.5168347 -2.205702  -1.4499735]\n",
      " [ 1.4519336  1.6401224  1.8905712  1.2727253]\n",
      " [-1.59897   -1.9545888 -2.3033864 -2.0325174]\n",
      " [-1.9198805 -1.1321119 -1.6261399 -2.0250142]]\n",
      "[[0.97434092 1.0962131  1.29351699 0.86285114]]\n",
      "w_hidden :  [[-0.4293141   1.7380456  -1.366337   -1.3415337 ]\n",
      " [ 0.5600272  -1.0439171   1.8066499   1.3852137 ]\n",
      " [-0.01139524 -2.5017188   2.5764654   2.2898226 ]\n",
      " [-2.725442    1.1267585  -1.2523189  -1.0416069 ]]\n",
      "[[1.35111618 0.30184627 2.53770435 1.84018427]]\n",
      "w_hidden :  [[-0.10031815 -1.0371323  -2.8860183   0.52790207]\n",
      " [ 0.01282981 -2.104636    0.7364032   1.822812  ]\n",
      " [ 0.44600984 -1.012363    0.7604875  -0.7749417 ]\n",
      " [-0.18883322  3.205305    1.6481677  -0.74860007]]\n",
      "[[ 1.37117312 -0.94887817  3.1960358   2.92779642]]\n",
      "[[ 1.37117312 -0.94887817  3.1960358   2.92779642]]\n"
     ]
    }
   ],
   "source": [
    "def nn2tf(nn, hidden_layer, inp_order, target_order):\n",
    "    regressor = np.zeros((1, inp_order+target_order+1))\n",
    "    wout = nn.state_dict()['layer_stack.output_layer.weight']\n",
    "    wout = wout.numpy()\n",
    "    print('wout : ', wout)\n",
    "    # print(wout.size())\n",
    "    params = nn.named_parameters()\n",
    "    i = 0\n",
    "    for p in params:\n",
    "        # print(p)\n",
    "\n",
    "        w_hidden = nn.state_dict()['layer_stack.hidden_layer_{}.weight'.format(i)]\n",
    "        w_hidden = w_hidden.numpy()\n",
    "        print('w_hidden : ', w_hidden)\n",
    "        # Update regressor\n",
    "        regressor = regressor + (wout @ w_hidden)\n",
    "        print(regressor)\n",
    "\n",
    "        i = i + 1\n",
    "        if i == hidden_layer :\n",
    "            break\n",
    "    \n",
    "    # regressor = regressor * 0.5\n",
    "    return regressor\n",
    "\n",
    "\n",
    "regressor = nn2tf(clf, hidden_layer, inp_order, out_order)\n",
    "print(regressor)"
   ]
  },
  {
   "cell_type": "code",
   "execution_count": 15,
   "metadata": {},
   "outputs": [],
   "source": [
    "# Stabilize pole, use if there are unstable pole\n",
    "\n",
    "# for i in range(inp_order + 1, len(regressor[0])):\n",
    "#     print(i)\n",
    "#     while abs(regressor[0][i]) > 1:\n",
    "#         regressor[0][i]= regressor[0][i] * 0.9\n",
    "#         # print(regressor[0][i])\n",
    "#         print(regressor)\n"
   ]
  },
  {
   "cell_type": "code",
   "execution_count": 16,
   "metadata": {},
   "outputs": [],
   "source": [
    "# # Calculate estimated output from our model\n",
    "y_pred = np.zeros((len(output_tensor),1))\n",
    "\n",
    "nn_input_detach = nn_input.detach().numpy()\n",
    "\n",
    "# for i in range(len(output_tensor)):\n",
    "#     for j in range (len(regressor)):\n",
    "#         y_pred[i] += regressor[0][j] * nn_input_detach[i][j]\n",
    "   "
   ]
  },
  {
   "cell_type": "code",
   "execution_count": 17,
   "metadata": {},
   "outputs": [],
   "source": [
    "# # Plot estimated output\n",
    "\n",
    "# print(y_pred)\n",
    "# plt.plot(y_pred, label='estimated value')\n",
    "# plt.plot(output_tensor, label='real value')\n",
    "# leg = plt.legend()\n"
   ]
  },
  {
   "cell_type": "code",
   "execution_count": 18,
   "metadata": {},
   "outputs": [],
   "source": [
    " # Calculate estimated output from our model\n",
    "for i in range(len(output_tensor)):\n",
    "    if i == 0 :\n",
    "        y_pred[i] = regressor[0][0] * nn_input_detach[i][0]\n",
    "        continue\n",
    "    \n",
    "    # Fill y(k-1)\n",
    "    if i >= 1 :\n",
    "        nn_input_detach[i][2] = y_pred[i-1]\n",
    "    \n",
    "        # Fill y(k-2)\n",
    "    if i >=2 :\n",
    "        nn_input_detach[i][3] = y_pred[i-2]\n",
    "\n",
    "    for j in range (len(regressor)):\n",
    "        y_pred[i] += regressor[0][j] * nn_input_detach[i][j]"
   ]
  },
  {
   "cell_type": "code",
   "execution_count": 19,
   "metadata": {},
   "outputs": [
    {
     "name": "stdout",
     "output_type": "stream",
     "text": [
      "[[0.68558656]\n",
      " [0.68558656]\n",
      " [0.68558656]\n",
      " ...\n",
      " [0.        ]\n",
      " [0.        ]\n",
      " [0.        ]]\n"
     ]
    },
    {
     "data": {
      "image/png": "[encoded data removed]",
      "text/plain": [
       "<Figure size 432x288 with 1 Axes>"
      ]
     },
     "metadata": {
      "needs_background": "light"
     },
     "output_type": "display_data"
    }
   ],
   "source": [
    "# Plot estimated output\n",
    "\n",
    "print(y_pred)\n",
    "plt.plot(y_pred, label='estimated value')\n",
    "plt.plot(output_tensor, label='real value')\n",
    "leg = plt.legend()"
   ]
  }
 ],
 "metadata": {
  "kernelspec": {
   "display_name": "Python 3.9.9 64-bit",
   "language": "python",
   "name": "python3"
  },
  "language_info": {
   "codemirror_mode": {
    "name": "ipython",
    "version": 3
   },
   "file_extension": ".py",
   "mimetype": "text/x-python",
   "name": "python",
   "nbconvert_exporter": "python",
   "pygments_lexer": "ipython3",
   "version": "3.9.9"
  },
  "orig_nbformat": 4,
  "vscode": {
   "interpreter": {
    "hash": "3021318854d23d1a95aba9536e4a65bc49265228afa1e057d18b531ce801e329"
   }
  }
 },
 "nbformat": 4,
 "nbformat_minor": 2
}
