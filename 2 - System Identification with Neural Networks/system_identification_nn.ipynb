{
 "cells": [
  {
   "cell_type": "markdown",
   "metadata": {},
   "source": [
    "# System identification with Neural Networks\n",
    "## Mohammad Qori Aziz Hakiki - 23222020\n",
    "\n",
    "Based on Tarek A. Tutunji (2016) - Parametric system identification using neural networks"
   ]
  },
  {
   "cell_type": "markdown",
   "metadata": {},
   "source": [
    "### 1. Import library"
   ]
  },
  {
   "cell_type": "code",
   "execution_count": 1,
   "metadata": {},
   "outputs": [],
   "source": [
    "import os\n",
    "import torch\n",
    "import numpy as np\n",
    "from torch import nn\n",
    "from torch.utils.data import DataLoader\n",
    "from torchvision import datasets, transforms\n",
    "from collections import OrderedDict\n"
   ]
  },
  {
   "cell_type": "markdown",
   "metadata": {},
   "source": [
    "### 2. Import Dataset From TXT"
   ]
  },
  {
   "cell_type": "code",
   "execution_count": 2,
   "metadata": {},
   "outputs": [
    {
     "name": "stdout",
     "output_type": "stream",
     "text": [
      "[[      nan       nan       nan       nan]\n",
      " [ 5.        0.        0.        5.      ]\n",
      " [ 5.        1.06069  16.713107  5.      ]\n",
      " ...\n",
      " [ 0.        1.161356  0.        0.      ]\n",
      " [ 0.        1.010358  0.        0.      ]\n",
      " [ 0.        1.010358  0.        0.      ]]\n",
      "tensor([[0.5000],\n",
      "        [0.5000],\n",
      "        [0.5000],\n",
      "        ...,\n",
      "        [0.0000],\n",
      "        [0.0000],\n",
      "        [0.0000]])\n",
      "tensor([[0.0000],\n",
      "        [0.0053],\n",
      "        [0.0556],\n",
      "        ...,\n",
      "        [0.0058],\n",
      "        [0.0051],\n",
      "        [0.0051]])\n"
     ]
    }
   ],
   "source": [
    "dataset = np.genfromtxt('6.txt',delimiter=';')\n",
    "print(dataset)\n",
    "\n",
    "# Get first column as input, skipping the header\n",
    "input_tensor=torch.as_tensor(dataset[1:, 0], dtype=torch.float32)\n",
    "input_tensor = torch.reshape(input_tensor, (len(input_tensor), 1))\n",
    "# Get second column as output, skipping the header\n",
    "output_tensor=torch.as_tensor(dataset[1:, 1], dtype=torch.float32)\n",
    "output_tensor = torch.reshape(output_tensor, (len(output_tensor), 1))\n",
    "input_tensor = input_tensor / 10\n",
    "output_tensor = output_tensor / 200\n",
    "print(input_tensor)\n",
    "print(output_tensor)"
   ]
  },
  {
   "cell_type": "markdown",
   "metadata": {},
   "source": [
    "### 3. Define and Apply Time Delay Block to datasets"
   ]
  },
  {
   "cell_type": "markdown",
   "metadata": {},
   "source": [
    "Here we apply time delay to our data. Suppose we predict that our DC motor transfer function will be like this:\n",
    "\n",
    "$$H(z) = \\frac{Y(z)}{U(z)} = \\frac{b_{0} + b_{1}z^{-1}}{1 - a_{1}z^{-1} - a_{2}z^{-2}}$$\n",
    "\n",
    "In time-domain, \n",
    "\n",
    "$$y(k) =a_{1}y(k-1) + a_{2}y(k-2) + b_{0}u(k) + b_{1}u(k-1)$$\n",
    "\n",
    "Based on the reference paper, we will estimate the $a_{i}$ and $b_{j}$ parameter from the weight of the NN.  \n",
    "\n",
    "To do so, the neural network inputs will be the delayed target output and inputs, in our case $y(k-1), y(k-2), u(k),$ and $u(k-1)$.\n"
   ]
  },
  {
   "cell_type": "code",
   "execution_count": 3,
   "metadata": {},
   "outputs": [
    {
     "name": "stdout",
     "output_type": "stream",
     "text": [
      "tensor([[0.5000, 0.0000, 0.0000, 0.0000],\n",
      "        [0.5000, 0.5000, 0.0000, 0.0000],\n",
      "        [0.5000, 0.5000, 0.0053, 0.0000],\n",
      "        [0.5000, 0.5000, 0.0556, 0.0053],\n",
      "        [0.5000, 0.5000, 0.1188, 0.0556]])\n",
      "torch.Size([12473, 4])\n"
     ]
    }
   ],
   "source": [
    "def timedelayblock(input, target, inp_order, target_order):\n",
    "    delayed_nn_input = input\n",
    "\n",
    "    # Append delayed input\n",
    "    for i in range(1, inp_order+1):\n",
    "        concated_tensor =torch.roll(input, i, 0)\n",
    "        for j in range(i):\n",
    "            concated_tensor[j, 0] = 0 # force zeroing delayed input\n",
    "        delayed_nn_input= torch.cat((delayed_nn_input, concated_tensor), 1)\n",
    "    \n",
    "    # Append delayed input\n",
    "    for k in range(1, target_order+1):\n",
    "        concated_tensor = torch.roll(target, k, 0)\n",
    "        for l in range(k):\n",
    "            concated_tensor[l, 0] = 0 # force zeroing delayed input\n",
    "        delayed_nn_input= torch.cat((delayed_nn_input, concated_tensor), 1)\n",
    "    return delayed_nn_input\n",
    "inp_order = 1\n",
    "out_order = 2\n",
    "# Create x(k), x(k-1), y(k-1), and y(k-2)\n",
    "nn_input= timedelayblock(input_tensor, output_tensor, inp_order, out_order)\n",
    "print(nn_input[0:5, :])\n",
    "print(nn_input.size())"
   ]
  },
  {
   "cell_type": "code",
   "execution_count": 4,
   "metadata": {},
   "outputs": [],
   "source": [
    "# Split training and test data\n",
    "nn_input_train = nn_input[:10000, :]\n",
    "nn_input_test = nn_input[10000:, :]\n",
    "\n",
    "y_train =output_tensor[:10000, :]\n",
    "y_test = output_tensor[10000:, :]"
   ]
  },
  {
   "cell_type": "markdown",
   "metadata": {},
   "source": [
    "### 4. Define NN Class"
   ]
  },
  {
   "cell_type": "markdown",
   "metadata": {},
   "source": [
    "Define the NN model that will be used.  \n",
    "Here we will add hidden layer and act function based on the parameters provided."
   ]
  },
  {
   "cell_type": "code",
   "execution_count": 5,
   "metadata": {},
   "outputs": [],
   "source": [
    "class NeuralNetwork(nn.Module):\n",
    "    def __init__(self, in_features, hidden_dim, hidden_layer, out_classes):\n",
    "        super(NeuralNetwork, self).__init__()\n",
    "        # Create ordered Dictionary based on the number of hidden_layer\n",
    "        sequence = OrderedDict()\n",
    "        for layer in range(hidden_layer):\n",
    "            if layer == 0:\n",
    "                sequence['hidden_layer_{}'.format(layer)] =nn.Linear(\n",
    "                    in_features, hidden_dim, bias=False)\n",
    "                sequence['activation_{}'.format(layer)] =  nn.Tanh()\n",
    "                continue\n",
    "            # For layer not in the input layer\n",
    "            sequence['hidden_layer_{}'.format(layer)] = nn.Linear(\n",
    "                hidden_dim, hidden_dim, bias=False)\n",
    "            sequence['activation_{}'.format(layer)] = nn.Tanh()\n",
    "        # Insert output layer\n",
    "        sequence['output_layer'] = nn.Linear(hidden_dim, out_classes, bias=False)\n",
    "\n",
    "        # print(sequence)\n",
    "        # return the sequential model\n",
    "        self.layer_stack = nn.Sequential(sequence)\n",
    "        \n",
    "\n",
    "    def forward(self, x):\n",
    "        x = self.layer_stack(x)\n",
    "        return x\n"
   ]
  },
  {
   "cell_type": "code",
   "execution_count": 6,
   "metadata": {},
   "outputs": [],
   "source": [
    "# Variable declaration\n",
    "# Since we have u(k), u(k-1), y(k-1), and y(k-2), we have 4 inputs.\n",
    "\n",
    "in_features=inp_order + out_order +1  # how many Variables are in the dataset\n",
    "hidden_dim= inp_order + out_order +1 # hidden i/o\n",
    "hidden_layer=3 # how many hidden layers\n",
    "output_dim=1   # number of classes\n",
    "epoch = 100"
   ]
  },
  {
   "cell_type": "code",
   "execution_count": 7,
   "metadata": {},
   "outputs": [
    {
     "name": "stdout",
     "output_type": "stream",
     "text": [
      "NeuralNetwork(\n",
      "  (layer_stack): Sequential(\n",
      "    (hidden_layer_0): Linear(in_features=4, out_features=4, bias=False)\n",
      "    (activation_0): Tanh()\n",
      "    (hidden_layer_1): Linear(in_features=4, out_features=4, bias=False)\n",
      "    (activation_1): Tanh()\n",
      "    (hidden_layer_2): Linear(in_features=4, out_features=4, bias=False)\n",
      "    (activation_2): Tanh()\n",
      "    (output_layer): Linear(in_features=4, out_features=1, bias=False)\n",
      "  )\n",
      ")\n",
      "torch.Size([4, 4])\n",
      "Parameter containing:\n",
      "tensor([[-0.2195, -0.4338,  0.2974, -0.2574],\n",
      "        [-0.2211, -0.3408, -0.0308, -0.3036],\n",
      "        [-0.4234,  0.1784,  0.0461, -0.2000],\n",
      "        [ 0.4588,  0.3540,  0.3386,  0.2488]], requires_grad=True)\n",
      "torch.Size([4, 4])\n",
      "Parameter containing:\n",
      "tensor([[ 0.2843,  0.2700, -0.2902,  0.4077],\n",
      "        [ 0.0309, -0.3195,  0.0726, -0.2782],\n",
      "        [-0.3190, -0.2324,  0.4664,  0.3790],\n",
      "        [-0.0139, -0.3290,  0.0647, -0.1850]], requires_grad=True)\n",
      "torch.Size([4, 4])\n",
      "Parameter containing:\n",
      "tensor([[ 0.4985, -0.4261, -0.0616,  0.4351],\n",
      "        [-0.2961, -0.2729,  0.3206, -0.1168],\n",
      "        [-0.0072, -0.4667, -0.4953, -0.1389],\n",
      "        [-0.0514, -0.2840,  0.2633, -0.3603]], requires_grad=True)\n",
      "torch.Size([1, 4])\n",
      "Parameter containing:\n",
      "tensor([[ 0.2001,  0.3086, -0.3207,  0.0319]], requires_grad=True)\n"
     ]
    }
   ],
   "source": [
    "clf=NeuralNetwork(in_features,hidden_dim, hidden_layer, output_dim)\n",
    "print(clf)\n",
    "\n",
    "params = clf.parameters()\n",
    "# print(len(params))\n",
    "\n",
    "for p in params:\n",
    "    print(p.size())  # conv1's .weight\n",
    "    print(p)"
   ]
  },
  {
   "cell_type": "markdown",
   "metadata": {},
   "source": [
    "### 5. Compute weight and biases of our networks"
   ]
  },
  {
   "cell_type": "code",
   "execution_count": 8,
   "metadata": {},
   "outputs": [
    {
     "name": "stdout",
     "output_type": "stream",
     "text": [
      "tensor([[0.0130],\n",
      "        [0.0655],\n",
      "        [0.0655],\n",
      "        ...,\n",
      "        [0.0501],\n",
      "        [0.0502],\n",
      "        [0.0502]], grad_fn=<MmBackward0>)\n"
     ]
    }
   ],
   "source": [
    "# Test our networks\n",
    "out = clf(nn_input_train)\n",
    "print(out)"
   ]
  },
  {
   "cell_type": "code",
   "execution_count": 9,
   "metadata": {},
   "outputs": [],
   "source": [
    "# Construct loss function for learning\n",
    "criterion = nn.MSELoss()\n",
    "# Construct the optimizer (Stochastic Gradient Descent in this case)\n",
    "optimizer = torch.optim.SGD(clf.parameters(), lr = 0.3)"
   ]
  },
  {
   "cell_type": "code",
   "execution_count": 10,
   "metadata": {},
   "outputs": [
    {
     "name": "stdout",
     "output_type": "stream",
     "text": [
      "epoch:  0  loss:  0.27765217423439026\n",
      "epoch:  1  loss:  0.23957954347133636\n",
      "epoch:  2  loss:  0.19250613451004028\n",
      "epoch:  3  loss:  0.13973428308963776\n",
      "epoch:  4  loss:  0.08984465152025223\n",
      "epoch:  5  loss:  0.05286288633942604\n",
      "epoch:  6  loss:  0.03248463198542595\n",
      "epoch:  7  loss:  0.0241682305932045\n",
      "epoch:  8  loss:  0.021442648023366928\n",
      "epoch:  9  loss:  0.02054711990058422\n",
      "epoch:  10  loss:  0.020125625655055046\n",
      "epoch:  11  loss:  0.019813548773527145\n",
      "epoch:  12  loss:  0.019528241828083992\n",
      "epoch:  13  loss:  0.019252663478255272\n",
      "epoch:  14  loss:  0.01898345723748207\n",
      "epoch:  15  loss:  0.01871991530060768\n",
      "epoch:  16  loss:  0.01846183091402054\n",
      "epoch:  17  loss:  0.018209073692560196\n",
      "epoch:  18  loss:  0.017961515113711357\n",
      "epoch:  19  loss:  0.01771903596818447\n",
      "epoch:  20  loss:  0.01748151332139969\n",
      "epoch:  21  loss:  0.01724882796406746\n",
      "epoch:  22  loss:  0.01702086441218853\n",
      "epoch:  23  loss:  0.016797499731183052\n",
      "epoch:  24  loss:  0.016578616574406624\n",
      "epoch:  25  loss:  0.01636410318315029\n",
      "epoch:  26  loss:  0.016153845936059952\n",
      "epoch:  27  loss:  0.015947740525007248\n",
      "epoch:  28  loss:  0.015745671465992928\n",
      "epoch:  29  loss:  0.015547534450888634\n",
      "epoch:  30  loss:  0.015353224240243435\n",
      "epoch:  31  loss:  0.015162642113864422\n",
      "epoch:  32  loss:  0.014975691214203835\n",
      "epoch:  33  loss:  0.01479227002710104\n",
      "epoch:  34  loss:  0.014612286351621151\n",
      "epoch:  35  loss:  0.014435646124184132\n",
      "epoch:  36  loss:  0.014262260869145393\n",
      "epoch:  37  loss:  0.014092043973505497\n",
      "epoch:  38  loss:  0.013924908824265003\n",
      "epoch:  39  loss:  0.013760775327682495\n",
      "epoch:  40  loss:  0.013599557802081108\n",
      "epoch:  41  loss:  0.013441181741654873\n",
      "epoch:  42  loss:  0.013285569846630096\n",
      "epoch:  43  loss:  0.01313264574855566\n",
      "epoch:  44  loss:  0.012982342392206192\n",
      "epoch:  45  loss:  0.012834587134420872\n",
      "epoch:  46  loss:  0.012689311988651752\n",
      "epoch:  47  loss:  0.012546448968350887\n",
      "epoch:  48  loss:  0.012405937537550926\n",
      "epoch:  49  loss:  0.012267714366316795\n",
      "epoch:  50  loss:  0.01213171798735857\n",
      "epoch:  51  loss:  0.011997891589999199\n",
      "epoch:  52  loss:  0.011866176500916481\n",
      "epoch:  53  loss:  0.011736520566046238\n",
      "epoch:  54  loss:  0.011608866974711418\n",
      "epoch:  55  loss:  0.011483166366815567\n",
      "epoch:  56  loss:  0.011359368450939655\n",
      "epoch:  57  loss:  0.011237421073019505\n",
      "epoch:  58  loss:  0.011117282323539257\n",
      "epoch:  59  loss:  0.010998902842402458\n",
      "epoch:  60  loss:  0.010882239788770676\n",
      "epoch:  61  loss:  0.010767248459160328\n",
      "epoch:  62  loss:  0.010653888806700706\n",
      "epoch:  63  loss:  0.010542118921875954\n",
      "epoch:  64  loss:  0.01043190062046051\n",
      "epoch:  65  loss:  0.010323195718228817\n",
      "epoch:  66  loss:  0.010215967893600464\n",
      "epoch:  67  loss:  0.010110179893672466\n",
      "epoch:  68  loss:  0.010005799122154713\n",
      "epoch:  69  loss:  0.009902791120111942\n",
      "epoch:  70  loss:  0.00980112049728632\n",
      "epoch:  71  loss:  0.009700760245323181\n",
      "epoch:  72  loss:  0.009601679630577564\n",
      "epoch:  73  loss:  0.009503844194114208\n",
      "epoch:  74  loss:  0.009407230652868748\n",
      "epoch:  75  loss:  0.009311807341873646\n",
      "epoch:  76  loss:  0.009217549115419388\n",
      "epoch:  77  loss:  0.009124429896473885\n",
      "epoch:  78  loss:  0.009032424539327621\n",
      "epoch:  79  loss:  0.008941507898271084\n",
      "epoch:  80  loss:  0.008851655758917332\n",
      "epoch:  81  loss:  0.008762846700847149\n",
      "epoch:  82  loss:  0.008675056509673595\n",
      "epoch:  83  loss:  0.008588265627622604\n",
      "epoch:  84  loss:  0.00850245077162981\n",
      "epoch:  85  loss:  0.008417594246566296\n",
      "epoch:  86  loss:  0.008333674632012844\n",
      "epoch:  87  loss:  0.008250673301517963\n",
      "epoch:  88  loss:  0.008168571628630161\n",
      "epoch:  89  loss:  0.00808735191822052\n",
      "epoch:  90  loss:  0.008006996475160122\n",
      "epoch:  91  loss:  0.007927491329610348\n",
      "epoch:  92  loss:  0.007848817855119705\n",
      "epoch:  93  loss:  0.007770959287881851\n",
      "epoch:  94  loss:  0.007693902589380741\n",
      "epoch:  95  loss:  0.007617632858455181\n",
      "epoch:  96  loss:  0.007542134262621403\n",
      "epoch:  97  loss:  0.007467395160347223\n",
      "epoch:  98  loss:  0.007393400650471449\n",
      "epoch:  99  loss:  0.00732013862580061\n"
     ]
    }
   ],
   "source": [
    "for e in range(epoch):\n",
    "   # Forward pass: Compute predicted y by passing x to the model\n",
    "   y_pred = clf(nn_input_train)\n",
    "\n",
    "   # Compute and print loss\n",
    "   loss = criterion(y_pred, y_train)\n",
    "   print('epoch: ', e,' loss: ', loss.item())\n",
    "\n",
    "   # Zero gradients, perform a backward pass, and update the weights.\n",
    "   optimizer.zero_grad()\n",
    "\n",
    "   # perform a backward pass (backpropagation)\n",
    "   loss.backward()\n",
    "\n",
    "   # Update the parameters\n",
    "   optimizer.step()"
   ]
  },
  {
   "cell_type": "code",
   "execution_count": 11,
   "metadata": {},
   "outputs": [
    {
     "name": "stdout",
     "output_type": "stream",
     "text": [
      "Parameter containing:\n",
      "tensor([[-0.1816, -0.3970,  0.2218, -0.3334],\n",
      "        [-0.1384, -0.2593, -0.0457, -0.3188],\n",
      "        [-0.4169,  0.1861,  0.1907, -0.0549],\n",
      "        [ 0.2951,  0.1918,  0.2827,  0.1933]], requires_grad=True)\n",
      "Parameter containing:\n",
      "tensor([[ 0.2458,  0.2147, -0.2942,  0.4700],\n",
      "        [ 0.1066, -0.2126,  0.0815, -0.4010],\n",
      "        [-0.3476, -0.3380,  0.4526,  0.4568],\n",
      "        [-0.0915, -0.4473,  0.0522, -0.0529]], requires_grad=True)\n",
      "Parameter containing:\n",
      "tensor([[ 0.5313, -0.4704,  0.1748,  0.5134],\n",
      "        [-0.2510, -0.3312,  0.6401, -0.0119],\n",
      "        [-0.0512, -0.4102, -0.8125, -0.2464],\n",
      "        [-0.0380, -0.3080,  0.3802, -0.3161]], requires_grad=True)\n",
      "Parameter containing:\n",
      "tensor([[ 0.4938,  0.6940, -0.8279,  0.2569]], requires_grad=True)\n",
      "tensor([[0.3593],\n",
      "        [0.3610],\n",
      "        [0.3582],\n",
      "        ...,\n",
      "        [0.0042],\n",
      "        [0.0038],\n",
      "        [0.0037]], grad_fn=<MmBackward0>)\n",
      " loss:  0.002541043097153306\n"
     ]
    }
   ],
   "source": [
    "for param in clf.parameters():\n",
    "   print(param)\n",
    "\n",
    "# Loss testing\n",
    "y_pred_test = clf(nn_input_test)\n",
    "print(y_pred_test)\n",
    "loss = criterion(y_pred_test, y_test)\n",
    "print(' loss: ', loss.item())"
   ]
  },
  {
   "cell_type": "code",
   "execution_count": 12,
   "metadata": {},
   "outputs": [
    {
     "name": "stdout",
     "output_type": "stream",
     "text": [
      "tensor([[0.3593],\n",
      "        [0.3610],\n",
      "        [0.3582],\n",
      "        ...,\n",
      "        [0.0042],\n",
      "        [0.0038],\n",
      "        [0.0037]], grad_fn=<MmBackward0>)\n"
     ]
    },
    {
     "data": {
      "image/png": "[encoded data removed]",
      "text/plain": [
       "<Figure size 432x288 with 1 Axes>"
      ]
     },
     "metadata": {
      "needs_background": "light"
     },
     "output_type": "display_data"
    }
   ],
   "source": [
    "import matplotlib.pyplot as plt\n",
    "nn_input_test = nn_input_test.detach().numpy()\n",
    "\n",
    "y_pred_test_detach = y_pred_test.detach().numpy()\n",
    "\n",
    "y_test = y_test.detach().numpy()\n",
    "# plt.plot(nn_input_test, label='input value')\n",
    "plt.plot(y_pred_test_detach, label='predicted value')\n",
    "plt.plot(y_test, label='real value')\n",
    "leg = plt.legend()\n",
    "\n",
    "print(y_pred_test)"
   ]
  },
  {
   "cell_type": "code",
   "execution_count": 13,
   "metadata": {},
   "outputs": [
    {
     "name": "stdout",
     "output_type": "stream",
     "text": [
      "('layer_stack.hidden_layer_0.weight', Parameter containing:\n",
      "tensor([[-0.1816, -0.3970,  0.2218, -0.3334],\n",
      "        [-0.1384, -0.2593, -0.0457, -0.3188],\n",
      "        [-0.4169,  0.1861,  0.1907, -0.0549],\n",
      "        [ 0.2951,  0.1918,  0.2827,  0.1933]], requires_grad=True))\n",
      "('layer_stack.hidden_layer_1.weight', Parameter containing:\n",
      "tensor([[ 0.2458,  0.2147, -0.2942,  0.4700],\n",
      "        [ 0.1066, -0.2126,  0.0815, -0.4010],\n",
      "        [-0.3476, -0.3380,  0.4526,  0.4568],\n",
      "        [-0.0915, -0.4473,  0.0522, -0.0529]], requires_grad=True))\n",
      "('layer_stack.hidden_layer_2.weight', Parameter containing:\n",
      "tensor([[ 0.5313, -0.4704,  0.1748,  0.5134],\n",
      "        [-0.2510, -0.3312,  0.6401, -0.0119],\n",
      "        [-0.0512, -0.4102, -0.8125, -0.2464],\n",
      "        [-0.0380, -0.3080,  0.3802, -0.3161]], requires_grad=True))\n",
      "('layer_stack.output_layer.weight', Parameter containing:\n",
      "tensor([[ 0.4938,  0.6940, -0.8279,  0.2569]], requires_grad=True))\n"
     ]
    }
   ],
   "source": [
    "# Check weight\n",
    "params = clf.named_parameters()\n",
    "\n",
    "for p in params:\n",
    "    print(p)"
   ]
  },
  {
   "cell_type": "markdown",
   "metadata": {},
   "source": [
    "### 6. Transform NN Weights to Transfer Function"
   ]
  },
  {
   "cell_type": "markdown",
   "metadata": {},
   "source": [
    "In here, we define an NN2TF algorithm. Based on the reference paper, the parameter $a_{j}$ and $b_{i}$ can be estimated by\n",
    "\n",
    "$$a_{j} = (\\sum_{h=1}^H (wout_{h}v_{jh}))$$\n",
    "\n",
    "$$b_{i} = (\\sum_{h=1}^H (wout_{h}w_{ih}))$$\n",
    "\n",
    "For tanh activation function."
   ]
  },
  {
   "cell_type": "code",
   "execution_count": 14,
   "metadata": {},
   "outputs": [
    {
     "name": "stdout",
     "output_type": "stream",
     "text": [
      "wout :  [[ 0.4937596   0.69395536 -0.82785094  0.2569408 ]]\n",
      "w_hidden :  [[-0.18156643 -0.39702338  0.22181033 -0.33336785]\n",
      " [-0.13844931 -0.2593085  -0.04569519 -0.31883627]\n",
      " [-0.41686112  0.18612272  0.19070208 -0.05490927]\n",
      " [ 0.2951307   0.19176437  0.28271168  0.19329816]]\n",
      "[[ 0.23520218 -0.48079237 -0.00742217 -0.29073882]]\n",
      "w_hidden :  [[ 0.24576595  0.21468757 -0.29420993  0.469956  ]\n",
      " [ 0.1065579  -0.21259223  0.08149514 -0.40096304]\n",
      " [-0.34757522 -0.33798665  0.4525755   0.45677227]\n",
      " [-0.09145127 -0.4473172   0.05216832 -0.05293814]]\n",
      "[[ 0.69474082 -0.35744932 -0.45739808 -0.72868529]]\n",
      "w_hidden :  [[ 0.53130066 -0.47041947  0.17481987  0.51342124]\n",
      " [-0.25099543 -0.33121866  0.6400511  -0.01188512]\n",
      " [-0.05116581 -0.41019574 -0.8124677  -0.24638972]\n",
      " [-0.03795148 -0.30796766  0.38016725 -0.31614786]]\n",
      "[[ 0.81550235 -0.55912296  0.84337053 -0.36068371]]\n",
      "[[ 0.81550235 -0.55912296  0.84337053 -0.36068371]]\n"
     ]
    }
   ],
   "source": [
    "def nn2tf(nn, hidden_layer, inp_order, target_order):\n",
    "    regressor = np.zeros((1, inp_order+target_order+1))\n",
    "    wout = nn.state_dict()['layer_stack.output_layer.weight']\n",
    "    wout = wout.numpy()\n",
    "    print('wout : ', wout)\n",
    "    # print(wout.size())\n",
    "    params = nn.named_parameters()\n",
    "    i = 0\n",
    "    for p in params:\n",
    "        # print(p)\n",
    "\n",
    "        w_hidden = nn.state_dict()['layer_stack.hidden_layer_{}.weight'.format(i)]\n",
    "        w_hidden = w_hidden.numpy()\n",
    "        print('w_hidden : ', w_hidden)\n",
    "        # Update regressor\n",
    "        regressor = regressor + (wout @ w_hidden)\n",
    "        print(regressor)\n",
    "\n",
    "        i = i + 1\n",
    "        if i == hidden_layer :\n",
    "            break\n",
    "    \n",
    "    # regressor = regressor * 0.5\n",
    "    return regressor\n",
    "\n",
    "\n",
    "regressor = nn2tf(clf, hidden_layer, inp_order, out_order)\n",
    "print(regressor)"
   ]
  },
  {
   "cell_type": "code",
   "execution_count": 15,
   "metadata": {},
   "outputs": [],
   "source": [
    "# Stabilize pole, use if there are unstable pole\n",
    "\n",
    "# for i in range(inp_order + 1, len(regressor[0])):\n",
    "#     print(i)\n",
    "#     while abs(regressor[0][i]) > 1:\n",
    "#         regressor[0][i]= regressor[0][i] * 0.9\n",
    "#         # print(regressor[0][i])\n",
    "#         print(regressor)\n"
   ]
  },
  {
   "cell_type": "code",
   "execution_count": 16,
   "metadata": {},
   "outputs": [],
   "source": [
    "# # Calculate estimated output from our model\n",
    "y_pred = np.zeros((len(output_tensor),1))\n",
    "\n",
    "nn_input_detach = nn_input.detach().numpy()\n",
    "\n",
    "# for i in range(len(output_tensor)):\n",
    "#     for j in range (len(regressor)):\n",
    "#         y_pred[i] += regressor[0][j] * nn_input_detach[i][j]\n",
    "   "
   ]
  },
  {
   "cell_type": "code",
   "execution_count": 17,
   "metadata": {},
   "outputs": [],
   "source": [
    "# # Plot estimated output\n",
    "\n",
    "# print(y_pred)\n",
    "# plt.plot(y_pred, label='estimated value')\n",
    "# plt.plot(output_tensor, label='real value')\n",
    "# leg = plt.legend()\n"
   ]
  },
  {
   "cell_type": "code",
   "execution_count": 18,
   "metadata": {},
   "outputs": [],
   "source": [
    " # Calculate estimated output from our model\n",
    "for i in range(len(output_tensor)):\n",
    "    if i == 0 :\n",
    "        y_pred[i] = regressor[0][0] * nn_input_detach[i][0]\n",
    "        continue\n",
    "    \n",
    "    # Fill y(k-1)\n",
    "    if i >= 1 :\n",
    "        nn_input_detach[i][2] = y_pred[i-1]\n",
    "    \n",
    "        # Fill y(k-2)\n",
    "    if i >=2 :\n",
    "        nn_input_detach[i][3] = y_pred[i-2]\n",
    "\n",
    "    for j in range (len(regressor)):\n",
    "        y_pred[i] += regressor[0][j] * nn_input_detach[i][j]"
   ]
  },
  {
   "cell_type": "code",
   "execution_count": 19,
   "metadata": {},
   "outputs": [
    {
     "name": "stdout",
     "output_type": "stream",
     "text": [
      "[[0.40775117]\n",
      " [0.40775117]\n",
      " [0.40775117]\n",
      " ...\n",
      " [0.        ]\n",
      " [0.        ]\n",
      " [0.        ]]\n"
     ]
    },
    {
     "data": {
      "image/png": "[encoded data removed]",
      "text/plain": [
       "<Figure size 432x288 with 1 Axes>"
      ]
     },
     "metadata": {
      "needs_background": "light"
     },
     "output_type": "display_data"
    }
   ],
   "source": [
    "# Plot estimated output\n",
    "\n",
    "print(y_pred)\n",
    "plt.plot(y_pred, label='estimated value')\n",
    "plt.plot(output_tensor, label='real value')\n",
    "leg = plt.legend()"
   ]
  }
 ],
 "metadata": {
  "kernelspec": {
   "display_name": "Python 3.9.9 64-bit",
   "language": "python",
   "name": "python3"
  },
  "language_info": {
   "codemirror_mode": {
    "name": "ipython",
    "version": 3
   },
   "file_extension": ".py",
   "mimetype": "text/x-python",
   "name": "python",
   "nbconvert_exporter": "python",
   "pygments_lexer": "ipython3",
   "version": "3.9.9"
  },
  "orig_nbformat": 4,
  "vscode": {
   "interpreter": {
    "hash": "3021318854d23d1a95aba9536e4a65bc49265228afa1e057d18b531ce801e329"
   }
  }
 },
 "nbformat": 4,
 "nbformat_minor": 2
}
